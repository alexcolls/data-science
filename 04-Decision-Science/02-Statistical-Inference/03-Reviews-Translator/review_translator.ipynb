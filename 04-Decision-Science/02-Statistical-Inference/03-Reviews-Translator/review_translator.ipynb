{
 "cells": [
  {
   "cell_type": "markdown",
   "metadata": {},
   "source": [
    "# (Optional) Olist reviews' - Translations...\n",
    "\n",
    "* Unless you speak 🇧🇷 Brazilian Portuguese, let's translate the `order_reviews` in 🇬🇧 English !\n",
    "\n",
    "* You will need to install  `pip install googletrans==4.0.0-rc1`"
   ]
  },
  {
   "cell_type": "markdown",
   "metadata": {},
   "source": [
    "☢️ If you have any problem with this API, don't waste time fixing it, this package is quite unstable... Keep it mind that:\n",
    "- it is an optional challenge\n",
    "- you can still do it the old way, copy-pasting some reviews in Google Translate to get a sense of what the reviews written in Brazilian Portuguese mean."
   ]
  },
  {
   "cell_type": "markdown",
   "metadata": {},
   "source": [
    "## Review Translator"
   ]
  },
  {
   "cell_type": "markdown",
   "metadata": {},
   "source": [
    "👉 Load the `reviews` and select a sample of rewiews associated to a one-star rating"
   ]
  },
  {
   "cell_type": "code",
   "execution_count": null,
   "metadata": {},
   "outputs": [],
   "source": [
    "# Load data \n",
    "from olist.data import Olist\n",
    "data = Olist().get_data()"
   ]
  },
  {
   "cell_type": "markdown",
   "metadata": {},
   "source": [
    "👀 Select a sample of 20 low scores reviews (randomly) and convert it into a list."
   ]
  },
  {
   "cell_type": "code",
   "execution_count": null,
   "metadata": {
    "tags": [
     "challengify"
    ]
   },
   "outputs": [],
   "source": [
    "# YOUR CODE HERE"
   ]
  },
  {
   "cell_type": "markdown",
   "metadata": {},
   "source": [
    "🗣 Translate these reviews using the `google_translator` package you've previously installed before starting this challenge:"
   ]
  },
  {
   "cell_type": "code",
   "execution_count": null,
   "metadata": {
    "tags": [
     "challengify"
    ]
   },
   "outputs": [],
   "source": [
    "# YOUR CODE HERE"
   ]
  },
  {
   "cell_type": "markdown",
   "metadata": {},
   "source": [
    "**Insights** 💡\n",
    "- Some bad reviews are linked to the delivery (`wait_time`, missed deadline,  etc...)\n",
    "- But some bad reviews are linked to the seller or the product...\n",
    "\n",
    "How can we differentiate between the two possible causes?\n",
    "\n",
    "That's something important Olist needs to know:\n",
    "- should we remove some products from the catalogue?\n",
    "- or remove some sellers from their marketplace?\n",
    "\n",
    "🗓 Agenda:\n",
    "\n",
    "* 👀 We still have 3 days to analyse Olist, and you can continue later after the bootcamp to practice your data analyst skills\n",
    "\n",
    "* 🗣 We will run some `Natural Language Processing` algorithms on the Day 10 of Machine Learning to extract some information about these reviews\n"
   ]
  }
 ],
 "metadata": {
  "kernelspec": {
   "display_name": "Python 3",
   "language": "python",
   "name": "python3"
  }
 },
 "nbformat": 4,
 "nbformat_minor": 4
}
