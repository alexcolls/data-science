{
 "cells": [
  {
   "cell_type": "markdown",
   "metadata": {},
   "source": [
    "# The `Bayes Theorem` (Optional Challenge)"
   ]
  },
  {
   "cell_type": "code",
   "execution_count": null,
   "metadata": {},
   "outputs": [],
   "source": [
    "import pandas as pd\n",
    "import numpy as np"
   ]
  },
  {
   "cell_type": "markdown",
   "metadata": {},
   "source": [
    "Do you remember this theorem covered during the lecture ? \n",
    "\n",
    "* The Bayes Theorem allows you to compute `a conditional probability`.\n",
    "* It is widely used in Machine Learning to `update your knowledge`\n",
    "* Despite its pretty simple formula, it can `highlight unexpected insights`\n",
    "\n",
    "🧑🏻‍🏫 What is the `Bayes Theorem` ? According to [Brilliant](https://brilliant.org/wiki/bayes-theorem/) :\n",
    "\n",
    "> Bayes' theorem is a formula that describes how to update the probabilities of hypotheses (A) when given evidence (Data).\n",
    "\n",
    "\n",
    "🧮 The formula is the following:\n",
    "\n",
    "$$ \\mathbb{P}(A | Data) =  \\mathbb{P}(A) \\times \\frac{\\mathbb{P}(Data | A) }{\\mathbb{P}(Data)}$$"
   ]
  },
  {
   "cell_type": "markdown",
   "metadata": {},
   "source": [
    "## 0) Challenge context: Should we play sport outside expecting some weather conditions ?"
   ]
  },
  {
   "cell_type": "markdown",
   "metadata": {},
   "source": [
    "* In this challenge, we'll try to recompute this formula.\n",
    "\n",
    "* We have a dataset with `weather conditions` (Rain, Sunny, Overcast) and `play` (Yes, No) suggesting whether a sport game should be played based on the weather conditions."
   ]
  },
  {
   "cell_type": "code",
   "execution_count": null,
   "metadata": {},
   "outputs": [],
   "source": [
    "weather_data_example = ['Sunny', 'Overcast', 'Rainy', 'Sunny', 'Sunny', 'Overcast', 'Rainy', 'Rainy', 'Sunny',\n",
    "'Rainy', 'Sunny', 'Overcast', 'Overcast', 'Rainy']\n",
    "\n",
    "play_data_example = ['No', 'Yes', 'Yes', 'Yes', 'Yes', 'Yes', 'No', 'No', 'Yes', 'Yes', 'No', 'Yes', 'Yes', 'No']\n",
    "\n",
    "data = {'weather': weather_data_example, 'play': play_data_example}\n",
    "\n",
    "df = pd.DataFrame(data = data)\n",
    "df"
   ]
  },
  {
   "cell_type": "markdown",
   "metadata": {},
   "source": [
    "🚀 Let's compute $ \\large P(play \\mid weather) = P(play) \\times \\frac{P(weather \\mid play)}{P(weather)} $"
   ]
  },
  {
   "cell_type": "markdown",
   "metadata": {},
   "source": [
    "## 1) Warm-up : understanding the numbers with a `frequency table`"
   ]
  },
  {
   "cell_type": "markdown",
   "metadata": {},
   "source": [
    "✍️ Grab a pen + a piece of paper and complete the **`frequency table`**:\n",
    "\n",
    "| Weather  | Played | No | Total |\n",
    "|----------|------|----|-------|\n",
    "| Sunny    |     |   |      |\n",
    "| Overcast |     |   |      |\n",
    "| Rainy    |     |   |      |\n",
    "| Total    |     |   |   14  |\n",
    "\n",
    "<details>\n",
    "    <summary>Answer here</summary>\n",
    "    \n",
    "| Weather  | Played | No | Total |\n",
    "|----------|------|----|-------|\n",
    "| Sunny    | 3    | 2  | 5     |\n",
    "| Overcast | 4    | 0  | 4     |\n",
    "| Rainy    | 2    | 3  | 5     |\n",
    "| Total    | 9    | 5  | 14    |     \n",
    "</details>"
   ]
  },
  {
   "cell_type": "markdown",
   "metadata": {},
   "source": [
    "## 2) Prior probability : $ \\mathbb{P}(play)$"
   ]
  },
  {
   "cell_type": "markdown",
   "metadata": {},
   "source": [
    "🤔 What is the theoretical probability of a game being played ❓\n",
    "\n",
    "Look at the numbers in your previous table.\n",
    "\n",
    "<details>\n",
    "    <summary>Answer</summary>\n",
    "    \n",
    "| Weather  | Played | No | Total |\n",
    "|----------|------|----|-------|\n",
    "| Total    | 9    | 5  | 14    |     \n",
    "    \n",
    "$ \\mathbb{P}(played) = \\frac{9}{14} = 64.29 \\% $\n",
    "</details>"
   ]
  },
  {
   "cell_type": "markdown",
   "metadata": {},
   "source": [
    "👩🏻‍💻 Code the `prior_probability` function to compute the result."
   ]
  },
  {
   "cell_type": "code",
   "execution_count": null,
   "metadata": {},
   "outputs": [],
   "source": [
    "def prior_probability(played: str, play_data: list) -> float:\n",
    "    '''\n",
    "    Returns P(played)\n",
    "    '''\n",
    "    pass  # YOUR CODE HERE\n",
    "    \n",
    "# 👀 Run the following to test your code.\n",
    "# If nothing shows, your function works. Otherwise, inspect your code to fix it!\n",
    "assert(round(prior_probability(\"Yes\", play_data_example),4) == 0.6429)"
   ]
  },
  {
   "cell_type": "markdown",
   "metadata": {},
   "source": [
    "☝️ FYI: These strange notations\n",
    "```python\n",
    "def prior_probability(played: bool, play_data: list) -> float:\n",
    "```\n",
    "are called **typing hints**\n",
    "\n",
    "They are optional in python, and used to let the reader know what type of arguments and output the function should accept/return. \n",
    "\n",
    "There also exist python libraries that enforce respect for these types, and raise error when not. \n",
    "It's a good practice to use these hits in very large projects to make sure nothing breaks silently.\n",
    "\n"
   ]
  },
  {
   "cell_type": "markdown",
   "metadata": {},
   "source": [
    "## 3) Likelihood :  $ \\mathbb{P}(weather | play)$"
   ]
  },
  {
   "cell_type": "markdown",
   "metadata": {},
   "source": [
    "🤔 What is the theoretical probability of the weather being rainy knowing that a game was NOT played ❓\n",
    "\n",
    "Look at the numbers in your previous table.\n",
    "\n",
    "<details>\n",
    "    <summary>Answer</summary>\n",
    "    \n",
    "| Weather  | No | \n",
    "|----------|----|\n",
    "| Sunny    | 2  | \n",
    "| Overcast | 0  | \n",
    "| Rainy    | 3  | \n",
    "| Total    | 5  |         \n",
    "    \n",
    "$ \\mathbb{P}(play) = \\frac{3}{5} = 60 \\% $\n",
    "</details>"
   ]
  },
  {
   "cell_type": "code",
   "execution_count": null,
   "metadata": {},
   "outputs": [],
   "source": [
    "def likelihood(weather, played, weather_data, play_data):\n",
    "    '''TO DO: return P(weather|play)'''\n",
    "    pass  # YOUR CODE HERE   \n",
    "\n",
    "# 👀 Run the following to test your code.\n",
    "# If nothing shows, your function works. Otherwise, inspect your code to fix it!\n",
    "assert(likelihood(\"Rainy\", \"No\", weather_data_example, play_data_example) == 0.60)"
   ]
  },
  {
   "cell_type": "markdown",
   "metadata": {},
   "source": [
    "## 4) Posterior probability : $ \\large P(play \\mid weather ) = P(play) \\times \\frac{P(weather \\mid play)}{P(weather)} $"
   ]
  },
  {
   "cell_type": "markdown",
   "metadata": {},
   "source": [
    "🔥 We can finally compute the posterior probability as: \n",
    "\n",
    "$$\\large \\text{posterior probability} = \\text{prior probability} \\times \\text{likelihood} \\times \\beta $$ \n",
    "\n",
    "where $ \\large \\beta = \\frac{1}{P(weather)} $ is _normalization factor_.\n",
    " \n",
    "<details>\n",
    "    <summary>Expected results</summary>\n",
    "\n",
    "Remember the table that you completed earlier ? \n",
    "\n",
    "| Weather  | Played | No | Total |\n",
    "|----------|------|----|-------|\n",
    "| Sunny    | 3    | 2  | 5     |\n",
    "| Overcast | 4    | 0  | 4     |\n",
    "| Rainy    | 2    | 3  | 5     |\n",
    "| Total    | 9    | 5  | 14    |   \n",
    "    \n",
    "Based on this table, we can compute $ \\mathbb{P}(played | weather) $\n",
    "    \n",
    "| Weather  | Proba(Played\\|Weather) | Proba(No\\|Weather) |\n",
    "|----------|----------------------|--------------------|\n",
    "| Sunny    | 0.6                  | 0.4                |\n",
    "| Overcast | 1.0                  | 0.0                |\n",
    "| Rainy    | 0.4                  | 0.6                |\n",
    "    \n",
    "</details>"
   ]
  },
  {
   "cell_type": "code",
   "execution_count": null,
   "metadata": {},
   "outputs": [],
   "source": [
    "def posterior_probability(played, weather, weather_data, play_data):\n",
    "    '''TO DO: return P(play|weather)\n",
    "    '''\n",
    "    pass  # YOUR CODE HERE"
   ]
  },
  {
   "cell_type": "code",
   "execution_count": null,
   "metadata": {},
   "outputs": [],
   "source": [
    "# 👀 Run the following cell to test your code\n",
    "assert(posterior_probability(\"Yes\", \"Sunny\", weather_data_example, play_data_example)==0.6)\n",
    "assert(posterior_probability(\"No\", \"Sunny\", weather_data_example, play_data_example)==0.4)\n",
    "assert(posterior_probability(\"Yes\", \"Overcast\", weather_data_example, play_data_example)==1.0)\n",
    "assert(posterior_probability(\"No\", \"Overcast\", weather_data_example, play_data_example)==0)\n",
    "assert(round(posterior_probability(\"Yes\", \"Rainy\", weather_data_example, play_data_example),1)==0.4)\n",
    "assert(posterior_probability(\"No\", \"Rainy\", weather_data_example, play_data_example)==0.6)"
   ]
  },
  {
   "cell_type": "markdown",
   "metadata": {},
   "source": [
    "## 5) Taking a step back to understand what you've done"
   ]
  },
  {
   "cell_type": "markdown",
   "metadata": {},
   "source": [
    "Thanks to what you’ve learned in this challenge, could you answer these questions :\n",
    "\n",
    "1. _\"Matches are more likely to be played than not if the weather is sunny\"_ 👉 Is this statement correct ?\n",
    "2. If you know for sure that it will be raining during the next game 🤔, what is your best guess (probability) that the game will be canceled ?"
   ]
  },
  {
   "cell_type": "code",
   "execution_count": null,
   "metadata": {
    "tags": [
     "challengify"
    ]
   },
   "outputs": [],
   "source": [
    "# YOUR CODE HERE"
   ]
  },
  {
   "cell_type": "markdown",
   "metadata": {},
   "source": [
    "🏁 Congrats, you have a better idea of how the `Bayes formula` work !\n",
    "\n",
    "💾 Do not forget to `git add/commit/push` your notebook\n",
    "\n",
    "📆 We will revisit this concept again during the modules of :\n",
    "* `Decision Science - Inferential Stastistics`\n",
    "* `Machine Learning - Performance Metrics - Confusion Matrix`\n",
    "* `Natural Language Processinsg`\n",
    "\n",
    "\n",
    "▶️ If you are curious and/or impatient, you can already watch the [15-min Youtube video from 3Blue1Brown](https://www.youtube.com/watch?v=HZGCoVF3YvM) that we already mentioned in the lecture."
   ]
  }
 ],
 "metadata": {
  "kernelspec": {
   "display_name": "Python 3",
   "language": "python",
   "name": "python3"
  }
 },
 "nbformat": 4,
 "nbformat_minor": 5
}
