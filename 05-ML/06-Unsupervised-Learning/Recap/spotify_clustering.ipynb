{
 "cells": [
  {
   "cell_type": "markdown",
   "metadata": {
    "id": "IKnWkHVG4Fbq"
   },
   "source": [
    "# Spotify Challenge - Clustering songs- Unsupervised Learning"
   ]
  },
  {
   "cell_type": "markdown",
   "metadata": {},
   "source": [
    "🎯 The goal of this recap is to **cluster songs** using the **KMeans _(clustering algorithm)_** with a **PCA _(dimensionality reduction)_**"
   ]
  },
  {
   "cell_type": "code",
   "execution_count": null,
   "metadata": {
    "executionInfo": {
     "elapsed": 8975,
     "status": "ok",
     "timestamp": 1620776540243,
     "user": {
      "displayName": "Davy W",
      "photoUrl": "https://lh3.googleusercontent.com/a-/AOh14GikpfvF6ciO03U9wu6upZcnxF3ZWjP-0L9AmJ_P_w=s64",
      "userId": "17867856157297418309"
     },
     "user_tz": -120
    },
    "id": "RBZgnTGM330h"
   },
   "outputs": [],
   "source": [
    "# Data Manipulation\n",
    "import numpy as np\n",
    "import pandas as pd\n",
    "pd.set_option('display.max_columns', None)\n",
    "\n",
    "# Data Visualisation\n",
    "import matplotlib.pyplot as plt\n",
    "import seaborn as sns\n",
    "import plotly.express as px\n",
    "\n",
    "# Pipeline and Column Transformers\n",
    "from sklearn.pipeline import Pipeline\n",
    "from sklearn.compose import ColumnTransformer, make_column_selector\n",
    "from sklearn import set_config\n",
    "set_config(display = \"diagram\")\n",
    "\n",
    "# Scaling\n",
    "from sklearn.preprocessing import RobustScaler, StandardScaler, MinMaxScaler\n",
    "\n",
    "# Cross Validation\n",
    "from sklearn.model_selection import cross_validate\n",
    "from sklearn.model_selection import cross_val_predict\n",
    "\n",
    "# Unsupervised Learning\n",
    "from sklearn.decomposition import PCA\n",
    "from sklearn.cluster import KMeans \n",
    "\n",
    "# STATISTICS\n",
    "from statsmodels.graphics.gofplots import qqplot\n",
    "# This function plots your sample against a Normal distribution, \n",
    "# to see whether your sample is normally distributed or not"
   ]
  },
  {
   "cell_type": "markdown",
   "metadata": {
    "id": "Isttjguc330r"
   },
   "source": [
    "## (1) The Spotify Dataset"
   ]
  },
  {
   "cell_type": "code",
   "execution_count": null,
   "metadata": {
    "colab": {
     "base_uri": "https://localhost:8080/",
     "height": 247
    },
    "executionInfo": {
     "elapsed": 8368,
     "status": "ok",
     "timestamp": 1620776540244,
     "user": {
      "displayName": "Davy W",
      "photoUrl": "https://lh3.googleusercontent.com/a-/AOh14GikpfvF6ciO03U9wu6upZcnxF3ZWjP-0L9AmJ_P_w=s64",
      "userId": "17867856157297418309"
     },
     "user_tz": -120
    },
    "id": "aQ8d0qbi330r",
    "outputId": "ff339c65-8141-46ba-d8cb-fc6e3f6487c4"
   },
   "outputs": [],
   "source": [
    "from sklearn.utils import shuffle\n",
    "\n",
    "spotify = shuffle(pd.read_csv('https://wagon-public-datasets.s3.amazonaws.com/Machine%20Learning%20Datasets/ML_spotify_data.csv'))\n",
    "spotify.head()"
   ]
  },
  {
   "cell_type": "markdown",
   "metadata": {},
   "source": [
    "### (1.1) Basic Info"
   ]
  },
  {
   "cell_type": "code",
   "execution_count": null,
   "metadata": {},
   "outputs": [],
   "source": [
    "spotify.info()"
   ]
  },
  {
   "cell_type": "markdown",
   "metadata": {},
   "source": [
    "### (1.2) Working on the numerical features"
   ]
  },
  {
   "cell_type": "markdown",
   "metadata": {},
   "source": [
    "🔢  Let's focus on the numerical features. Store the numerical features in a variable called `spotify_num`"
   ]
  },
  {
   "cell_type": "code",
   "execution_count": null,
   "metadata": {
    "tags": [
     "challengify"
    ]
   },
   "outputs": [],
   "source": [
    "# YOUR CODE HERE"
   ]
  },
  {
   "cell_type": "markdown",
   "metadata": {},
   "source": [
    "### (1.3) Correlations between features"
   ]
  },
  {
   "cell_type": "markdown",
   "metadata": {},
   "source": [
    "❓ Visualize the correlation matrix (`PuRd` is a nice cmap choice)"
   ]
  },
  {
   "cell_type": "code",
   "execution_count": null,
   "metadata": {
    "tags": [
     "challengify"
    ]
   },
   "outputs": [],
   "source": [
    "# YOUR CODE HERE"
   ]
  },
  {
   "cell_type": "markdown",
   "metadata": {},
   "source": [
    "### (1.4) 3D Visualisation"
   ]
  },
  {
   "cell_type": "markdown",
   "metadata": {},
   "source": [
    "🎨 Let's select 3 features of these songs and visualise them in a 3D-scatter-plot using `plotly` (📚 [plotly.express.scatter_3d](https://plotly.com/python-api-reference/generated/plotly.express.scatter_3d))"
   ]
  },
  {
   "cell_type": "code",
   "execution_count": null,
   "metadata": {},
   "outputs": [],
   "source": [
    "fig = px.scatter_3d(spotify_num, \n",
    "                    x = 'danceability',\n",
    "                    y = 'energy',\n",
    "                    z = 'speechiness',\n",
    "                    opacity=0.7, width=500, height=500\n",
    "           )\n",
    "fig.show()"
   ]
  },
  {
   "cell_type": "markdown",
   "metadata": {},
   "source": [
    "🎯 _Remember: our goal is to cluster these songs_"
   ]
  },
  {
   "cell_type": "markdown",
   "metadata": {
    "id": "guf1zR-1330_"
   },
   "source": [
    "## (2) Unsupervised Learning: Clustering"
   ]
  },
  {
   "cell_type": "markdown",
   "metadata": {},
   "source": [
    "### (2.1) Vanilla KMeans"
   ]
  },
  {
   "cell_type": "markdown",
   "metadata": {
    "id": "q2bDYCmo330_"
   },
   "source": [
    "💫 Let's try our first _Unsupervised Algorithm_ "
   ]
  },
  {
   "cell_type": "markdown",
   "metadata": {},
   "source": [
    "❓ Fit a `kmeans_vanilla` model directly on our `spotify_num`, keeping default number of clusters\n",
    "- Store its predicted labels in a variable called `labels_vanilla`"
   ]
  },
  {
   "cell_type": "code",
   "execution_count": null,
   "metadata": {},
   "outputs": [],
   "source": []
  },
  {
   "cell_type": "code",
   "execution_count": null,
   "metadata": {
    "colab": {
     "base_uri": "https://localhost:8080/",
     "height": 542
    },
    "executionInfo": {
     "elapsed": 6286,
     "status": "ok",
     "timestamp": 1620776552155,
     "user": {
      "displayName": "Davy W",
      "photoUrl": "https://lh3.googleusercontent.com/a-/AOh14GikpfvF6ciO03U9wu6upZcnxF3ZWjP-0L9AmJ_P_w=s64",
      "userId": "17867856157297418309"
     },
     "user_tz": -120
    },
    "id": "ddplh3YR331G",
    "outputId": "4f59922f-80a2-46be-9e58-ffc637a982ba"
   },
   "outputs": [],
   "source": [
    "fig = px.scatter_3d(spotify_num, \n",
    "                    x = 'danceability',\n",
    "                    y = 'energy',\n",
    "                    z = 'speechiness',\n",
    "                    color = labels_vanilla, width=500, height=500)\n",
    "fig.show()"
   ]
  },
  {
   "cell_type": "markdown",
   "metadata": {
    "id": "nnTOwGXa331H"
   },
   "source": [
    "😭 It doesn't look good at all... who would pay 10-15 euros a month to Spotify, Apple Music, Deezer, Amazon Music or Tidal for that ?"
   ]
  },
  {
   "cell_type": "markdown",
   "metadata": {
    "id": "H_MwuAJc7Km-"
   },
   "source": [
    "### (2.2) Scaling + KMeans"
   ]
  },
  {
   "cell_type": "markdown",
   "metadata": {},
   "source": [
    "🪜 Remember that the KMeans is a distance-based algorithm and that for any Machine Learning model, we should scale the features so that they start with an \"equal chance\" of impacting the predictions."
   ]
  },
  {
   "cell_type": "markdown",
   "metadata": {
    "tags": []
   },
   "source": [
    "❓ Let's take a short approach to scaling and Robust-Scale everything. "
   ]
  },
  {
   "cell_type": "code",
   "execution_count": null,
   "metadata": {
    "tags": [
     "challengify"
    ]
   },
   "outputs": [],
   "source": [
    "# YOUR CODE HERE"
   ]
  },
  {
   "cell_type": "markdown",
   "metadata": {
    "id": "s3i2khNt331H"
   },
   "source": [
    "❓ Fit the same default KMeans model number and compare results visually"
   ]
  },
  {
   "cell_type": "code",
   "execution_count": null,
   "metadata": {
    "colab": {
     "base_uri": "https://localhost:8080/"
    },
    "executionInfo": {
     "elapsed": 4165,
     "status": "ok",
     "timestamp": 1620776552159,
     "user": {
      "displayName": "Davy W",
      "photoUrl": "https://lh3.googleusercontent.com/a-/AOh14GikpfvF6ciO03U9wu6upZcnxF3ZWjP-0L9AmJ_P_w=s64",
      "userId": "17867856157297418309"
     },
     "user_tz": -120
    },
    "id": "v7Y_rouO331I",
    "outputId": "676e65d4-5e38-40e9-c3b7-5cf8c0e25474",
    "tags": [
     "challengify"
    ]
   },
   "outputs": [],
   "source": [
    "# YOUR CODE HERE"
   ]
  },
  {
   "cell_type": "code",
   "execution_count": null,
   "metadata": {
    "colab": {
     "base_uri": "https://localhost:8080/"
    },
    "executionInfo": {
     "elapsed": 4082,
     "status": "ok",
     "timestamp": 1620776552160,
     "user": {
      "displayName": "Davy W",
      "photoUrl": "https://lh3.googleusercontent.com/a-/AOh14GikpfvF6ciO03U9wu6upZcnxF3ZWjP-0L9AmJ_P_w=s64",
      "userId": "17867856157297418309"
     },
     "user_tz": -120
    },
    "id": "FjDTmm3X331J",
    "outputId": "d598f35d-5d83-44eb-bdeb-81ef5cef83b1"
   },
   "outputs": [],
   "source": [
    "labels_scaled = kmeans_scaled.labels_\n",
    "labels_scaled"
   ]
  },
  {
   "cell_type": "markdown",
   "metadata": {
    "id": "Jvesq5Fn331J"
   },
   "source": [
    "🧪Okay, our songs'clustering look better even if we can't rival yet with the datascience team at Spotify!"
   ]
  },
  {
   "cell_type": "code",
   "execution_count": null,
   "metadata": {
    "colab": {
     "base_uri": "https://localhost:8080/",
     "height": 542
    },
    "executionInfo": {
     "elapsed": 3444,
     "status": "ok",
     "timestamp": 1620776552164,
     "user": {
      "displayName": "Davy W",
      "photoUrl": "https://lh3.googleusercontent.com/a-/AOh14GikpfvF6ciO03U9wu6upZcnxF3ZWjP-0L9AmJ_P_w=s64",
      "userId": "17867856157297418309"
     },
     "user_tz": -120
    },
    "id": "LDwYyJKk331J",
    "outputId": "dfd67028-e2dc-486e-af26-0b7a94d5bd08",
    "tags": []
   },
   "outputs": [],
   "source": [
    "fig_scaled = px.scatter_3d(spotify_scaled,\n",
    "                           x = 'danceability',\n",
    "                           y = 'energy',\n",
    "                           z = 'speechiness',\n",
    "                           color = labels_scaled,\n",
    "                           width=500, height=500)\n",
    "fig_scaled.show()"
   ]
  },
  {
   "cell_type": "markdown",
   "metadata": {
    "id": "1_Rv5M9O7k4_"
   },
   "source": [
    "🤪 It is a bit better but still messy...besides, we are only looking at one specific 3D slice of our dataset here!"
   ]
  },
  {
   "cell_type": "markdown",
   "metadata": {
    "id": "GPhjFO3t7zLn"
   },
   "source": [
    "### (2.3) Scaling + PCA + KMeans"
   ]
  },
  {
   "cell_type": "markdown",
   "metadata": {
    "id": "Gt8DA0ncAG72"
   },
   "source": [
    "🧑🏻‍🏫 What if we perform a PCA before running our clustering algorithm ? We could:\n",
    "* reduce dimensionality to get a better visual feedback on our clustering\n",
    "* use the orthogonality of the principal components so that the KMeans algorithm increases its clustering power"
   ]
  },
  {
   "cell_type": "markdown",
   "metadata": {},
   "source": [
    "❓ Fit a PCA and reduce the dimensionality appropriately using the elbow method"
   ]
  },
  {
   "cell_type": "code",
   "execution_count": null,
   "metadata": {
    "colab": {
     "base_uri": "https://localhost:8080/"
    },
    "executionInfo": {
     "elapsed": 2517,
     "status": "ok",
     "timestamp": 1620776552166,
     "user": {
      "displayName": "Davy W",
      "photoUrl": "https://lh3.googleusercontent.com/a-/AOh14GikpfvF6ciO03U9wu6upZcnxF3ZWjP-0L9AmJ_P_w=s64",
      "userId": "17867856157297418309"
     },
     "user_tz": -120
    },
    "id": "iWMalj8h7yuw",
    "outputId": "d896c053-c071-49df-99f9-d373f6c4ad98",
    "tags": [
     "challengify"
    ]
   },
   "outputs": [],
   "source": [
    "# YOUR CODE HERE"
   ]
  },
  {
   "cell_type": "markdown",
   "metadata": {},
   "source": [
    "❓ Project your $ 10000 \\times 10$ `spotify_num_scaled` dataset into this new space with the number of principal components you decided to keep. Name it `spotify_proj`"
   ]
  },
  {
   "cell_type": "code",
   "execution_count": null,
   "metadata": {
    "tags": [
     "challengify"
    ]
   },
   "outputs": [],
   "source": [
    "# YOUR CODE HERE"
   ]
  },
  {
   "cell_type": "code",
   "execution_count": null,
   "metadata": {},
   "outputs": [],
   "source": [
    "fig_scaled = px.scatter_3d(spotify_proj, x = 0, y = 1, z = 2, opacity=0.7, width=500, height=500)\n",
    "fig_scaled.show()"
   ]
  },
  {
   "cell_type": "markdown",
   "metadata": {},
   "source": [
    "❓ Let's try a KMeans now and save the labels into `labels_kmeans_pca`"
   ]
  },
  {
   "cell_type": "code",
   "execution_count": null,
   "metadata": {
    "colab": {
     "base_uri": "https://localhost:8080/"
    },
    "executionInfo": {
     "elapsed": 1426,
     "status": "ok",
     "timestamp": 1620776566954,
     "user": {
      "displayName": "Davy W",
      "photoUrl": "https://lh3.googleusercontent.com/a-/AOh14GikpfvF6ciO03U9wu6upZcnxF3ZWjP-0L9AmJ_P_w=s64",
      "userId": "17867856157297418309"
     },
     "user_tz": -120
    },
    "id": "biU-Rd6W9nln",
    "outputId": "8cbffee0-5e70-46fc-dd2f-92ed7d87db92",
    "tags": [
     "challengify"
    ]
   },
   "outputs": [],
   "source": [
    "# YOUR CODE HERE"
   ]
  },
  {
   "cell_type": "code",
   "execution_count": null,
   "metadata": {},
   "outputs": [],
   "source": [
    "fig_scaled = px.scatter_3d(spotify_scaled,\n",
    "                           x = 'danceability',\n",
    "                           y = 'energy',\n",
    "                           z = 'speechiness',\n",
    "                           color = labels_kmeans_pca,\n",
    "                          width=500, height=500)\n",
    "fig_scaled.show()"
   ]
  },
  {
   "cell_type": "markdown",
   "metadata": {
    "id": "dQDXB6ZMvMf_"
   },
   "source": [
    "### (2.4) Ideal number of clusters ? "
   ]
  },
  {
   "cell_type": "markdown",
   "metadata": {},
   "source": [
    "<details>\n",
    "    <summary><i>Are there some number of clusters useless to try ? </i></summary>\n",
    "\n",
    "* $K = 1$ means that you would have only 1 cluster with the whole dataset of $10000$ songs\n",
    "* $K = 10000$ means that each of the $10000$ songs would be its own cluster!\n",
    "* $K = 2$ means that you would have only 2 clusters with $5000$ songs each...\n",
    "    \n",
    "        \n",
    "</details>        "
   ]
  },
  {
   "cell_type": "code",
   "execution_count": null,
   "metadata": {
    "colab": {
     "base_uri": "https://localhost:8080/"
    },
    "executionInfo": {
     "elapsed": 519,
     "status": "ok",
     "timestamp": 1620776579434,
     "user": {
      "displayName": "Davy W",
      "photoUrl": "https://lh3.googleusercontent.com/a-/AOh14GikpfvF6ciO03U9wu6upZcnxF3ZWjP-0L9AmJ_P_w=s64",
      "userId": "17867856157297418309"
     },
     "user_tz": -120
    },
    "id": "IwZ_mNMNvMf_",
    "outputId": "ab83cb71-33a9-4f0e-92d0-da411ea81914"
   },
   "outputs": [],
   "source": [
    "nb_clusters_to_try = np.arange(1,20+1,1)\n",
    "nb_clusters_to_try"
   ]
  },
  {
   "cell_type": "markdown",
   "metadata": {},
   "source": [
    "❓ How would you decide on the number of clusters to use ❓\n",
    "\n",
    "<details>\n",
    "    <summary markdown='span'>Answer</summary>\n",
    "\n",
    "Compare each model's inertia:\n",
    "    \n",
    "= Sum of Squared Residuals of each observation to their closest centroids  \n",
    "= Sum of Within-Cluster Sum of Squares (WCSS)\n",
    "\n",
    "$ inertia = \\sum_{j=1}^{K} \\sum_{x_i \\in C_j} || x_i - \\mu_j ||^2$\n",
    "\n",
    "where:\n",
    "* $K$ = number of clusters\n",
    "* $C_j$ = cluster $j$\n",
    "</details>"
   ]
  },
  {
   "cell_type": "code",
   "execution_count": null,
   "metadata": {
    "colab": {
     "base_uri": "https://localhost:8080/"
    },
    "executionInfo": {
     "elapsed": 42275,
     "status": "ok",
     "timestamp": 1620776621935,
     "user": {
      "displayName": "Davy W",
      "photoUrl": "https://lh3.googleusercontent.com/a-/AOh14GikpfvF6ciO03U9wu6upZcnxF3ZWjP-0L9AmJ_P_w=s64",
      "userId": "17867856157297418309"
     },
     "user_tz": -120
    },
    "id": "rJKn1yjKFOUB",
    "outputId": "16bac7b9-ef83-4190-ffc1-bec670515898"
   },
   "outputs": [],
   "source": [
    "# Apply the elbow method to find the optimal number of clusters.\n",
    "\n",
    "wcss = []\n",
    "\n",
    "for K in nb_clusters_to_try:\n",
    "    print('working with ' + str(K) + ' clusters...', flush=True)\n",
    "    kmeans = KMeans(n_clusters = K)\n",
    "    kmeans.fit(spotify_proj)\n",
    "    wcss.append(kmeans.inertia_)\n",
    "print(\"DONE !\")"
   ]
  },
  {
   "cell_type": "code",
   "execution_count": null,
   "metadata": {
    "colab": {
     "base_uri": "https://localhost:8080/",
     "height": 621
    },
    "executionInfo": {
     "elapsed": 42574,
     "status": "ok",
     "timestamp": 1620776622403,
     "user": {
      "displayName": "Davy W",
      "photoUrl": "https://lh3.googleusercontent.com/a-/AOh14GikpfvF6ciO03U9wu6upZcnxF3ZWjP-0L9AmJ_P_w=s64",
      "userId": "17867856157297418309"
     },
     "user_tz": -120
    },
    "id": "EHalhxApvMgA",
    "outputId": "1e5dd4f5-82d6-4323-ba64-fe681b66248f"
   },
   "outputs": [],
   "source": [
    "elbow_highlight = 4\n",
    "with plt.style.context('seaborn-deep'):\n",
    "    # figsize\n",
    "    plt.figure(figsize=(20,10))\n",
    "    # getting axes\n",
    "    ax = plt.gca()\n",
    "    # plotting\n",
    "    ax.plot(nb_clusters_to_try, wcss,color=\"blue\",linestyle=\":\",marker=\"D\",label=\"Inertia\")\n",
    "    # customizing\n",
    "    ax.legend(loc=\"upper right\")\n",
    "    ax.set_title('The Elbow Method')\n",
    "    ax.set_xticks(nb_clusters_to_try)\n",
    "    ax.set_xlabel('Number of clusters')\n",
    "    ax.set_ylabel('Within-Cluster Sums of Squares')\n",
    "    ax.scatter(elbow_highlight,wcss[elbow_highlight-1],c='red',s=400)    \n",
    "    # annotate\n",
    "    ax.annotate(\"Elbow?\", \n",
    "                (elbow_highlight,wcss[elbow_highlight-1]),\n",
    "                (elbow_highlight+0.50,wcss[elbow_highlight-1]+5000), \n",
    "                arrowprops=dict(facecolor='black'),\n",
    "                fontsize=16,\n",
    "#                horizontalalignment='middle', \n",
    "                verticalalignment='top')\n",
    "    \n",
    "    ax.grid(axis=\"y\",linewidth=0.5)\n",
    "    plt.show()"
   ]
  },
  {
   "cell_type": "markdown",
   "metadata": {
    "id": "bK3El5vbvMgD"
   },
   "source": [
    "### (2.5) Spotify : 6 daily mixes"
   ]
  },
  {
   "cell_type": "markdown",
   "metadata": {},
   "source": [
    "🎵 If you are a Spotify user, you may have noticed that they offer you 6 daily mixes... So even if your previous elbow was not located at $K = 6$, let's try this value as the number of clusters!"
   ]
  },
  {
   "cell_type": "code",
   "execution_count": null,
   "metadata": {
    "colab": {
     "base_uri": "https://localhost:8080/",
     "height": 595
    },
    "executionInfo": {
     "elapsed": 13282,
     "status": "ok",
     "timestamp": 1620776953583,
     "user": {
      "displayName": "Davy W",
      "photoUrl": "https://lh3.googleusercontent.com/a-/AOh14GikpfvF6ciO03U9wu6upZcnxF3ZWjP-0L9AmJ_P_w=s64",
      "userId": "17867856157297418309"
     },
     "user_tz": -120
    },
    "id": "E1AazTXGvMgD",
    "outputId": "6d78cfad-4b47-4e7f-c962-e5df3d91e2b7"
   },
   "outputs": [],
   "source": [
    "spotify_clusters = 6\n",
    "\n",
    "print('Working with ' + str(spotify_clusters) + ' clusters as in Spotify', flush=True)\n",
    "print(\"-\"*80)\n",
    "\n",
    "kmeans = KMeans(n_clusters = spotify_clusters, max_iter = 300)\n",
    "\n",
    "kmeans.fit(spotify_proj)\n",
    "\n",
    "labelling = kmeans.labels_\n",
    "\n",
    "fig_scaled = px.scatter_3d(spotify_proj,\n",
    "                           x = 0,\n",
    "                           y = 1,\n",
    "                           z = 2,\n",
    "                           color=labelling, \n",
    "                           width=500, \n",
    "                           height=500)\n",
    "fig_scaled.show()"
   ]
  },
  {
   "cell_type": "code",
   "execution_count": null,
   "metadata": {
    "colab": {
     "base_uri": "https://localhost:8080/",
     "height": 606
    },
    "executionInfo": {
     "elapsed": 13161,
     "status": "ok",
     "timestamp": 1620776953584,
     "user": {
      "displayName": "Davy W",
      "photoUrl": "https://lh3.googleusercontent.com/a-/AOh14GikpfvF6ciO03U9wu6upZcnxF3ZWjP-0L9AmJ_P_w=s64",
      "userId": "17867856157297418309"
     },
     "user_tz": -120
    },
    "id": "3x-6qUZNvMgE",
    "outputId": "ad3b3675-0ef7-4142-8928-d0bec7c67363"
   },
   "outputs": [],
   "source": [
    "spotify_labelled = pd.concat([spotify,pd.Series(labelling)],axis=1).rename(columns={0:\"label\"})\n",
    "spotify_labelled"
   ]
  },
  {
   "cell_type": "code",
   "execution_count": null,
   "metadata": {
    "colab": {
     "base_uri": "https://localhost:8080/"
    },
    "executionInfo": {
     "elapsed": 12962,
     "status": "ok",
     "timestamp": 1620776953587,
     "user": {
      "displayName": "Davy W",
      "photoUrl": "https://lh3.googleusercontent.com/a-/AOh14GikpfvF6ciO03U9wu6upZcnxF3ZWjP-0L9AmJ_P_w=s64",
      "userId": "17867856157297418309"
     },
     "user_tz": -120
    },
    "id": "FDd53YPPvMgE",
    "outputId": "f20234a5-bb5d-475b-de72-7987fc2f3d93"
   },
   "outputs": [],
   "source": [
    "np.unique(labelling)"
   ]
  },
  {
   "cell_type": "code",
   "execution_count": null,
   "metadata": {
    "colab": {
     "base_uri": "https://localhost:8080/"
    },
    "executionInfo": {
     "elapsed": 12776,
     "status": "ok",
     "timestamp": 1620776953589,
     "user": {
      "displayName": "Davy W",
      "photoUrl": "https://lh3.googleusercontent.com/a-/AOh14GikpfvF6ciO03U9wu6upZcnxF3ZWjP-0L9AmJ_P_w=s64",
      "userId": "17867856157297418309"
     },
     "user_tz": -120
    },
    "id": "UfT-18nyvMgE",
    "outputId": "48aa3ad6-d0a5-4c88-a71c-ac4b61ed5b1f"
   },
   "outputs": [],
   "source": [
    "spotify_labelled.label.value_counts()"
   ]
  },
  {
   "cell_type": "code",
   "execution_count": null,
   "metadata": {
    "executionInfo": {
     "elapsed": 12464,
     "status": "ok",
     "timestamp": 1620776953590,
     "user": {
      "displayName": "Davy W",
      "photoUrl": "https://lh3.googleusercontent.com/a-/AOh14GikpfvF6ciO03U9wu6upZcnxF3ZWjP-0L9AmJ_P_w=s64",
      "userId": "17867856157297418309"
     },
     "user_tz": -120
    },
    "id": "NCMT3YpuvMgF"
   },
   "outputs": [],
   "source": [
    "daily_mixes = {}\n",
    "\n",
    "for numero_cluster in np.unique(labelling):\n",
    "    daily_mixes[numero_cluster] = spotify_labelled[spotify_labelled.label == numero_cluster]"
   ]
  },
  {
   "cell_type": "code",
   "execution_count": null,
   "metadata": {
    "colab": {
     "base_uri": "https://localhost:8080/",
     "height": 1000
    },
    "executionInfo": {
     "elapsed": 12273,
     "status": "ok",
     "timestamp": 1620776953592,
     "user": {
      "displayName": "Davy W",
      "photoUrl": "https://lh3.googleusercontent.com/a-/AOh14GikpfvF6ciO03U9wu6upZcnxF3ZWjP-0L9AmJ_P_w=s64",
      "userId": "17867856157297418309"
     },
     "user_tz": -120
    },
    "id": "9TPLdgoqvMgF",
    "outputId": "31903c1e-62e8-4b19-edd8-aa04827e0a15"
   },
   "outputs": [],
   "source": [
    "for key,value in daily_mixes.items():\n",
    "    print(\"-\"*50)\n",
    "    print(f\"Here are some songs for the playlist number {key}\")\n",
    "    print(\"-\"*50)\n",
    "    display(value.sample(20))"
   ]
  },
  {
   "cell_type": "markdown",
   "metadata": {
    "id": "KjDa-3xWvMgF"
   },
   "source": [
    "### (2.6) Pipeling the labelling process"
   ]
  },
  {
   "cell_type": "markdown",
   "metadata": {},
   "source": [
    "❓ Wrap the three steps Scaling, PCA and KMeans in one pipeline called `pipeline_spotify`. Fit it and store the predicted labels into a variable called `labels`"
   ]
  },
  {
   "cell_type": "code",
   "execution_count": null,
   "metadata": {
    "colab": {
     "base_uri": "https://localhost:8080/",
     "height": 143
    },
    "executionInfo": {
     "elapsed": 11756,
     "status": "ok",
     "timestamp": 1620776953592,
     "user": {
      "displayName": "Davy W",
      "photoUrl": "https://lh3.googleusercontent.com/a-/AOh14GikpfvF6ciO03U9wu6upZcnxF3ZWjP-0L9AmJ_P_w=s64",
      "userId": "17867856157297418309"
     },
     "user_tz": -120
    },
    "id": "iF7tZnbwvMgF",
    "outputId": "1114b407-39fe-429f-ebb3-74faa874ee04",
    "tags": [
     "challengify"
    ]
   },
   "outputs": [],
   "source": [
    "# YOUR CODE HERE"
   ]
  },
  {
   "cell_type": "code",
   "execution_count": null,
   "metadata": {},
   "outputs": [],
   "source": [
    "fig = px.scatter_3d(spotify_proj,\n",
    "                           x = 0, \n",
    "                           y = 1,\n",
    "                           z = 2,\n",
    "                           color = labels)\n",
    "fig.show()"
   ]
  },
  {
   "cell_type": "markdown",
   "metadata": {},
   "source": [
    "## (4) Tensorflow Projector "
   ]
  },
  {
   "cell_type": "markdown",
   "metadata": {},
   "source": [
    "You can use [projector.tensorflow.org](https://projector.tensorflow.org/) to visualize your data in nicer 3D plots\n",
    "It also allows you to try several other clustering techniques, such as\n",
    "- PCA\n",
    "- T-SNE\n",
    "- UMAP"
   ]
  },
  {
   "cell_type": "markdown",
   "metadata": {
    "tags": []
   },
   "source": [
    "<img src=\"https://github.com/lewagon/data-images/blob/master/ML/ML_tsne_umap.png?raw=true\" alt=\"ttsne\" width=\"700\" height=\"700\">"
   ]
  },
  {
   "cell_type": "code",
   "execution_count": null,
   "metadata": {},
   "outputs": [],
   "source": [
    "# To upload data, convert them first as tsv format, then click on \"load\" directly from the website\n",
    "spotify_scaled.head(3000).to_csv('spotify.csv', index=False, header=False, sep='\\t')\n",
    "pd.DataFrame(labels).head(3000).to_csv('our_labels.csv', index=False, header=False, sep='\\t')"
   ]
  },
  {
   "cell_type": "markdown",
   "metadata": {},
   "source": [
    "❓ Upload your spotify dataset and vizualize the **PCA** and the **UMAP** version. \n",
    "- Also upload your \"custom labels\" determined previously, and \"color by labels\".\n",
    "- Does your \"labels\" made from PCA look interesting in the UMAP too ?"
   ]
  },
  {
   "cell_type": "markdown",
   "metadata": {
    "id": "QGYYA-zhvMgI",
    "tags": []
   },
   "source": [
    "## (Optional) Bibliography"
   ]
  },
  {
   "cell_type": "markdown",
   "metadata": {},
   "source": [
    "**Theoretical explanations of these best 2D/3D dimensionality reduction techniques**\n",
    "- 📺 [T-SNE: clearly explained (StatsQuest)](https://www.youtube.com/watch?v=NEaUSP4YerM&t=14s)\n",
    "- 📺 [UMAP: clearly explained (StatsQuest)](https://www.youtube.com/watch?v=eN0wFzBA4Sc)\n",
    "\n",
    "**Spotify resources for projects**\n",
    "- 📺 [Audio Analysis theory with the Spotify Web API](https://www.youtube.com/watch?v=goUzHd7cTuA)\n",
    "- 🤖 Spotify API [docs](https://developer.spotify.com/documentation/web-api/)\n",
    "- 🤖 Spotify API Wrappers [Tekore](https://github.com/felix-hilden/tekore) and [Spotipy](https://github.com/plamere/spotipy)"
   ]
  }
 ],
 "metadata": {
  "kernelspec": {
   "display_name": "Python 3",
   "language": "python",
   "name": "python3"
  }
 },
 "nbformat": 4,
 "nbformat_minor": 4
}
