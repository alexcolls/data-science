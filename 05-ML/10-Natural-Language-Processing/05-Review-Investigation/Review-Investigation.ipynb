{
 "cells": [
  {
   "cell_type": "markdown",
   "metadata": {},
   "source": [
    "# Analysis of Reviews on Olist"
   ]
  },
  {
   "cell_type": "markdown",
   "metadata": {},
   "source": [
    "🎯 Now that you are familiar with NLP, let's analyze the reviews of Olist."
   ]
  },
  {
   "cell_type": "markdown",
   "metadata": {},
   "source": [
    "👇 Run the following cell to load the reviews dataset."
   ]
  },
  {
   "cell_type": "code",
   "execution_count": null,
   "metadata": {},
   "outputs": [],
   "source": [
    "import pandas as pd\n",
    "\n",
    "url = \"https://wagon-public-datasets.s3.amazonaws.com/Machine%20Learning%20Datasets/ml_olist_nlp_reviews.csv\"\n",
    "df = pd.read_csv(url, low_memory = False)\n",
    "\n",
    "df.head()"
   ]
  },
  {
   "cell_type": "code",
   "execution_count": null,
   "metadata": {},
   "outputs": [],
   "source": [
    "df.shape"
   ]
  },
  {
   "cell_type": "markdown",
   "metadata": {},
   "source": [
    "❓ **Question: Analyse the reviews to understand what could be the causes of the bad review scores** ❓\n",
    "\n",
    "This challenge is not as guided as the previous ones. But here are some questions to ask yourself:\n",
    "\n",
    "- Are all the reviews relevant ? \n",
    "- What about combining the title and the body of a review ?\n",
    "- What cleaning operations would you apply to the reviews ?"
   ]
  },
  {
   "cell_type": "markdown",
   "metadata": {},
   "source": [
    "🇧🇷 Some Brazilian expressions and their translations:\n",
    "\n",
    "- `producto errado` = wrong product\n",
    "- `ainda nao` = not yet\n",
    "- `nao entregue` = not delivered\n",
    "- `nao veio` = did not come\n",
    "- `nao gostei` = did not like it\n",
    "- `produto defeito` = defective product\n",
    "- `nao functiona` = not working\n",
    "- `produto diferente` = different product\n",
    "- `pessima qualidade` = poor quality\n",
    "- `veio defeito` = came defect\n",
    "- `veio faltando` = came missing\n",
    "- `veio errado` = came wrong"
   ]
  },
  {
   "cell_type": "markdown",
   "metadata": {},
   "source": [
    "🏁 Congratulations. Instead of reading 90K+ reviews, you were able to detect the main reasons of dissatisfactions on Olist.\n",
    "\n",
    "💾 Don't forget to `git add/commit/push`"
   ]
  }
 ],
 "metadata": {
  "kernelspec": {
   "display_name": "Python 3",
   "language": "python",
   "name": "python3"
  }
 },
 "nbformat": 4,
 "nbformat_minor": 2
}
