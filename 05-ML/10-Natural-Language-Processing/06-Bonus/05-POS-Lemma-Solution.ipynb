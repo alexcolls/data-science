{
 "cells": [
  {
   "cell_type": "markdown",
   "metadata": {},
   "source": [
    "# POS-Lemma"
   ]
  },
  {
   "cell_type": "markdown",
   "metadata": {},
   "source": [
    "> Specifying the `Part-of-Speech` (POS) of a word to the WordNetLemmatizer makes it more efficient. Run the code below to see the difference."
   ]
  },
  {
   "cell_type": "code",
   "execution_count": null,
   "metadata": {},
   "outputs": [],
   "source": [
    "from nltk.stem import WordNetLemmatizer, wordnet\n",
    "\n",
    "lemmatizer = WordNetLemmatizer()\n",
    "\n",
    "print(\"Without POS tag %s %s\" % (\":\", lemmatizer.lemmatize(\"loving\")))\n",
    "print(\"With POS tag %s %s\" % (\":\", lemmatizer.lemmatize(\"loving\", pos = \"v\")))"
   ]
  },
  {
   "cell_type": "markdown",
   "metadata": {},
   "source": [
    "🧑🏻‍🎓 Understanding the `pos_tag` from `nltk`.\n",
    "\n",
    "Run the following cells:"
   ]
  },
  {
   "cell_type": "code",
   "execution_count": null,
   "metadata": {},
   "outputs": [],
   "source": [
    "from nltk import pos_tag"
   ]
  },
  {
   "cell_type": "code",
   "execution_count": null,
   "metadata": {},
   "outputs": [],
   "source": [
    "noun = \"love\"\n",
    "adjective = \"big\"\n",
    "adverb = \"lovely\"\n",
    "verb = \"loving\""
   ]
  },
  {
   "cell_type": "code",
   "execution_count": null,
   "metadata": {},
   "outputs": [],
   "source": [
    "pos_tag([noun])[0][1][0].upper() # --> N for noun"
   ]
  },
  {
   "cell_type": "code",
   "execution_count": null,
   "metadata": {},
   "outputs": [],
   "source": [
    "pos_tag([adjective])[0][1][0].upper() # --> J for adjective"
   ]
  },
  {
   "cell_type": "code",
   "execution_count": null,
   "metadata": {},
   "outputs": [],
   "source": [
    "pos_tag([adverb])[0][1][0].upper() # --> R for adverb"
   ]
  },
  {
   "cell_type": "code",
   "execution_count": null,
   "metadata": {},
   "outputs": [],
   "source": [
    "pos_tag([verb])[0][1][0].upper() # --> V for verb"
   ]
  },
  {
   "cell_type": "markdown",
   "metadata": {},
   "source": [
    "❓ **Question** ❓\n",
    "\n",
    "Create a function that lemmatizes your text, taking into account the associated POS tags. \n",
    "\n",
    "💡 Hint: The `WordNetLemmatizer` requires the POS tags to be specified in a certain form, different from the tags outputed by `nltk.pos_tag`. You will need to map them to the correct form."
   ]
  },
  {
   "cell_type": "code",
   "execution_count": null,
   "metadata": {},
   "outputs": [],
   "source": [
    "# ------\n",
    "# Map a POS tag to a format WordNetLemmatizer accepts:\n",
    "# ------\n",
    "\n",
    "from nltk.corpus import wordnet\n",
    "\n",
    "def get_wordnet_pos(word):\n",
    "    '''returns the POS tag in a format understood\n",
    "    by the WordNetLemmatizer'''\n",
    "    pass  # YOUR CODE HERE\n",
    "\n",
    "# ------\n",
    "# Lemmatize\n",
    "# ------\n",
    "\n",
    "from nltk.tokenize import word_tokenize\n",
    "\n",
    "def pos_lemma(text):\n",
    "    pass  # YOUR CODE HERE"
   ]
  },
  {
   "cell_type": "markdown",
   "metadata": {},
   "source": [
    "👇 Try your function:"
   ]
  },
  {
   "cell_type": "code",
   "execution_count": null,
   "metadata": {},
   "outputs": [],
   "source": [
    "sentence = \"I am loving Paris\""
   ]
  },
  {
   "cell_type": "code",
   "execution_count": null,
   "metadata": {
    "tags": [
     "challengify"
    ]
   },
   "outputs": [],
   "source": [
    "# YOUR CODE HERE"
   ]
  },
  {
   "cell_type": "markdown",
   "metadata": {},
   "source": [
    "🏁 Congratulations. With this minichallenge, you've raised some self-awareness about to find the root of a word, no matter if this is a noun, an adjective, an adverb or a verb.\n",
    "\n",
    "💾 Don't forget to `git add / commit / push`"
   ]
  }
 ],
 "metadata": {
  "kernelspec": {
   "display_name": "Python 3",
   "language": "python",
   "name": "python3"
  }
 },
 "nbformat": 4,
 "nbformat_minor": 4
}
