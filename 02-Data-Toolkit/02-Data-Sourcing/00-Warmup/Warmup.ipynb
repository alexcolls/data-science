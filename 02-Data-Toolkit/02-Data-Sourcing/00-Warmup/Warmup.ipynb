{
 "cells": [
  {
   "cell_type": "markdown",
   "metadata": {},
   "source": [
    "# Warm-Up\n",
    "\n",
    "Start by running the usual Library Import cell:"
   ]
  },
  {
   "cell_type": "code",
   "execution_count": 1,
   "metadata": {},
   "outputs": [],
   "source": [
    "import matplotlib\n",
    "%matplotlib inline\n",
    "import numpy as np\n",
    "import pandas as pd"
   ]
  },
  {
   "cell_type": "markdown",
   "metadata": {},
   "source": [
    "## Load URLs from CSV\n",
    "\n",
    "If you paid attention to the files in your repo, you might have noticed a `urls.csv` in the project. Open it in VS Code, review the URLs and maybe add a few of your choice.\n",
    "\n",
    "Then load this CSV in a `urls_df` dataframe using Pandas:"
   ]
  },
  {
   "cell_type": "code",
   "execution_count": 2,
   "metadata": {},
   "outputs": [
    {
     "data": {
      "text/html": [
       "<div>\n",
       "<style scoped>\n",
       "    .dataframe tbody tr th:only-of-type {\n",
       "        vertical-align: middle;\n",
       "    }\n",
       "\n",
       "    .dataframe tbody tr th {\n",
       "        vertical-align: top;\n",
       "    }\n",
       "\n",
       "    .dataframe thead th {\n",
       "        text-align: right;\n",
       "    }\n",
       "</style>\n",
       "<table border=\"1\" class=\"dataframe\">\n",
       "  <thead>\n",
       "    <tr style=\"text-align: right;\">\n",
       "      <th></th>\n",
       "      <th>url</th>\n",
       "    </tr>\n",
       "  </thead>\n",
       "  <tbody>\n",
       "    <tr>\n",
       "      <th>0</th>\n",
       "      <td>https://www.lewagon.com</td>\n",
       "    </tr>\n",
       "    <tr>\n",
       "      <th>1</th>\n",
       "      <td>https://stackoverflow.com/questions/tagged/python</td>\n",
       "    </tr>\n",
       "  </tbody>\n",
       "</table>\n",
       "</div>"
      ],
      "text/plain": [
       "                                                 url\n",
       "0                            https://www.lewagon.com\n",
       "1  https://stackoverflow.com/questions/tagged/python"
      ]
     },
     "execution_count": 2,
     "metadata": {},
     "output_type": "execute_result"
    }
   ],
   "source": [
    "urls_df = pd.read_csv('urls.csv')\n",
    "\n",
    "urls_df"
   ]
  },
  {
   "cell_type": "markdown",
   "metadata": {},
   "source": [
    "## Enrich Dataset with an API\n",
    "\n",
    "Let's use the `fetch_metadata` function that we just implemented in the `opengraph.py` file.\n",
    "\n",
    "First let's import it and make sure that it works in the Notebook. \n",
    "\n",
    "1. Write the relevant `from ... import ...` line\n",
    "1. Call the `fetch_metadata` on a URL of your choice. You can write `fetch_` then `<TAB>` to autocomplete, then `<SHIFT> + <TAB>` to view the Docstring from your Python file!"
   ]
  },
  {
   "cell_type": "code",
   "execution_count": 3,
   "metadata": {},
   "outputs": [
    {
     "data": {
      "text/plain": [
       "{'title': 'Coding Bootcamp | Le Wagon', 'desc': 'Coding Bootcamp | Le Wagon'}"
      ]
     },
     "execution_count": 3,
     "metadata": {},
     "output_type": "execute_result"
    }
   ],
   "source": [
    "from opengraph import fetch_metadata\n",
    "\n",
    "fetch_metadata(urls_df['url'][0])"
   ]
  },
  {
   "cell_type": "markdown",
   "metadata": {},
   "source": [
    "Iterate over the `urls_df` dataframe to add `title` and `description` columns for each URL\n",
    "\n",
    "<details>\n",
    "  <summary>🆘 Hint</summary>\n",
    "\n",
    "  <p>Have a look at today's Lecture, you can start by copy/pasting what we did for <code>tracks_df</code> and adapt the code</p>\n",
    "\n",
    "</details>"
   ]
  },
  {
   "cell_type": "code",
   "execution_count": 4,
   "metadata": {},
   "outputs": [
    {
     "data": {
      "text/html": [
       "<div>\n",
       "<style scoped>\n",
       "    .dataframe tbody tr th:only-of-type {\n",
       "        vertical-align: middle;\n",
       "    }\n",
       "\n",
       "    .dataframe tbody tr th {\n",
       "        vertical-align: top;\n",
       "    }\n",
       "\n",
       "    .dataframe thead th {\n",
       "        text-align: right;\n",
       "    }\n",
       "</style>\n",
       "<table border=\"1\" class=\"dataframe\">\n",
       "  <thead>\n",
       "    <tr style=\"text-align: right;\">\n",
       "      <th></th>\n",
       "      <th>url</th>\n",
       "      <th>title</th>\n",
       "      <th>description</th>\n",
       "    </tr>\n",
       "  </thead>\n",
       "  <tbody>\n",
       "    <tr>\n",
       "      <th>0</th>\n",
       "      <td>https://www.lewagon.com</td>\n",
       "      <td>Coding Bootcamp | Le Wagon</td>\n",
       "      <td>Coding Bootcamp | Le Wagon</td>\n",
       "    </tr>\n",
       "    <tr>\n",
       "      <th>1</th>\n",
       "      <td>https://stackoverflow.com/questions/tagged/python</td>\n",
       "      <td>Newest 'python' Questions - Stack Overflow</td>\n",
       "      <td>Newest 'python' Questions - Stack Overflow</td>\n",
       "    </tr>\n",
       "  </tbody>\n",
       "</table>\n",
       "</div>"
      ],
      "text/plain": [
       "                                                 url  \\\n",
       "0                            https://www.lewagon.com   \n",
       "1  https://stackoverflow.com/questions/tagged/python   \n",
       "\n",
       "                                        title  \\\n",
       "0                  Coding Bootcamp | Le Wagon   \n",
       "1  Newest 'python' Questions - Stack Overflow   \n",
       "\n",
       "                                  description  \n",
       "0                  Coding Bootcamp | Le Wagon  \n",
       "1  Newest 'python' Questions - Stack Overflow  "
      ]
     },
     "execution_count": 4,
     "metadata": {},
     "output_type": "execute_result"
    }
   ],
   "source": [
    "urls_df['title'] = ''\n",
    "urls_df['description'] = ''\n",
    "for idx, url in urls_df.iterrows():\n",
    "    metadata = fetch_metadata(urls_df['url'][idx])\n",
    "    urls_df['title'][idx] = metadata['title']\n",
    "    urls_df['description'][idx] = metadata['desc']\n",
    "    \n",
    "urls_df"
   ]
  },
  {
   "cell_type": "markdown",
   "metadata": {},
   "source": [
    "## Check your code!\n",
    "\n",
    "Run the cell below to check your code:"
   ]
  },
  {
   "cell_type": "code",
   "execution_count": 5,
   "metadata": {},
   "outputs": [
    {
     "name": "stdout",
     "output_type": "stream",
     "text": [
      "\n",
      "\u001b[1m============================= test session starts ==============================\u001b[0m\n",
      "platform linux -- Python 3.8.10, pytest-7.1.2, pluggy-1.0.0 -- /bin/python3\n",
      "cachedir: .pytest_cache\n",
      "rootdir: /home/quantium/labs/lewagon/data-challenges/02-Data-Toolkit/02-Data-Sourcing/00-Warmup/tests\n",
      "plugins: dash-1.19.0\n",
      "\u001b[1mcollecting ... \u001b[0mcollected 1 item\n",
      "\n",
      "test_warmup.py::TestWarmup::test_dataframe_has_new_columns \u001b[32mPASSED\u001b[0m\u001b[32m        [100%]\u001b[0m\n",
      "\n",
      "\u001b[32m============================== \u001b[32m\u001b[1m1 passed\u001b[0m\u001b[32m in 0.71s\u001b[0m\u001b[32m ===============================\u001b[0m\n",
      "\n",
      "\n",
      "💯 You can commit your code:\n",
      "\n",
      "\u001b[1;32mgit\u001b[39m add tests/warmup.pickle\n",
      "\n",
      "\u001b[32mgit\u001b[39m commit -m \u001b[33m'Completed warmup step'\u001b[39m\n",
      "\n",
      "\u001b[32mgit\u001b[39m push origin master\n",
      "\n"
     ]
    }
   ],
   "source": [
    "from nbresult import ChallengeResult\n",
    "\n",
    "result = ChallengeResult('warmup',\n",
    "    df_columns=urls_df.columns,\n",
    ")\n",
    "result.write()\n",
    "print(result.check())"
   ]
  },
  {
   "cell_type": "markdown",
   "metadata": {},
   "source": [
    "## (Optional) Autoreload\n",
    "\n",
    "Today's Lecture introduced you to the usefulness of [`autoreload`](https://ipython.readthedocs.io/en/stable/config/extensions/autoreload.html) in the notebook, let's experiment with it!\n",
    "\n",
    "Run the following cell, it should return `True` if your method returns `None` when a website is not found."
   ]
  },
  {
   "cell_type": "code",
   "execution_count": 16,
   "metadata": {},
   "outputs": [],
   "source": [
    "fetch_metadata(\"https://www.a.com\") == None\n",
    "\n",
    "%load_ext autoreload\n",
    "%autoreload 2"
   ]
  },
  {
   "cell_type": "markdown",
   "metadata": {},
   "source": [
    "Open VS Code and change the behavior of the function, to make it return an empty string `\"\"` rather than `None` if the HTTP response is something else than `200`. Save your file on the drive, and re-run the cell above.\n",
    "\n",
    "Do you see something changing? No? That's normal! The first version of the `fetch_metadata` code is stored in the Notebook Kernel.\n",
    "\n",
    "---\n",
    "\n",
    "OK, let's change back the `fetch_metadata` code in VS Code back to `None`.\n",
    "\n",
    "Then, add the following two lines to your first Notebook code cell:\n",
    "\n",
    "```python\n",
    "%load_ext autoreload\n",
    "%autoreload 2\n",
    "```\n",
    "\n",
    "Then in the menu bar, go to `Kernel` > `Restart & Run all`.\n",
    "\n",
    "---\n",
    "\n",
    "Now that autoreload is enabled, go to VS Code, and once again change the behavior so that it returns an empty string. Re-run the code cell above. Do you get `False`? Good! That means that the Notebook is now monitoring changes to the files imported, like `opengraph.py`, and will reload them if the code within them changes!\n",
    "\n",
    "### Conclusion\n",
    "\n",
    "You might find this confusing, jumping through Notebook and VS Code, don't worry you will get used to it. The Notebook is a perfect tool to experiment, to keep notes, to get graphical output of the data, etc. Still, the end goal of a Data Team is to **ship** something (a product, an API, a model, etc.), so productizing the code and refactoring it _out_ of the Notebook into proper Python modules is a critical skill that you will learn!"
   ]
  }
 ],
 "metadata": {
  "kernelspec": {
   "display_name": "Python 3.8.10 64-bit",
   "language": "python",
   "name": "python3"
  },
  "language_info": {
   "codemirror_mode": {
    "name": "ipython",
    "version": 3
   },
   "file_extension": ".py",
   "mimetype": "text/x-python",
   "name": "python",
   "nbconvert_exporter": "python",
   "pygments_lexer": "ipython3",
   "version": "3.8.10"
  },
  "vscode": {
   "interpreter": {
    "hash": "916dbcbb3f70747c44a77c7bcd40155683ae19c65e1c03b4aa3499c5328201f1"
   }
  }
 },
 "nbformat": 4,
 "nbformat_minor": 4
}
