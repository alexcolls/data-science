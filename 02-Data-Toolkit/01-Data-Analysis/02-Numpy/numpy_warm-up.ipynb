{
 "cells": [
  {
   "cell_type": "markdown",
   "metadata": {},
   "source": [
    "# Numpy 101\n",
    "\n",
    "The goal of this challenge is to get familiar with the Numpy library, manipulate multidimensional arrays and apply some linear algebra operations without using `for` loops.\n",
    "\n",
    "💡 Do not forget to keep the [Numpy Cheat Sheet](https://s3.amazonaws.com/assets.datacamp.com/blog_assets/Numpy_Python_Cheat_Sheet.pdf) closed during this challenge."
   ]
  },
  {
   "cell_type": "code",
   "execution_count": 1,
   "metadata": {},
   "outputs": [],
   "source": [
    "import numpy as np # Run this cell!"
   ]
  },
  {
   "cell_type": "markdown",
   "metadata": {},
   "source": [
    "---\n",
    "\n",
    "**Q1** - Create a null vector (i.e. with only zeros `0`) of size 10 and assign it to a variable named `ten_zeros`. \n",
    "\n",
    "It should look like this:\n",
    "\n",
    "```\n",
    "array([0., 0., 0., 0., 0., 0., 0., 0., 0., 0.])\n",
    "```\n",
    "\n",
    "<details>\n",
    "    <summary>🆘 Hint</summary>\n",
    "    <p>Have a look at <a href=\"https://numpy.org/devdocs/reference/generated/numpy.zeros.html\"><code>numpy.zeros</code></a></p>\n",
    "</details>"
   ]
  },
  {
   "cell_type": "code",
   "execution_count": 35,
   "metadata": {
    "tags": [
     "challengify"
    ]
   },
   "outputs": [],
   "source": [
    "ten_zeros = np.array([0.]*10)"
   ]
  },
  {
   "cell_type": "markdown",
   "metadata": {},
   "source": [
    "---\n",
    "\n",
    "**Q2** - Create a vector with values from 5 to 10 and assign it to a variable named `five_to_ten`.\n",
    "\n",
    "It should look like this:\n",
    "\n",
    "```\n",
    "array([ 5,  6,  7,  8,  9, 10])\n",
    "```\n",
    "\n",
    "<details>\n",
    "    <summary>🆘 Hint</summary>\n",
    "    <p>Have a look at <a href=\"https://numpy.org/devdocs/reference/generated/numpy.arange.html\"><code>numpy.arange</code></a></p>\n",
    "</details>"
   ]
  },
  {
   "cell_type": "code",
   "execution_count": 34,
   "metadata": {
    "tags": [
     "challengify"
    ]
   },
   "outputs": [],
   "source": [
    "five_to_ten = np.arange(5,11)"
   ]
  },
  {
   "cell_type": "markdown",
   "metadata": {},
   "source": [
    "---\n",
    "\n",
    "**Q3** - Create the following matrix as a NumPy `ndarray` and assign it to a variable named `A`:\n",
    "\n",
    "$\n",
    "A = \n",
    "\\begin{pmatrix}\n",
    "5 & 9 & 7\\\\\n",
    "1 & 0 & 3\n",
    "\\end{pmatrix}\n",
    "$\n",
    "\n",
    "<br>\n",
    "<details>\n",
    "    <summary>🆘 Hint</summary>\n",
    "    <p>Have a look at <a href=\"https://numpy.org/devdocs/reference/generated/numpy.array.html\"><code>numpy.array</code></a></p>\n",
    "    <p>Checkout more about the relationship between<a href=\"https://stackoverflow.com/questions/15879315/what-is-the-difference-between-ndarray-and-array-in-numpy\"><code>numpy.array and numpy.ndarray</code></a></p>\n",
    "</details>"
   ]
  },
  {
   "cell_type": "code",
   "execution_count": 10,
   "metadata": {
    "tags": [
     "challengify"
    ]
   },
   "outputs": [],
   "source": [
    "A = np.array([[5,9,7],[1,0,3]])"
   ]
  },
  {
   "cell_type": "markdown",
   "metadata": {},
   "source": [
    "---\n",
    "**Q4** - Create the following matrix without using the `np.array()` constructor and assign it to a variable named `B`:\n",
    "\n",
    "$\n",
    "B = \n",
    "\\begin{pmatrix}\n",
    "1 & 1\\\\\n",
    "1 & 1\n",
    "\\end{pmatrix}\n",
    "$"
   ]
  },
  {
   "cell_type": "code",
   "execution_count": 12,
   "metadata": {
    "tags": [
     "challengify"
    ]
   },
   "outputs": [],
   "source": [
    "B = np.matrix([[1,1],[1,1]])"
   ]
  },
  {
   "cell_type": "markdown",
   "metadata": {},
   "source": [
    "---\n",
    "\n",
    "**Q5** - Create a vector of 20 elements evenly spaced between `-1` and `1` and assign it to a variable named `lin_twenty`.\n",
    "\n",
    "It should look like this:\n",
    "\n",
    "```\n",
    "array([-1.        , -0.89473684, -0.78947368, -0.68421053, -0.57894737,\n",
    "       -0.47368421, -0.36842105, -0.26315789, -0.15789474, -0.05263158,\n",
    "        0.05263158,  0.15789474,  0.26315789,  0.36842105,  0.47368421,\n",
    "        0.57894737,  0.68421053,  0.78947368,  0.89473684,  1.        ])\n",
    "```\n",
    "\n",
    "<details>\n",
    "    <summary>🆘 Hint</summary>\n",
    "    <p>Have a look at <a href=\"https://numpy.org/devdocs/reference/generated/numpy.linspace.html\"><code>numpy.linspace</code></a></p>\n",
    "</details>"
   ]
  },
  {
   "cell_type": "code",
   "execution_count": 77,
   "metadata": {
    "tags": [
     "challengify"
    ]
   },
   "outputs": [],
   "source": [
    "lin_twenty = np.array(np.arange(-1,1.1,2/19))"
   ]
  },
  {
   "cell_type": "markdown",
   "metadata": {},
   "source": [
    "---\n",
    "\n",
    "**Q6** - Create a 3x3 identity matrix and assign it to a variable named `C`:\n",
    "\n",
    "$\n",
    "C = \n",
    "\\begin{pmatrix}\n",
    "1 & 0 & 0\\\\\n",
    "0 & 1 & 0\\\\\n",
    "0 & 0 & 1\n",
    "\\end{pmatrix}\n",
    "$\n",
    "\n",
    "<br>\n",
    "\n",
    "<details>\n",
    "    <summary>🆘 Hint</summary>\n",
    "    <p>Have a look at <a href=\"https://numpy.org/devdocs/reference/generated/numpy.eye.html\"><code>numpy.eye</code></a></p>\n",
    "</details>"
   ]
  },
  {
   "cell_type": "code",
   "execution_count": 18,
   "metadata": {
    "tags": [
     "challengify"
    ]
   },
   "outputs": [],
   "source": [
    "C = np.eye(3, dtype=float)"
   ]
  },
  {
   "cell_type": "markdown",
   "metadata": {},
   "source": [
    "---\n",
    "\n",
    "**Q7** - Create the following `ndarray` and assign it to a variable named `D`:  \n",
    "\n",
    "$\n",
    "D = \n",
    "\\begin{pmatrix}\n",
    "2 & 9 & 7 & 3 & 1 & 5\n",
    "\\end{pmatrix}\n",
    "$\n",
    "\n",
    "Reshape `D` into a 2x3 matrix and assign it to a variable named `E`:\n",
    "\n",
    "$\n",
    "E = \n",
    "\\begin{pmatrix}\n",
    "2 & 9 & 7\\\\\n",
    "3 & 1 & 5\n",
    "\\end{pmatrix}\n",
    "$\n",
    "\n",
    "<br>\n",
    "\n",
    "<details>\n",
    "    <summary>🆘 Hint</summary>\n",
    "    <p>Have a look at <a href=\"https://numpy.org/devdocs/reference/generated/numpy.reshape.html\"><code>numpy.reshape</code></a></p>\n",
    "</details>"
   ]
  },
  {
   "cell_type": "code",
   "execution_count": 36,
   "metadata": {
    "tags": [
     "challengify"
    ]
   },
   "outputs": [],
   "source": [
    "D = np.array([2,9,7,3,1,5])\n",
    "E = D.reshape(2,3)"
   ]
  },
  {
   "cell_type": "markdown",
   "metadata": {},
   "source": [
    "---\n",
    "\n",
    "**Q8** - Create a 8x8 checkboard matrix and assign it to a variable named `F`:\n",
    "\n",
    "$\n",
    "F = \n",
    "\\begin{pmatrix}\n",
    "1 & 0 & 1 & 0 & 1 & 0 & 1 & 0\\\\\n",
    "0 & 1 & 0 & 1 & 0 & 1 & 0 & 1\\\\\n",
    "1 & 0 & 1 & 0 & 1 & 0 & 1 & 0\\\\\n",
    "0 & 1 & 0 & 1 & 0 & 1 & 0 & 1\\\\\n",
    "1 & 0 & 1 & 0 & 1 & 0 & 1 & 0\\\\\n",
    "0 & 1 & 0 & 1 & 0 & 1 & 0 & 1\\\\\n",
    "1 & 0 & 1 & 0 & 1 & 0 & 1 & 0\\\\\n",
    "0 & 1 & 0 & 1 & 0 & 1 & 0 & 1\\\\\n",
    "\\end{pmatrix}\n",
    "$\n",
    "\n",
    "<br>\n",
    "\n",
    "<details>\n",
    "    <summary>🆘 Hint</summary>\n",
    "    <p>Have a look at <a href=\"https://numpy.org/devdocs/reference/generated/numpy.tile.html\"><code>numpy.tile</code></a></p>\n",
    "</details>"
   ]
  },
  {
   "cell_type": "code",
   "execution_count": 53,
   "metadata": {
    "tags": [
     "challengify"
    ]
   },
   "outputs": [],
   "source": [
    "F = np.tile(((1,0),(0,1)), (4,4))"
   ]
  },
  {
   "cell_type": "markdown",
   "metadata": {},
   "source": [
    "---\n",
    "\n",
    "**Q9**: Select the second column of this `ndarray` `G`, reshape it as an `ndarray` of 4 lines and 1 column and assign it to a variable named `reshaped_G`:\n",
    "\n",
    "$\n",
    "reshaped\\_G = \n",
    "\\begin{pmatrix}\n",
    "0.?\\\\\n",
    "0.?\\\\\n",
    "0.?\\\\\n",
    "0.?\\\\\n",
    "\\end{pmatrix}\n",
    "$"
   ]
  },
  {
   "cell_type": "code",
   "execution_count": 64,
   "metadata": {},
   "outputs": [
    {
     "name": "stdout",
     "output_type": "stream",
     "text": [
      "[[0.37467784 0.99202604 0.01654852 0.31090375 0.39279153]\n",
      " [0.59071656 0.01279627 0.6207571  0.22454596 0.65753805]\n",
      " [0.58133824 0.7824724  0.02399935 0.19440612 0.96123718]\n",
      " [0.6186631  0.92493453 0.30537895 0.48373255 0.7668891 ]]\n"
     ]
    }
   ],
   "source": [
    "G = np.random.random((4, 5))\n",
    "print(G)"
   ]
  },
  {
   "cell_type": "code",
   "execution_count": 94,
   "metadata": {
    "tags": [
     "challengify"
    ]
   },
   "outputs": [],
   "source": [
    "reshaped_G = G[:,1].reshape(4,1)"
   ]
  },
  {
   "cell_type": "markdown",
   "metadata": {},
   "source": [
    "---\n",
    "\n",
    "**Q10** - Compute the sum of matrixes `H` and `I` and store the result into a variable `hi_sum`:\n",
    "\n",
    "$\n",
    "H = \n",
    "\\begin{pmatrix}\n",
    "0 & 4\\\\\n",
    "-4 & -3\\\\\n",
    "1 & 1\n",
    "\\end{pmatrix}\n",
    "$\n",
    "\n",
    "$\n",
    "I =\n",
    "\\begin{pmatrix}\n",
    "0 & 1\\\\\n",
    "1 & -1\\\\\n",
    "2 & 3\n",
    "\\end{pmatrix}\n",
    "$\n",
    "\n",
    "$\n",
    "H + I = ?\n",
    "$\n"
   ]
  },
  {
   "cell_type": "code",
   "execution_count": 71,
   "metadata": {},
   "outputs": [
    {
     "name": "stdout",
     "output_type": "stream",
     "text": [
      "H: \n",
      " [[ 0  4]\n",
      " [-4 -3]\n",
      " [ 1  1]]\n",
      "I: \n",
      " [[ 0  1]\n",
      " [ 1 -1]\n",
      " [ 2  3]]\n"
     ]
    }
   ],
   "source": [
    "# Here we demonstrate two different approaches to creating a (3,2) Matrix\n",
    "H = np.array([0, 4, -4, -3, 1, 1]).reshape(3, 2)\n",
    "print('H: \\n', H)\n",
    "I = np.array([[0, 1], [1, -1], [2, 3]])\n",
    "print('I: \\n', I)"
   ]
  },
  {
   "cell_type": "code",
   "execution_count": 72,
   "metadata": {
    "tags": [
     "challengify"
    ]
   },
   "outputs": [],
   "source": [
    "hi_sum = H + I"
   ]
  },
  {
   "cell_type": "markdown",
   "metadata": {},
   "source": [
    "## Check your code!\n",
    "\n",
    "Run the cell below to check your code:"
   ]
  },
  {
   "cell_type": "code",
   "execution_count": 95,
   "metadata": {},
   "outputs": [
    {
     "name": "stdout",
     "output_type": "stream",
     "text": [
      "\n",
      "\u001b[1m============================= test session starts ==============================\u001b[0m\n",
      "platform linux -- Python 3.8.10, pytest-7.1.2, pluggy-1.0.0 -- /bin/python3\n",
      "cachedir: .pytest_cache\n",
      "rootdir: /home/quantium/labs/lewagon/data-challenges/02-Data-Toolkit/01-Data-Analysis/02-Numpy/tests\n",
      "plugins: dash-1.19.0\n",
      "\u001b[1mcollecting ... \u001b[0mcollected 5 items\n",
      "\n",
      "test_numpy.py::TestNumpy::test_advanced_matrixes_manipulation \u001b[32mPASSED\u001b[0m\u001b[32m     [ 20%]\u001b[0m\n",
      "test_numpy.py::TestNumpy::test_linear_twenty_vector_creation \u001b[32mPASSED\u001b[0m\u001b[32m      [ 40%]\u001b[0m\n",
      "test_numpy.py::TestNumpy::test_matrixes_creation_and_reshaping \u001b[32mPASSED\u001b[0m\u001b[32m    [ 60%]\u001b[0m\n",
      "test_numpy.py::TestNumpy::test_ndarrays_creation \u001b[32mPASSED\u001b[0m\u001b[32m                  [ 80%]\u001b[0m\n",
      "test_numpy.py::TestNumpy::test_vectors_creation \u001b[32mPASSED\u001b[0m\u001b[32m                   [100%]\u001b[0m\n",
      "\n",
      "\u001b[32m============================== \u001b[32m\u001b[1m5 passed\u001b[0m\u001b[32m in 0.07s\u001b[0m\u001b[32m ===============================\u001b[0m\n",
      "\n",
      "\n",
      "💯 You can commit your code:\n",
      "\n",
      "\u001b[1;32mgit\u001b[39m add tests/numpy.pickle\n",
      "\n",
      "\u001b[32mgit\u001b[39m commit -m \u001b[33m'Completed numpy step'\u001b[39m\n",
      "\n",
      "\u001b[32mgit\u001b[39m push origin master\n",
      "\n"
     ]
    }
   ],
   "source": [
    "from nbresult import ChallengeResult\n",
    "\n",
    "result = ChallengeResult('numpy',\n",
    "    ten=ten_zeros,\n",
    "    from_five=five_to_ten,\n",
    "    A=A,\n",
    "    B=B,\n",
    "    lin_twenty=lin_twenty,\n",
    "    C=C,\n",
    "    E=E,\n",
    "    F=F,\n",
    "    reshaped_G=reshaped_G,\n",
    "    hi_sum=hi_sum\n",
    ")\n",
    "result.write()\n",
    "print(result.check())"
   ]
  },
  {
   "cell_type": "code",
   "execution_count": null,
   "metadata": {},
   "outputs": [],
   "source": []
  }
 ],
 "metadata": {
  "kernelspec": {
   "display_name": "Python 3.8.10 64-bit",
   "language": "python",
   "name": "python3"
  },
  "language_info": {
   "codemirror_mode": {
    "name": "ipython",
    "version": 3
   },
   "file_extension": ".py",
   "mimetype": "text/x-python",
   "name": "python",
   "nbconvert_exporter": "python",
   "pygments_lexer": "ipython3",
   "version": "3.8.10"
  },
  "vscode": {
   "interpreter": {
    "hash": "916dbcbb3f70747c44a77c7bcd40155683ae19c65e1c03b4aa3499c5328201f1"
   }
  }
 },
 "nbformat": 4,
 "nbformat_minor": 4
}
