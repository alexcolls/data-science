{
 "cells": [
  {
   "cell_type": "markdown",
   "metadata": {},
   "source": [
    "# Bubble Map Visualization\n",
    "\n",
    "## Setup\n",
    "\n",
    "- **The Dataset**: let's analyze - from a graphical point of view - this [Kaggle Dataset](https://www.kaggle.com/datafiniti/fast-food-restaurants) about fast food restaurants.\n",
    "\n",
    "- **A new library**: during this exercise, we will learn how to manipulate `Plotly`, a very powerful graphics library! Let's install it:  https://pypi.org/project/plotly-express/\n",
    "\n",
    "Once it's done, let's import the libraries we need: `numpy`, `pandas`, and `plotly`\n"
   ]
  },
  {
   "cell_type": "code",
   "execution_count": null,
   "metadata": {},
   "outputs": [],
   "source": [
    "import numpy as np\n",
    "import pandas as pd\n",
    "import plotly.express as px"
   ]
  },
  {
   "cell_type": "markdown",
   "metadata": {},
   "source": [
    "## Bubble Map 101\n",
    "\n",
    "The goal of this exercise is to plot a bubble map of the `FastFoodRestaurants.csv`. \n",
    "Your challenge is to manage to get:\n",
    "\n",
    "<br>\n",
    "<img src=\"https://wagon-public-datasets.s3.amazonaws.com/data-science-images/02-Data-Toolkit/03-Data-Visualization/020307-fastfood-restaurants-us.png\" height=\"100%\" width=\"100%\">\n",
    "Beautiful, isn't it? 🙂\n",
    "\n",
    "### Specs:\n",
    "\n",
    "- A bubble should represent a `city`,\n",
    "- A bubble's size should depend on the number of fastfood restaurants in the city,\n",
    "- The graph should be zoomed on the U.S. map,\n",
    "- When hovering on a bubble you should get the name of `city`,\n",
    "- The graph should have a relevant title\n",
    "\n",
    "*Here is the documentation of bubble maps 👉 https://plot.ly/python/bubble-maps/ enjoy!*\n",
    "\n",
    "❗ The dataset has the latitude & longitude of each restaurant, but we need the latitude & longitude of each city to plot our bubble map. To cope with this missing data, let's compute the latitude & longitude of each city on our own: assuming that the latitude & longitude of a city can be computed by taking the median of the latitude & longitude of all fastfood restaurants recorded in the city. \n",
    "\n",
    "\n",
    "------------------------------------------------------"
   ]
  },
  {
   "cell_type": "markdown",
   "metadata": {},
   "source": [
    "❓ Import the `FastFoodRestaurants.csv` dataset"
   ]
  },
  {
   "cell_type": "code",
   "execution_count": null,
   "metadata": {},
   "outputs": [],
   "source": [
    "file = 'https://wagon-public-datasets.s3.amazonaws.com/Machine%20Learning%20Datasets/FastFoodRestaurants.csv'\n",
    "# YOUR CODE HERE"
   ]
  },
  {
   "cell_type": "markdown",
   "metadata": {},
   "source": [
    "❓ Explore the DataFrame - check the shape, missing values, data types, etc. (❗ make sure `latitude` and `longitude` columns are floats)"
   ]
  },
  {
   "cell_type": "code",
   "execution_count": null,
   "metadata": {
    "tags": [
     "challengify"
    ]
   },
   "outputs": [],
   "source": [
    "# YOUR CODE HERE"
   ]
  },
  {
   "cell_type": "markdown",
   "metadata": {},
   "source": [
    "❓ Group the data by city and create an aggregated DataFrame with:\n",
    "    * `count` of restaurants per city\n",
    "    * `median` of latitude and longitude"
   ]
  },
  {
   "cell_type": "code",
   "execution_count": null,
   "metadata": {
    "tags": [
     "challengify"
    ]
   },
   "outputs": [],
   "source": [
    "# YOUR CODE HERE"
   ]
  },
  {
   "cell_type": "markdown",
   "metadata": {},
   "source": [
    "❓ Plot the data as a bubble map with `Plotly` 🗺️"
   ]
  },
  {
   "cell_type": "code",
   "execution_count": null,
   "metadata": {
    "tags": [
     "challengify"
    ]
   },
   "outputs": [],
   "source": [
    "# YOUR CODE HERE"
   ]
  },
  {
   "cell_type": "markdown",
   "metadata": {},
   "source": [
    "## Bubble Map with animation\n",
    "\n",
    "How about plotting the evolution of fastfood restaurants in the US?\n",
    "\n",
    "The dataset `Datafiniti_Fast_Food_Restaurants.csv` has a `dateAdded` column. Let's assume this Dataset is from UberEats database, and we want to see the evolution of fastfood restaurants available on UberEats app!\n",
    "We want to have this: \n",
    "<br>\n",
    "<img src=\"https://wagon-public-datasets.s3.amazonaws.com/data-science-images/02-Data-Toolkit/03-Data-Visualization/020307-animated-bubble-map.png\" height=\"100%\" width=\"100%\">\n",
    "\n",
    "👉 The slider should give the real time evolution 🙂 - each bubble referring to a new restaurant opened that year.\n",
    "\n",
    "Let's plot this! 💪"
   ]
  },
  {
   "cell_type": "markdown",
   "metadata": {},
   "source": [
    "❓ Load the `Datafiniti_Fast_Food_Restaurants.csv` dataset"
   ]
  },
  {
   "cell_type": "code",
   "execution_count": null,
   "metadata": {},
   "outputs": [],
   "source": [
    "file = \"https://wagon-public-datasets.s3.amazonaws.com/Machine%20Learning%20Datasets/Datafiniti_Fast_Food_Restaurants.csv\"\n",
    "# YOUR CODE HERE"
   ]
  },
  {
   "cell_type": "markdown",
   "metadata": {},
   "source": [
    "❓ Format the `dateAdded` column to just include the year as an integer"
   ]
  },
  {
   "cell_type": "code",
   "execution_count": null,
   "metadata": {
    "tags": [
     "challengify"
    ]
   },
   "outputs": [],
   "source": [
    "# YOUR CODE HERE"
   ]
  },
  {
   "cell_type": "markdown",
   "metadata": {},
   "source": [
    "❓ Plot the animated bubble map 🍿 Check `Plotly` [documentation](https://plot.ly/python/bubble-maps/) for help\n",
    "\n",
    "Here are some specs for the animated map:\n",
    "\n",
    "* The years on the timeline need to be in order\n",
    "* Each bubble should display the `name` of the restaurant on hover\n",
    "* The map should be zoomed in on the U.S.\n",
    "* The graph should have a relevant title"
   ]
  },
  {
   "cell_type": "code",
   "execution_count": null,
   "metadata": {
    "tags": [
     "challengify"
    ]
   },
   "outputs": [],
   "source": [
    "# YOUR CODE HERE"
   ]
  },
  {
   "cell_type": "markdown",
   "metadata": {},
   "source": [
    "# 🏁 Congrats on completing the challenge!\n",
    "\n",
    "Remember to `git add`, `git commit` and `git push` your code 💪"
   ]
  }
 ],
 "metadata": {
  "kernelspec": {
   "display_name": "Python 3",
   "language": "python",
   "name": "python3"
  }
 },
 "nbformat": 4,
 "nbformat_minor": 2
}
