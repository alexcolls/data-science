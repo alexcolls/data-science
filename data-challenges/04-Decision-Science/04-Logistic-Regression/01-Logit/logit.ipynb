{
 "cells": [
  {
   "cell_type": "code",
   "execution_count": 43,
   "metadata": {},
   "outputs": [
    {
     "name": "stdout",
     "output_type": "stream",
     "text": [
      "The autoreload extension is already loaded. To reload it, use:\n",
      "  %reload_ext autoreload\n"
     ]
    }
   ],
   "source": [
    "%load_ext autoreload\n",
    "%autoreload 2"
   ]
  },
  {
   "cell_type": "markdown",
   "metadata": {},
   "source": [
    "# `Logit` on Orders - A warm-up challenge (~1h)"
   ]
  },
  {
   "cell_type": "markdown",
   "metadata": {},
   "source": [
    "## Select features"
   ]
  },
  {
   "cell_type": "markdown",
   "metadata": {},
   "source": [
    "🎯 Let's figure out the impact of `wait_time` and `delay_vs_expected` on very `good/bad reviews`\n",
    "\n",
    "👉 Using our `orders` training_set, we will run two `multivariate logistic regressions`:\n",
    "- `logit_one` to predict `dim_is_one_star` \n",
    "- `logit_five` to predict `dim_is_five_star`.\n",
    "\n",
    " "
   ]
  },
  {
   "cell_type": "code",
   "execution_count": 44,
   "metadata": {},
   "outputs": [],
   "source": [
    "import pandas as pd\n",
    "import seaborn as sns\n",
    "import statsmodels.api as sm\n",
    "import statsmodels.formula.api as smf\n",
    "import matplotlib.pyplot as plt"
   ]
  },
  {
   "cell_type": "markdown",
   "metadata": {},
   "source": [
    "👉 Import your dataset:"
   ]
  },
  {
   "cell_type": "code",
   "execution_count": 33,
   "metadata": {},
   "outputs": [],
   "source": [
    "from olist.order import Order\n",
    "orders = Order().get_training_data(with_distance_seller_customer=True)"
   ]
  },
  {
   "cell_type": "markdown",
   "metadata": {},
   "source": [
    "👉 Select in a list which features you want to use:\n",
    "\n",
    "⚠️ Make sure you are not creating data leakage (i.e. selecting features that are derived from the target)\n",
    "\n",
    "💡 To figure out the impact of `wait_time` and `delay_vs_expected` we need to control for the impact of other features, include in your list all features that may be relevant"
   ]
  },
  {
   "cell_type": "code",
   "execution_count": 34,
   "metadata": {
    "tags": [
     "challengify"
    ]
   },
   "outputs": [],
   "source": [
    "features = [\n",
    "    \"wait_time\",\n",
    "    \"expected_wait_time\",\n",
    "    \"delay_vs_expected\",\n",
    "    \"number_of_products\",\n",
    "    \"number_of_sellers\",\n",
    "    \"price\",\n",
    "    \"freight_value\",\n",
    "    \"distance_seller_customer\",\n",
    "]"
   ]
  },
  {
   "cell_type": "markdown",
   "metadata": {},
   "source": [
    "🕵🏻 Check the `multi-colinearity` of your features, using the `VIF index`.\n",
    "\n",
    "* It shouldn't be too high (< 10 preferably) to ensure that we can trust the partial regression coefficents and their associated `p-values` \n",
    "* Do not forget to standardize your data ! \n",
    "    * A `VIF Analysis` is made by regressing a feature vs. the other features...\n",
    "    * So you want to `remove the effect of scale` so that your features have an equal importance before running any linear regression!\n",
    "    \n",
    "    \n",
    "📚 <a href=\"https://www.statisticshowto.com/variance-inflation-factor/\">Statistics How To - Variance Inflation Factor</a>\n",
    "\n",
    "📚  <a href=\"https://online.stat.psu.edu/stat462/node/180/\">PennState - Detecting Multicollinearity Using Variance Inflation Factors</a>"
   ]
  },
  {
   "cell_type": "markdown",
   "metadata": {},
   "source": [
    "⚖️ Standardizing:"
   ]
  },
  {
   "cell_type": "code",
   "execution_count": 35,
   "metadata": {
    "tags": [
     "challengify"
    ]
   },
   "outputs": [
    {
     "data": {
      "text/html": [
       "<div>\n",
       "<style scoped>\n",
       "    .dataframe tbody tr th:only-of-type {\n",
       "        vertical-align: middle;\n",
       "    }\n",
       "\n",
       "    .dataframe tbody tr th {\n",
       "        vertical-align: top;\n",
       "    }\n",
       "\n",
       "    .dataframe thead th {\n",
       "        text-align: right;\n",
       "    }\n",
       "</style>\n",
       "<table border=\"1\" class=\"dataframe\">\n",
       "  <thead>\n",
       "    <tr style=\"text-align: right;\">\n",
       "      <th></th>\n",
       "      <th>wait_time</th>\n",
       "      <th>expected_wait_time</th>\n",
       "      <th>delay_vs_expected</th>\n",
       "      <th>dim_is_five_star</th>\n",
       "      <th>dim_is_one_star</th>\n",
       "      <th>review_score</th>\n",
       "      <th>number_of_products</th>\n",
       "      <th>number_of_sellers</th>\n",
       "      <th>price</th>\n",
       "      <th>freight_value</th>\n",
       "      <th>distance_seller_customer</th>\n",
       "    </tr>\n",
       "  </thead>\n",
       "  <tbody>\n",
       "    <tr>\n",
       "      <th>0</th>\n",
       "      <td>0.428000</td>\n",
       "      <td>0.955660</td>\n",
       "      <td>-0.387964</td>\n",
       "      <td>0.0</td>\n",
       "      <td>0.0</td>\n",
       "      <td>4.0</td>\n",
       "      <td>-0.264595</td>\n",
       "      <td>-0.112544</td>\n",
       "      <td>-0.513802</td>\n",
       "      <td>-0.652038</td>\n",
       "      <td>-0.979475</td>\n",
       "    </tr>\n",
       "    <tr>\n",
       "      <th>1</th>\n",
       "      <td>-0.100520</td>\n",
       "      <td>0.499254</td>\n",
       "      <td>-0.585732</td>\n",
       "      <td>0.0</td>\n",
       "      <td>0.0</td>\n",
       "      <td>4.0</td>\n",
       "      <td>-0.264595</td>\n",
       "      <td>-0.112544</td>\n",
       "      <td>-0.086640</td>\n",
       "      <td>0.000467</td>\n",
       "      <td>0.429743</td>\n",
       "    </tr>\n",
       "    <tr>\n",
       "      <th>2</th>\n",
       "      <td>0.322296</td>\n",
       "      <td>-0.299457</td>\n",
       "      <td>0.600877</td>\n",
       "      <td>1.0</td>\n",
       "      <td>0.0</td>\n",
       "      <td>5.0</td>\n",
       "      <td>-0.264595</td>\n",
       "      <td>-0.112544</td>\n",
       "      <td>0.111748</td>\n",
       "      <td>-0.164053</td>\n",
       "      <td>-0.145495</td>\n",
       "    </tr>\n",
       "    <tr>\n",
       "      <th>3</th>\n",
       "      <td>-0.100520</td>\n",
       "      <td>-0.299457</td>\n",
       "      <td>0.106457</td>\n",
       "      <td>1.0</td>\n",
       "      <td>0.0</td>\n",
       "      <td>5.0</td>\n",
       "      <td>-0.264595</td>\n",
       "      <td>-0.112544</td>\n",
       "      <td>-0.441525</td>\n",
       "      <td>0.206815</td>\n",
       "      <td>2.054621</td>\n",
       "    </tr>\n",
       "    <tr>\n",
       "      <th>4</th>\n",
       "      <td>1.062224</td>\n",
       "      <td>1.297964</td>\n",
       "      <td>-0.190196</td>\n",
       "      <td>1.0</td>\n",
       "      <td>0.0</td>\n",
       "      <td>5.0</td>\n",
       "      <td>-0.264595</td>\n",
       "      <td>-0.112544</td>\n",
       "      <td>-0.562388</td>\n",
       "      <td>-0.652038</td>\n",
       "      <td>-0.959115</td>\n",
       "    </tr>\n",
       "    <tr>\n",
       "      <th>...</th>\n",
       "      <td>...</td>\n",
       "      <td>...</td>\n",
       "      <td>...</td>\n",
       "      <td>...</td>\n",
       "      <td>...</td>\n",
       "      <td>...</td>\n",
       "      <td>...</td>\n",
       "      <td>...</td>\n",
       "      <td>...</td>\n",
       "      <td>...</td>\n",
       "      <td>...</td>\n",
       "    </tr>\n",
       "    <tr>\n",
       "      <th>97002</th>\n",
       "      <td>0.428000</td>\n",
       "      <td>0.613355</td>\n",
       "      <td>-0.091311</td>\n",
       "      <td>1.0</td>\n",
       "      <td>0.0</td>\n",
       "      <td>5.0</td>\n",
       "      <td>-0.264595</td>\n",
       "      <td>-0.112544</td>\n",
       "      <td>-0.311513</td>\n",
       "      <td>-0.449408</td>\n",
       "      <td>-0.893033</td>\n",
       "    </tr>\n",
       "    <tr>\n",
       "      <th>97003</th>\n",
       "      <td>-1.051856</td>\n",
       "      <td>0.042848</td>\n",
       "      <td>-0.981268</td>\n",
       "      <td>0.0</td>\n",
       "      <td>0.0</td>\n",
       "      <td>4.0</td>\n",
       "      <td>-0.264595</td>\n",
       "      <td>-0.112544</td>\n",
       "      <td>0.183977</td>\n",
       "      <td>-0.123156</td>\n",
       "      <td>-0.212797</td>\n",
       "    </tr>\n",
       "    <tr>\n",
       "      <th>97004</th>\n",
       "      <td>-1.263264</td>\n",
       "      <td>-0.755863</td>\n",
       "      <td>-0.585732</td>\n",
       "      <td>1.0</td>\n",
       "      <td>0.0</td>\n",
       "      <td>5.0</td>\n",
       "      <td>-0.264595</td>\n",
       "      <td>-0.112544</td>\n",
       "      <td>0.333684</td>\n",
       "      <td>1.964490</td>\n",
       "      <td>0.617630</td>\n",
       "    </tr>\n",
       "    <tr>\n",
       "      <th>97005</th>\n",
       "      <td>-0.523336</td>\n",
       "      <td>-1.554574</td>\n",
       "      <td>0.897530</td>\n",
       "      <td>0.0</td>\n",
       "      <td>0.0</td>\n",
       "      <td>2.0</td>\n",
       "      <td>1.601605</td>\n",
       "      <td>-0.112544</td>\n",
       "      <td>1.075186</td>\n",
       "      <td>2.715522</td>\n",
       "      <td>-0.387558</td>\n",
       "    </tr>\n",
       "    <tr>\n",
       "      <th>97006</th>\n",
       "      <td>0.533704</td>\n",
       "      <td>-0.185355</td>\n",
       "      <td>0.600877</td>\n",
       "      <td>1.0</td>\n",
       "      <td>0.0</td>\n",
       "      <td>5.0</td>\n",
       "      <td>-0.264595</td>\n",
       "      <td>-0.112544</td>\n",
       "      <td>-0.328367</td>\n",
       "      <td>-0.204022</td>\n",
       "      <td>0.052359</td>\n",
       "    </tr>\n",
       "  </tbody>\n",
       "</table>\n",
       "<p>95872 rows × 11 columns</p>\n",
       "</div>"
      ],
      "text/plain": [
       "       wait_time  expected_wait_time  delay_vs_expected  dim_is_five_star  \\\n",
       "0       0.428000            0.955660          -0.387964               0.0   \n",
       "1      -0.100520            0.499254          -0.585732               0.0   \n",
       "2       0.322296           -0.299457           0.600877               1.0   \n",
       "3      -0.100520           -0.299457           0.106457               1.0   \n",
       "4       1.062224            1.297964          -0.190196               1.0   \n",
       "...          ...                 ...                ...               ...   \n",
       "97002   0.428000            0.613355          -0.091311               1.0   \n",
       "97003  -1.051856            0.042848          -0.981268               0.0   \n",
       "97004  -1.263264           -0.755863          -0.585732               1.0   \n",
       "97005  -0.523336           -1.554574           0.897530               0.0   \n",
       "97006   0.533704           -0.185355           0.600877               1.0   \n",
       "\n",
       "       dim_is_one_star  review_score  number_of_products  number_of_sellers  \\\n",
       "0                  0.0           4.0           -0.264595          -0.112544   \n",
       "1                  0.0           4.0           -0.264595          -0.112544   \n",
       "2                  0.0           5.0           -0.264595          -0.112544   \n",
       "3                  0.0           5.0           -0.264595          -0.112544   \n",
       "4                  0.0           5.0           -0.264595          -0.112544   \n",
       "...                ...           ...                 ...                ...   \n",
       "97002              0.0           5.0           -0.264595          -0.112544   \n",
       "97003              0.0           4.0           -0.264595          -0.112544   \n",
       "97004              0.0           5.0           -0.264595          -0.112544   \n",
       "97005              0.0           2.0            1.601605          -0.112544   \n",
       "97006              0.0           5.0           -0.264595          -0.112544   \n",
       "\n",
       "          price  freight_value  distance_seller_customer  \n",
       "0     -0.513802      -0.652038                 -0.979475  \n",
       "1     -0.086640       0.000467                  0.429743  \n",
       "2      0.111748      -0.164053                 -0.145495  \n",
       "3     -0.441525       0.206815                  2.054621  \n",
       "4     -0.562388      -0.652038                 -0.959115  \n",
       "...         ...            ...                       ...  \n",
       "97002 -0.311513      -0.449408                 -0.893033  \n",
       "97003  0.183977      -0.123156                 -0.212797  \n",
       "97004  0.333684       1.964490                  0.617630  \n",
       "97005  1.075186       2.715522                 -0.387558  \n",
       "97006 -0.328367      -0.204022                  0.052359  \n",
       "\n",
       "[95872 rows x 11 columns]"
      ]
     },
     "execution_count": 35,
     "metadata": {},
     "output_type": "execute_result"
    }
   ],
   "source": [
    "orders_sta = orders.copy()\n",
    "for f in features:\n",
    "    mu = orders[f].mean()\n",
    "    sigma = orders[f].std()\n",
    "    orders_sta[f] = orders[f].map(lambda x: (x - mu) / sigma)\n",
    "orders_sta = orders_sta.drop(['order_id','order_status'], axis=1)\n",
    "orders_sta"
   ]
  },
  {
   "cell_type": "markdown",
   "metadata": {},
   "source": [
    "👉 Run your VIF Analysis to analyze the potential multicolinearities:"
   ]
  },
  {
   "cell_type": "code",
   "execution_count": 36,
   "metadata": {
    "tags": [
     "challengify"
    ]
   },
   "outputs": [
    {
     "data": {
      "text/plain": [
       "{'wait_time': 372.76,\n",
       " 'expected_wait_time': 319.68,\n",
       " 'delay_vs_expected': 426.1,\n",
       " 'dim_is_five_star': 4.73,\n",
       " 'dim_is_one_star': 1.16,\n",
       " 'review_score': 4.71,\n",
       " 'number_of_products': 1.38,\n",
       " 'number_of_sellers': 1.1,\n",
       " 'price': 1.21,\n",
       " 'freight_value': 1.68,\n",
       " 'distance_seller_customer': 1.56}"
      ]
     },
     "execution_count": 36,
     "metadata": {},
     "output_type": "execute_result"
    }
   ],
   "source": [
    "from statsmodels.stats.outliers_influence import variance_inflation_factor as vif\n",
    "\n",
    "VIF = {}\n",
    "for i, col in enumerate(orders_sta.columns):\n",
    "    VIF[col] = round(vif(orders_sta.values, i), 2)\n",
    "\n",
    "VIF\n"
   ]
  },
  {
   "cell_type": "markdown",
   "metadata": {},
   "source": [
    "## Logistic Regressions"
   ]
  },
  {
   "cell_type": "markdown",
   "metadata": {},
   "source": [
    "👉 Fit two `Logistic Regression` models:\n",
    "- `logit_one` to predict `dim_is_one_star` \n",
    "- `logit_five` to predict `dim_is_five_star`."
   ]
  },
  {
   "cell_type": "markdown",
   "metadata": {},
   "source": [
    "`Logit 1️⃣`"
   ]
  },
  {
   "cell_type": "code",
   "execution_count": 37,
   "metadata": {
    "tags": [
     "challengify"
    ]
   },
   "outputs": [
    {
     "name": "stdout",
     "output_type": "stream",
     "text": [
      "Optimization terminated successfully.\n",
      "         Current function value: 0.272979\n",
      "         Iterations 7\n"
     ]
    },
    {
     "data": {
      "text/html": [
       "<table class=\"simpletable\">\n",
       "<caption>Logit Regression Results</caption>\n",
       "<tr>\n",
       "  <th>Dep. Variable:</th>    <td>dim_is_one_star</td> <th>  No. Observations:  </th>  <td> 95872</td> \n",
       "</tr>\n",
       "<tr>\n",
       "  <th>Model:</th>                 <td>Logit</td>      <th>  Df Residuals:      </th>  <td> 95863</td> \n",
       "</tr>\n",
       "<tr>\n",
       "  <th>Method:</th>                 <td>MLE</td>       <th>  Df Model:          </th>  <td>     8</td> \n",
       "</tr>\n",
       "<tr>\n",
       "  <th>Date:</th>            <td>Thu, 28 Jul 2022</td> <th>  Pseudo R-squ.:     </th>  <td>0.1467</td> \n",
       "</tr>\n",
       "<tr>\n",
       "  <th>Time:</th>                <td>12:10:03</td>     <th>  Log-Likelihood:    </th> <td> -26171.</td>\n",
       "</tr>\n",
       "<tr>\n",
       "  <th>converged:</th>             <td>True</td>       <th>  LL-Null:           </th> <td> -30669.</td>\n",
       "</tr>\n",
       "<tr>\n",
       "  <th>Covariance Type:</th>     <td>nonrobust</td>    <th>  LLR p-value:       </th>  <td> 0.000</td> \n",
       "</tr>\n",
       "</table>\n",
       "<table class=\"simpletable\">\n",
       "<tr>\n",
       "              <td></td>                <th>coef</th>     <th>std err</th>      <th>z</th>      <th>P>|z|</th>  <th>[0.025</th>    <th>0.975]</th>  \n",
       "</tr>\n",
       "<tr>\n",
       "  <th>Intercept</th>                <td>   -5.0808</td> <td>    0.075</td> <td>  -68.123</td> <td> 0.000</td> <td>   -5.227</td> <td>   -4.935</td>\n",
       "</tr>\n",
       "<tr>\n",
       "  <th>wait_time</th>                <td>   -0.0556</td> <td>    0.024</td> <td>   -2.311</td> <td> 0.021</td> <td>   -0.103</td> <td>   -0.008</td>\n",
       "</tr>\n",
       "<tr>\n",
       "  <th>expected_wait_time</th>       <td>   -0.0147</td> <td>    0.024</td> <td>   -0.612</td> <td> 0.541</td> <td>   -0.062</td> <td>    0.032</td>\n",
       "</tr>\n",
       "<tr>\n",
       "  <th>delay_vs_expected</th>        <td>   -0.0443</td> <td>    0.024</td> <td>   -1.843</td> <td> 0.065</td> <td>   -0.091</td> <td>    0.003</td>\n",
       "</tr>\n",
       "<tr>\n",
       "  <th>number_of_products</th>       <td>    0.4695</td> <td>    0.020</td> <td>   23.776</td> <td> 0.000</td> <td>    0.431</td> <td>    0.508</td>\n",
       "</tr>\n",
       "<tr>\n",
       "  <th>number_of_sellers</th>        <td>    1.5443</td> <td>    0.064</td> <td>   24.069</td> <td> 0.000</td> <td>    1.419</td> <td>    1.670</td>\n",
       "</tr>\n",
       "<tr>\n",
       "  <th>price</th>                    <td>    0.0002</td> <td> 5.44e-05</td> <td>    4.593</td> <td> 0.000</td> <td>    0.000</td> <td>    0.000</td>\n",
       "</tr>\n",
       "<tr>\n",
       "  <th>freight_value</th>            <td>   -0.0007</td> <td>    0.001</td> <td>   -1.163</td> <td> 0.245</td> <td>   -0.002</td> <td>    0.000</td>\n",
       "</tr>\n",
       "<tr>\n",
       "  <th>distance_seller_customer</th> <td>   -0.0002</td> <td> 2.38e-05</td> <td>   -9.920</td> <td> 0.000</td> <td>   -0.000</td> <td>   -0.000</td>\n",
       "</tr>\n",
       "</table>"
      ],
      "text/plain": [
       "<class 'statsmodels.iolib.summary.Summary'>\n",
       "\"\"\"\n",
       "                           Logit Regression Results                           \n",
       "==============================================================================\n",
       "Dep. Variable:        dim_is_one_star   No. Observations:                95872\n",
       "Model:                          Logit   Df Residuals:                    95863\n",
       "Method:                           MLE   Df Model:                            8\n",
       "Date:                Thu, 28 Jul 2022   Pseudo R-squ.:                  0.1467\n",
       "Time:                        12:10:03   Log-Likelihood:                -26171.\n",
       "converged:                       True   LL-Null:                       -30669.\n",
       "Covariance Type:            nonrobust   LLR p-value:                     0.000\n",
       "============================================================================================\n",
       "                               coef    std err          z      P>|z|      [0.025      0.975]\n",
       "--------------------------------------------------------------------------------------------\n",
       "Intercept                   -5.0808      0.075    -68.123      0.000      -5.227      -4.935\n",
       "wait_time                   -0.0556      0.024     -2.311      0.021      -0.103      -0.008\n",
       "expected_wait_time          -0.0147      0.024     -0.612      0.541      -0.062       0.032\n",
       "delay_vs_expected           -0.0443      0.024     -1.843      0.065      -0.091       0.003\n",
       "number_of_products           0.4695      0.020     23.776      0.000       0.431       0.508\n",
       "number_of_sellers            1.5443      0.064     24.069      0.000       1.419       1.670\n",
       "price                        0.0002   5.44e-05      4.593      0.000       0.000       0.000\n",
       "freight_value               -0.0007      0.001     -1.163      0.245      -0.002       0.000\n",
       "distance_seller_customer    -0.0002   2.38e-05     -9.920      0.000      -0.000      -0.000\n",
       "============================================================================================\n",
       "\"\"\""
      ]
     },
     "execution_count": 37,
     "metadata": {},
     "output_type": "execute_result"
    }
   ],
   "source": [
    "logit_one = smf.logit(formula = 'dim_is_one_star ~ ' +' + '.join(features), data=orders).fit()\n",
    "logit_one.summary()"
   ]
  },
  {
   "cell_type": "markdown",
   "metadata": {},
   "source": [
    "`Logit 5️⃣`"
   ]
  },
  {
   "cell_type": "code",
   "execution_count": 38,
   "metadata": {
    "tags": [
     "challengify"
    ]
   },
   "outputs": [
    {
     "name": "stdout",
     "output_type": "stream",
     "text": [
      "Optimization terminated successfully.\n",
      "         Current function value: 0.637949\n",
      "         Iterations 5\n"
     ]
    },
    {
     "data": {
      "text/html": [
       "<table class=\"simpletable\">\n",
       "<caption>Logit Regression Results</caption>\n",
       "<tr>\n",
       "  <th>Dep. Variable:</th>   <td>dim_is_five_star</td> <th>  No. Observations:  </th>  <td> 95872</td> \n",
       "</tr>\n",
       "<tr>\n",
       "  <th>Model:</th>                 <td>Logit</td>      <th>  Df Residuals:      </th>  <td> 95863</td> \n",
       "</tr>\n",
       "<tr>\n",
       "  <th>Method:</th>                 <td>MLE</td>       <th>  Df Model:          </th>  <td>     8</td> \n",
       "</tr>\n",
       "<tr>\n",
       "  <th>Date:</th>            <td>Thu, 28 Jul 2022</td> <th>  Pseudo R-squ.:     </th>  <td>0.05640</td>\n",
       "</tr>\n",
       "<tr>\n",
       "  <th>Time:</th>                <td>12:10:04</td>     <th>  Log-Likelihood:    </th> <td> -61161.</td>\n",
       "</tr>\n",
       "<tr>\n",
       "  <th>converged:</th>             <td>True</td>       <th>  LL-Null:           </th> <td> -64817.</td>\n",
       "</tr>\n",
       "<tr>\n",
       "  <th>Covariance Type:</th>     <td>nonrobust</td>    <th>  LLR p-value:       </th>  <td> 0.000</td> \n",
       "</tr>\n",
       "</table>\n",
       "<table class=\"simpletable\">\n",
       "<tr>\n",
       "              <td></td>                <th>coef</th>     <th>std err</th>      <th>z</th>      <th>P>|z|</th>  <th>[0.025</th>    <th>0.975]</th>  \n",
       "</tr>\n",
       "<tr>\n",
       "  <th>Intercept</th>                <td>    2.4385</td> <td>    0.066</td> <td>   36.927</td> <td> 0.000</td> <td>    2.309</td> <td>    2.568</td>\n",
       "</tr>\n",
       "<tr>\n",
       "  <th>wait_time</th>                <td>    0.0189</td> <td>    0.014</td> <td>    1.356</td> <td> 0.175</td> <td>   -0.008</td> <td>    0.046</td>\n",
       "</tr>\n",
       "<tr>\n",
       "  <th>expected_wait_time</th>       <td>    0.0411</td> <td>    0.014</td> <td>    2.951</td> <td> 0.003</td> <td>    0.014</td> <td>    0.068</td>\n",
       "</tr>\n",
       "<tr>\n",
       "  <th>delay_vs_expected</th>        <td>    0.0549</td> <td>    0.014</td> <td>    3.936</td> <td> 0.000</td> <td>    0.028</td> <td>    0.082</td>\n",
       "</tr>\n",
       "<tr>\n",
       "  <th>number_of_products</th>       <td>   -0.2557</td> <td>    0.016</td> <td>  -16.358</td> <td> 0.000</td> <td>   -0.286</td> <td>   -0.225</td>\n",
       "</tr>\n",
       "<tr>\n",
       "  <th>number_of_sellers</th>        <td>   -1.2096</td> <td>    0.064</td> <td>  -19.009</td> <td> 0.000</td> <td>   -1.334</td> <td>   -1.085</td>\n",
       "</tr>\n",
       "<tr>\n",
       "  <th>price</th>                    <td> 9.251e-05</td> <td> 3.67e-05</td> <td>    2.519</td> <td> 0.012</td> <td> 2.05e-05</td> <td>    0.000</td>\n",
       "</tr>\n",
       "<tr>\n",
       "  <th>freight_value</th>            <td>    0.0002</td> <td>    0.000</td> <td>    0.407</td> <td> 0.684</td> <td>   -0.001</td> <td>    0.001</td>\n",
       "</tr>\n",
       "<tr>\n",
       "  <th>distance_seller_customer</th> <td>    0.0001</td> <td> 1.46e-05</td> <td>    9.328</td> <td> 0.000</td> <td>    0.000</td> <td>    0.000</td>\n",
       "</tr>\n",
       "</table>"
      ],
      "text/plain": [
       "<class 'statsmodels.iolib.summary.Summary'>\n",
       "\"\"\"\n",
       "                           Logit Regression Results                           \n",
       "==============================================================================\n",
       "Dep. Variable:       dim_is_five_star   No. Observations:                95872\n",
       "Model:                          Logit   Df Residuals:                    95863\n",
       "Method:                           MLE   Df Model:                            8\n",
       "Date:                Thu, 28 Jul 2022   Pseudo R-squ.:                 0.05640\n",
       "Time:                        12:10:04   Log-Likelihood:                -61161.\n",
       "converged:                       True   LL-Null:                       -64817.\n",
       "Covariance Type:            nonrobust   LLR p-value:                     0.000\n",
       "============================================================================================\n",
       "                               coef    std err          z      P>|z|      [0.025      0.975]\n",
       "--------------------------------------------------------------------------------------------\n",
       "Intercept                    2.4385      0.066     36.927      0.000       2.309       2.568\n",
       "wait_time                    0.0189      0.014      1.356      0.175      -0.008       0.046\n",
       "expected_wait_time           0.0411      0.014      2.951      0.003       0.014       0.068\n",
       "delay_vs_expected            0.0549      0.014      3.936      0.000       0.028       0.082\n",
       "number_of_products          -0.2557      0.016    -16.358      0.000      -0.286      -0.225\n",
       "number_of_sellers           -1.2096      0.064    -19.009      0.000      -1.334      -1.085\n",
       "price                     9.251e-05   3.67e-05      2.519      0.012    2.05e-05       0.000\n",
       "freight_value                0.0002      0.000      0.407      0.684      -0.001       0.001\n",
       "distance_seller_customer     0.0001   1.46e-05      9.328      0.000       0.000       0.000\n",
       "============================================================================================\n",
       "\"\"\""
      ]
     },
     "execution_count": 38,
     "metadata": {},
     "output_type": "execute_result"
    }
   ],
   "source": [
    "logit_five = smf.logit(formula = 'dim_is_five_star ~' +' + '.join(features), data=orders).fit()\n",
    "logit_five.summary()"
   ]
  },
  {
   "cell_type": "markdown",
   "metadata": {},
   "source": [
    "💡 It's time to analyse the results of these two logistic regressions:\n",
    "\n",
    "- Interpret the partial coefficients in your own words.\n",
    "- Check their statistical significances with `p-values`\n",
    "- Do you notice any differences between `logit_one` and `logit_five` in terms of coefficient importances?"
   ]
  },
  {
   "cell_type": "code",
   "execution_count": 39,
   "metadata": {},
   "outputs": [],
   "source": [
    "# Among the following sentences, store the ones that are true in the list below\n",
    "\n",
    "a = \"delay_vs_expected influences five_star ratings even more than one_star ratings\"\n",
    "b = \"wait_time influences five_star ratings even more more than one_star\"\n",
    "\n",
    "your_answer = [ a ]"
   ]
  },
  {
   "cell_type": "markdown",
   "metadata": {},
   "source": [
    "🧪 __Test your code__"
   ]
  },
  {
   "cell_type": "code",
   "execution_count": 40,
   "metadata": {},
   "outputs": [
    {
     "name": "stdout",
     "output_type": "stream",
     "text": [
      "\n",
      "\u001b[1m============================= test session starts ==============================\u001b[0m\n",
      "platform linux -- Python 3.8.10, pytest-7.1.2, pluggy-1.0.0 -- /bin/python3\n",
      "cachedir: .pytest_cache\n",
      "rootdir: /home/quantium/labs/lewagon/data-challenges/04-Decision-Science/04-Logistic-Regression/01-Logit/tests\n",
      "plugins: dash-1.19.0, anyio-3.6.1\n",
      "\u001b[1mcollecting ... \u001b[0mcollected 1 item\n",
      "\n",
      "test_logit.py::TestLogit::test_question \u001b[32mPASSED\u001b[0m\u001b[32m                           [100%]\u001b[0m\n",
      "\n",
      "\u001b[32m============================== \u001b[32m\u001b[1m1 passed\u001b[0m\u001b[32m in 0.03s\u001b[0m\u001b[32m ===============================\u001b[0m\n",
      "\n",
      "\n",
      "💯 You can commit your code:\n",
      "\n",
      "\u001b[1;32mgit\u001b[39m add tests/logit.pickle\n",
      "\n",
      "\u001b[32mgit\u001b[39m commit -m \u001b[33m'Completed logit step'\u001b[39m\n",
      "\n",
      "\u001b[32mgit\u001b[39m push origin master\n",
      "\n"
     ]
    }
   ],
   "source": [
    "from nbresult import ChallengeResult\n",
    "\n",
    "result = ChallengeResult('logit',\n",
    "    answers = your_answer\n",
    ")\n",
    "result.write()\n",
    "print(result.check())"
   ]
  },
  {
   "cell_type": "markdown",
   "metadata": {},
   "source": [
    "<details>\n",
    "    <summary>- <i>Explanations and advanced concepts </i> -</summary>\n",
    "\n",
    "\n",
    "> _All other thing being equal, the `delay factor` tends to increase the chances of getting stripped of the 5-star even more so than it affect the chances of 1-star reviews. Probably because 1-stars are really targeting bad products themselves, not bad deliveries_\n",
    "    \n",
    "❗️ However, to be totally rigorous, we have to be **more careful when comparing coefficients from two different models**, because **they might not be based on similar populations**!\n",
    "    We have 2 sub-populations here: (people who gave 1-stars; and people who gave 5-stars) and they may exhibit intrinsically different behavior patterns. It may well be that \"happy-people\" (who tends to give 5-stars easily) are less sensitive as \"grumpy-people\" (who shoot 1-stars like Lucky-Luke), when it comes to \"delay\", or \"price\"...\n",
    "\n",
    "</details>\n"
   ]
  },
  {
   "cell_type": "markdown",
   "metadata": {},
   "source": [
    "## Logistic vs. Linear ?"
   ]
  },
  {
   "cell_type": "markdown",
   "metadata": {},
   "source": [
    "👉 Compare:\n",
    "- the regression coefficients obtained from the `Logistic Regression `\n",
    "- with the regression coefficients obtained through a `Linear Regression` \n",
    "- on `review_score`, using the same features. \n",
    "\n",
    "⚠️ Check that both sets of coefficients  tell  \"the same story\"."
   ]
  },
  {
   "cell_type": "markdown",
   "metadata": {
    "tags": [
     "challengify"
    ]
   },
   "source": [
    "The Linear Regression is used for solving Regression problems whereas Logistic Regression is used for solving the Classification problems."
   ]
  },
  {
   "cell_type": "code",
   "execution_count": 45,
   "metadata": {
    "tags": [
     "challengify"
    ]
   },
   "outputs": [
    {
     "data": {
      "text/html": [
       "<table class=\"simpletable\">\n",
       "<caption>OLS Regression Results</caption>\n",
       "<tr>\n",
       "  <th>Dep. Variable:</th>    <td>dim_is_five_star</td> <th>  R-squared:         </th> <td>   0.067</td> \n",
       "</tr>\n",
       "<tr>\n",
       "  <th>Model:</th>                   <td>OLS</td>       <th>  Adj. R-squared:    </th> <td>   0.067</td> \n",
       "</tr>\n",
       "<tr>\n",
       "  <th>Method:</th>             <td>Least Squares</td>  <th>  F-statistic:       </th> <td>   863.2</td> \n",
       "</tr>\n",
       "<tr>\n",
       "  <th>Date:</th>             <td>Thu, 28 Jul 2022</td> <th>  Prob (F-statistic):</th>  <td>  0.00</td>  \n",
       "</tr>\n",
       "<tr>\n",
       "  <th>Time:</th>                 <td>12:10:13</td>     <th>  Log-Likelihood:    </th> <td> -64594.</td> \n",
       "</tr>\n",
       "<tr>\n",
       "  <th>No. Observations:</th>      <td> 95872</td>      <th>  AIC:               </th> <td>1.292e+05</td>\n",
       "</tr>\n",
       "<tr>\n",
       "  <th>Df Residuals:</th>          <td> 95863</td>      <th>  BIC:               </th> <td>1.293e+05</td>\n",
       "</tr>\n",
       "<tr>\n",
       "  <th>Df Model:</th>              <td>     8</td>      <th>                     </th>     <td> </td>    \n",
       "</tr>\n",
       "<tr>\n",
       "  <th>Covariance Type:</th>      <td>nonrobust</td>    <th>                     </th>     <td> </td>    \n",
       "</tr>\n",
       "</table>\n",
       "<table class=\"simpletable\">\n",
       "<tr>\n",
       "              <td></td>                <th>coef</th>     <th>std err</th>      <th>t</th>      <th>P>|t|</th>  <th>[0.025</th>    <th>0.975]</th>  \n",
       "</tr>\n",
       "<tr>\n",
       "  <th>Intercept</th>                <td>    1.0297</td> <td>    0.013</td> <td>   76.580</td> <td> 0.000</td> <td>    1.003</td> <td>    1.056</td>\n",
       "</tr>\n",
       "<tr>\n",
       "  <th>wait_time</th>                <td>    0.0029</td> <td>    0.003</td> <td>    0.924</td> <td> 0.356</td> <td>   -0.003</td> <td>    0.009</td>\n",
       "</tr>\n",
       "<tr>\n",
       "  <th>expected_wait_time</th>       <td>    0.0085</td> <td>    0.003</td> <td>    2.724</td> <td> 0.006</td> <td>    0.002</td> <td>    0.015</td>\n",
       "</tr>\n",
       "<tr>\n",
       "  <th>delay_vs_expected</th>        <td>    0.0108</td> <td>    0.003</td> <td>    3.457</td> <td> 0.001</td> <td>    0.005</td> <td>    0.017</td>\n",
       "</tr>\n",
       "<tr>\n",
       "  <th>number_of_products</th>       <td>   -0.0549</td> <td>    0.003</td> <td>  -16.395</td> <td> 0.000</td> <td>   -0.061</td> <td>   -0.048</td>\n",
       "</tr>\n",
       "<tr>\n",
       "  <th>number_of_sellers</th>        <td>   -0.2588</td> <td>    0.013</td> <td>  -19.950</td> <td> 0.000</td> <td>   -0.284</td> <td>   -0.233</td>\n",
       "</tr>\n",
       "<tr>\n",
       "  <th>price</th>                    <td> 2.198e-05</td> <td> 8.12e-06</td> <td>    2.708</td> <td> 0.007</td> <td> 6.07e-06</td> <td> 3.79e-05</td>\n",
       "</tr>\n",
       "<tr>\n",
       "  <th>freight_value</th>            <td>-2.321e-05</td> <td> 9.23e-05</td> <td>   -0.251</td> <td> 0.801</td> <td>   -0.000</td> <td>    0.000</td>\n",
       "</tr>\n",
       "<tr>\n",
       "  <th>distance_seller_customer</th> <td> 2.036e-05</td> <td> 3.21e-06</td> <td>    6.336</td> <td> 0.000</td> <td> 1.41e-05</td> <td> 2.67e-05</td>\n",
       "</tr>\n",
       "</table>\n",
       "<table class=\"simpletable\">\n",
       "<tr>\n",
       "  <th>Omnibus:</th>       <td>527379.568</td> <th>  Durbin-Watson:     </th> <td>   1.995</td> \n",
       "</tr>\n",
       "<tr>\n",
       "  <th>Prob(Omnibus):</th>   <td> 0.000</td>   <th>  Jarque-Bera (JB):  </th> <td>11808.515</td>\n",
       "</tr>\n",
       "<tr>\n",
       "  <th>Skew:</th>            <td>-0.383</td>   <th>  Prob(JB):          </th> <td>    0.00</td> \n",
       "</tr>\n",
       "<tr>\n",
       "  <th>Kurtosis:</th>        <td> 1.461</td>   <th>  Cond. No.          </th> <td>1.01e+04</td> \n",
       "</tr>\n",
       "</table><br/><br/>Notes:<br/>[1] Standard Errors assume that the covariance matrix of the errors is correctly specified.<br/>[2] The condition number is large, 1.01e+04. This might indicate that there are<br/>strong multicollinearity or other numerical problems."
      ],
      "text/plain": [
       "<class 'statsmodels.iolib.summary.Summary'>\n",
       "\"\"\"\n",
       "                            OLS Regression Results                            \n",
       "==============================================================================\n",
       "Dep. Variable:       dim_is_five_star   R-squared:                       0.067\n",
       "Model:                            OLS   Adj. R-squared:                  0.067\n",
       "Method:                 Least Squares   F-statistic:                     863.2\n",
       "Date:                Thu, 28 Jul 2022   Prob (F-statistic):               0.00\n",
       "Time:                        12:10:13   Log-Likelihood:                -64594.\n",
       "No. Observations:               95872   AIC:                         1.292e+05\n",
       "Df Residuals:                   95863   BIC:                         1.293e+05\n",
       "Df Model:                           8                                         \n",
       "Covariance Type:            nonrobust                                         \n",
       "============================================================================================\n",
       "                               coef    std err          t      P>|t|      [0.025      0.975]\n",
       "--------------------------------------------------------------------------------------------\n",
       "Intercept                    1.0297      0.013     76.580      0.000       1.003       1.056\n",
       "wait_time                    0.0029      0.003      0.924      0.356      -0.003       0.009\n",
       "expected_wait_time           0.0085      0.003      2.724      0.006       0.002       0.015\n",
       "delay_vs_expected            0.0108      0.003      3.457      0.001       0.005       0.017\n",
       "number_of_products          -0.0549      0.003    -16.395      0.000      -0.061      -0.048\n",
       "number_of_sellers           -0.2588      0.013    -19.950      0.000      -0.284      -0.233\n",
       "price                     2.198e-05   8.12e-06      2.708      0.007    6.07e-06    3.79e-05\n",
       "freight_value            -2.321e-05   9.23e-05     -0.251      0.801      -0.000       0.000\n",
       "distance_seller_customer  2.036e-05   3.21e-06      6.336      0.000    1.41e-05    2.67e-05\n",
       "==============================================================================\n",
       "Omnibus:                   527379.568   Durbin-Watson:                   1.995\n",
       "Prob(Omnibus):                  0.000   Jarque-Bera (JB):            11808.515\n",
       "Skew:                          -0.383   Prob(JB):                         0.00\n",
       "Kurtosis:                       1.461   Cond. No.                     1.01e+04\n",
       "==============================================================================\n",
       "\n",
       "Notes:\n",
       "[1] Standard Errors assume that the covariance matrix of the errors is correctly specified.\n",
       "[2] The condition number is large, 1.01e+04. This might indicate that there are\n",
       "strong multicollinearity or other numerical problems.\n",
       "\"\"\""
      ]
     },
     "execution_count": 45,
     "metadata": {},
     "output_type": "execute_result"
    }
   ],
   "source": [
    "ols_one = smf.ols(formula = 'dim_is_one_star ~ ' +' + '.join(features), data=orders).fit()\n",
    "ols_one.summary()\n",
    "ols_five = smf.ols(formula = 'dim_is_five_star ~ ' +' + '.join(features), data=orders).fit()\n",
    "ols_five.summary()"
   ]
  },
  {
   "cell_type": "code",
   "execution_count": 48,
   "metadata": {},
   "outputs": [
    {
     "data": {
      "image/png": "[encoded data removed]",
      "text/plain": [
       "<Figure size 1440x864 with 4 Axes>"
      ]
     },
     "metadata": {
      "needs_background": "light"
     },
     "output_type": "display_data"
    }
   ],
   "source": [
    "plt.figure(figsize=(20,12))\n",
    "plt.subplot(2,2,1)\n",
    "logit_one.params[1:].plot(kind='barh', title = \"logit_one\")\n",
    "plt.subplot(2,2,2)\n",
    "ols_one.params[1:].plot(kind='barh', title = \"ols_one\")\n",
    "plt.subplot(2,2,3)\n",
    "logit_five.params[1:].plot(kind='barh', title = \"logit_five\")\n",
    "plt.subplot(2,2,4)\n",
    "ols_five.params[1:].plot(kind='barh', title = \"ols_five\");"
   ]
  },
  {
   "cell_type": "code",
   "execution_count": 42,
   "metadata": {},
   "outputs": [
    {
     "data": {
      "text/html": [
       "<table class=\"simpletable\">\n",
       "<caption>OLS Regression Results</caption>\n",
       "<tr>\n",
       "  <th>Dep. Variable:</th>      <td>review_score</td>   <th>  R-squared:         </th>  <td>   0.148</td>  \n",
       "</tr>\n",
       "<tr>\n",
       "  <th>Model:</th>                   <td>OLS</td>       <th>  Adj. R-squared:    </th>  <td>   0.148</td>  \n",
       "</tr>\n",
       "<tr>\n",
       "  <th>Method:</th>             <td>Least Squares</td>  <th>  F-statistic:       </th>  <td>   2083.</td>  \n",
       "</tr>\n",
       "<tr>\n",
       "  <th>Date:</th>             <td>Thu, 28 Jul 2022</td> <th>  Prob (F-statistic):</th>   <td>  0.00</td>   \n",
       "</tr>\n",
       "<tr>\n",
       "  <th>Time:</th>                 <td>12:10:07</td>     <th>  Log-Likelihood:    </th> <td>-1.5240e+05</td>\n",
       "</tr>\n",
       "<tr>\n",
       "  <th>No. Observations:</th>      <td> 95872</td>      <th>  AIC:               </th>  <td>3.048e+05</td> \n",
       "</tr>\n",
       "<tr>\n",
       "  <th>Df Residuals:</th>          <td> 95863</td>      <th>  BIC:               </th>  <td>3.049e+05</td> \n",
       "</tr>\n",
       "<tr>\n",
       "  <th>Df Model:</th>              <td>     8</td>      <th>                     </th>      <td> </td>     \n",
       "</tr>\n",
       "<tr>\n",
       "  <th>Covariance Type:</th>      <td>nonrobust</td>    <th>                     </th>      <td> </td>     \n",
       "</tr>\n",
       "</table>\n",
       "<table class=\"simpletable\">\n",
       "<tr>\n",
       "              <td></td>                <th>coef</th>     <th>std err</th>      <th>t</th>      <th>P>|t|</th>  <th>[0.025</th>    <th>0.975]</th>  \n",
       "</tr>\n",
       "<tr>\n",
       "  <th>Intercept</th>                <td>    5.9095</td> <td>    0.034</td> <td>  175.875</td> <td> 0.000</td> <td>    5.844</td> <td>    5.975</td>\n",
       "</tr>\n",
       "<tr>\n",
       "  <th>wait_time</th>                <td>    0.0201</td> <td>    0.008</td> <td>    2.576</td> <td> 0.010</td> <td>    0.005</td> <td>    0.035</td>\n",
       "</tr>\n",
       "<tr>\n",
       "  <th>expected_wait_time</th>       <td>    0.0219</td> <td>    0.008</td> <td>    2.806</td> <td> 0.005</td> <td>    0.007</td> <td>    0.037</td>\n",
       "</tr>\n",
       "<tr>\n",
       "  <th>delay_vs_expected</th>        <td>    0.0329</td> <td>    0.008</td> <td>    4.208</td> <td> 0.000</td> <td>    0.018</td> <td>    0.048</td>\n",
       "</tr>\n",
       "<tr>\n",
       "  <th>number_of_products</th>       <td>   -0.2404</td> <td>    0.008</td> <td>  -28.713</td> <td> 0.000</td> <td>   -0.257</td> <td>   -0.224</td>\n",
       "</tr>\n",
       "<tr>\n",
       "  <th>number_of_sellers</th>        <td>   -1.0939</td> <td>    0.032</td> <td>  -33.751</td> <td> 0.000</td> <td>   -1.157</td> <td>   -1.030</td>\n",
       "</tr>\n",
       "<tr>\n",
       "  <th>price</th>                    <td>-1.646e-05</td> <td> 2.03e-05</td> <td>   -0.812</td> <td> 0.417</td> <td>-5.62e-05</td> <td> 2.33e-05</td>\n",
       "</tr>\n",
       "<tr>\n",
       "  <th>freight_value</th>            <td>-3.544e-05</td> <td>    0.000</td> <td>   -0.154</td> <td> 0.878</td> <td>   -0.000</td> <td>    0.000</td>\n",
       "</tr>\n",
       "<tr>\n",
       "  <th>distance_seller_customer</th> <td>    0.0001</td> <td> 8.03e-06</td> <td>   14.656</td> <td> 0.000</td> <td>    0.000</td> <td>    0.000</td>\n",
       "</tr>\n",
       "</table>\n",
       "<table class=\"simpletable\">\n",
       "<tr>\n",
       "  <th>Omnibus:</th>       <td>18642.442</td> <th>  Durbin-Watson:     </th> <td>   2.009</td> \n",
       "</tr>\n",
       "<tr>\n",
       "  <th>Prob(Omnibus):</th>  <td> 0.000</td>   <th>  Jarque-Bera (JB):  </th> <td>35855.232</td>\n",
       "</tr>\n",
       "<tr>\n",
       "  <th>Skew:</th>           <td>-1.195</td>   <th>  Prob(JB):          </th> <td>    0.00</td> \n",
       "</tr>\n",
       "<tr>\n",
       "  <th>Kurtosis:</th>       <td> 4.806</td>   <th>  Cond. No.          </th> <td>1.01e+04</td> \n",
       "</tr>\n",
       "</table><br/><br/>Notes:<br/>[1] Standard Errors assume that the covariance matrix of the errors is correctly specified.<br/>[2] The condition number is large, 1.01e+04. This might indicate that there are<br/>strong multicollinearity or other numerical problems."
      ],
      "text/plain": [
       "<class 'statsmodels.iolib.summary.Summary'>\n",
       "\"\"\"\n",
       "                            OLS Regression Results                            \n",
       "==============================================================================\n",
       "Dep. Variable:           review_score   R-squared:                       0.148\n",
       "Model:                            OLS   Adj. R-squared:                  0.148\n",
       "Method:                 Least Squares   F-statistic:                     2083.\n",
       "Date:                Thu, 28 Jul 2022   Prob (F-statistic):               0.00\n",
       "Time:                        12:10:07   Log-Likelihood:            -1.5240e+05\n",
       "No. Observations:               95872   AIC:                         3.048e+05\n",
       "Df Residuals:                   95863   BIC:                         3.049e+05\n",
       "Df Model:                           8                                         \n",
       "Covariance Type:            nonrobust                                         \n",
       "============================================================================================\n",
       "                               coef    std err          t      P>|t|      [0.025      0.975]\n",
       "--------------------------------------------------------------------------------------------\n",
       "Intercept                    5.9095      0.034    175.875      0.000       5.844       5.975\n",
       "wait_time                    0.0201      0.008      2.576      0.010       0.005       0.035\n",
       "expected_wait_time           0.0219      0.008      2.806      0.005       0.007       0.037\n",
       "delay_vs_expected            0.0329      0.008      4.208      0.000       0.018       0.048\n",
       "number_of_products          -0.2404      0.008    -28.713      0.000      -0.257      -0.224\n",
       "number_of_sellers           -1.0939      0.032    -33.751      0.000      -1.157      -1.030\n",
       "price                    -1.646e-05   2.03e-05     -0.812      0.417   -5.62e-05    2.33e-05\n",
       "freight_value            -3.544e-05      0.000     -0.154      0.878      -0.000       0.000\n",
       "distance_seller_customer     0.0001   8.03e-06     14.656      0.000       0.000       0.000\n",
       "==============================================================================\n",
       "Omnibus:                    18642.442   Durbin-Watson:                   2.009\n",
       "Prob(Omnibus):                  0.000   Jarque-Bera (JB):            35855.232\n",
       "Skew:                          -1.195   Prob(JB):                         0.00\n",
       "Kurtosis:                       4.806   Cond. No.                     1.01e+04\n",
       "==============================================================================\n",
       "\n",
       "Notes:\n",
       "[1] Standard Errors assume that the covariance matrix of the errors is correctly specified.\n",
       "[2] The condition number is large, 1.01e+04. This might indicate that there are\n",
       "strong multicollinearity or other numerical problems.\n",
       "\"\"\""
      ]
     },
     "execution_count": 42,
     "metadata": {},
     "output_type": "execute_result"
    }
   ],
   "source": [
    "linear_model = smf.ols(formula = 'review_score ~ ' +' + '.join(features), data=orders).fit()\n",
    "linear_model.summary()"
   ]
  },
  {
   "cell_type": "code",
   "execution_count": 55,
   "metadata": {},
   "outputs": [
    {
     "data": {
      "image/png": "[encoded data removed]",
      "text/plain": [
       "<Figure size 936x360 with 2 Axes>"
      ]
     },
     "metadata": {
      "needs_background": "light"
     },
     "output_type": "display_data"
    }
   ],
   "source": [
    "plt.figure(figsize=(13,5))\n",
    "plt.suptitle('Linear vs. Logit Coefficents')\n",
    "ax1 = plt.subplot(1,2,1)\n",
    "ax1.set_title('Linear')\n",
    "ax1.set_xlim(-1.5, 0.25)\n",
    "linear_model.params[1:].sort_values().plot(kind='barh', ax=ax1)\n",
    "ax2 = plt.subplot(1,2,2)\n",
    "ax2.set_title('Logit')\n",
    "ax2.yaxis.tick_right()\n",
    "ax2.set_xlim(-1.5, 0.25)\n",
    "logit_five.params[1:].sort_values().plot(kind='barh', ax=ax2);"
   ]
  },
  {
   "cell_type": "markdown",
   "metadata": {},
   "source": [
    "🏁 Congratulations! \n",
    "\n",
    "💾 Don't forget to commit and push your `logit.ipynb` notebook !"
   ]
  },
  {
   "cell_type": "code",
   "execution_count": null,
   "metadata": {},
   "outputs": [],
   "source": []
  }
 ],
 "metadata": {
  "kernelspec": {
   "display_name": "Python 3.8.10 64-bit",
   "language": "python",
   "name": "python3"
  },
  "language_info": {
   "codemirror_mode": {
    "name": "ipython",
    "version": 3
   },
   "file_extension": ".py",
   "mimetype": "text/x-python",
   "name": "python",
   "nbconvert_exporter": "python",
   "pygments_lexer": "ipython3",
   "version": "3.8.10"
  },
  "vscode": {
   "interpreter": {
    "hash": "916dbcbb3f70747c44a77c7bcd40155683ae19c65e1c03b4aa3499c5328201f1"
   }
  }
 },
 "nbformat": 4,
 "nbformat_minor": 4
}
