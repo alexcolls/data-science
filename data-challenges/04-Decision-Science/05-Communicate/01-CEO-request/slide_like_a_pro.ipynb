{
 "cells": [
  {
   "cell_type": "markdown",
   "metadata": {},
   "source": [
    "# How to slide like a pro?"
   ]
  },
  {
   "cell_type": "markdown",
   "metadata": {
    "slideshow": {
     "slide_type": "skip"
    }
   },
   "source": [
    "Try to understand this notebook and get inspiration for your slide-based presentation\n",
    "- Click on `View-->Cell Toolbar-->SlideShow` to display Slide Types\n",
    "- Click on `View-->Cell Toolbar-->Tags` to display Slide Tags\n",
    "\n",
    "Then, generate an html-slide version of this using the following command:\n",
    "\n",
    "```\n",
    "jupyter nbconvert slide_like_a_pro.ipynb --to slides --post serve \\\n",
    "--no-prompt \\\n",
    "--TagRemovePreprocessor.remove_input_tags=remove_input \\\n",
    "--TagRemovePreprocessor.remove_all_outputs_tags=remove_output\n",
    "```\n",
    "\n",
    "- `no-prompt` removes the In [xx]: and Out[xx]: to the left of each cells\n",
    "- `--TagRemovePreprocessor` allows you to not display either inputs or outputs of cells that have the associated Tag"
   ]
  },
  {
   "cell_type": "code",
   "execution_count": null,
   "metadata": {
    "slideshow": {
     "slide_type": "skip"
    }
   },
   "outputs": [],
   "source": [
    "# Skip these imports cells from displaying as slide\n",
    "%load_ext autoreload\n",
    "%autoreload 2\n",
    "import pandas as pd\n",
    "import numpy as np\n",
    "import matplotlib.pyplot as plt\n",
    "import seaborn as sns\n",
    "\n",
    "import numpy as np\n",
    "import matplotlib.pyplot as plt\n"
   ]
  },
  {
   "cell_type": "code",
   "execution_count": null,
   "metadata": {
    "slideshow": {
     "slide_type": "subslide"
    }
   },
   "outputs": [],
   "source": [
    "# This plot is not interactive\n",
    "data = np.random.randn(2, 100)\n",
    "fig, ax = plt.subplots()\n",
    "ax.scatter(*data, c=data[1], s=100*np.abs(data[0]));"
   ]
  },
  {
   "cell_type": "code",
   "execution_count": null,
   "metadata": {
    "slideshow": {
     "slide_type": "subslide"
    }
   },
   "outputs": [],
   "source": [
    "# This plot is interactive on your notebook only (but invisible on the slides)\n",
    "%matplotlib widget\n",
    "data = np.random.randn(2, 100)\n",
    "fig, ax = plt.subplots()\n",
    "ax.scatter(*data, c=data[1], s=100*np.abs(data[0]));"
   ]
  },
  {
   "cell_type": "code",
   "execution_count": null,
   "metadata": {
    "slideshow": {
     "slide_type": "skip"
    }
   },
   "outputs": [],
   "source": [
    "#Let's get back to normal mode\n",
    "%matplotlib inline"
   ]
  },
  {
   "cell_type": "markdown",
   "metadata": {
    "slideshow": {
     "slide_type": "subslide"
    }
   },
   "source": [
    "### How to display interactive charts?\n",
    "\n",
    "- Use plotly !\n",
    "- If the chart below does not display on slides after rendering, try to run the cell below to force javascript injection of plotly inside your notebook JSON."
   ]
  },
  {
   "cell_type": "code",
   "execution_count": null,
   "metadata": {
    "slideshow": {
     "slide_type": "skip"
    }
   },
   "outputs": [],
   "source": [
    "# # Try this first\n",
    "# import plotly\n",
    "# plotly.offline.init_notebook_mode(connected=True)"
   ]
  },
  {
   "cell_type": "code",
   "execution_count": null,
   "metadata": {
    "slideshow": {
     "slide_type": "skip"
    }
   },
   "outputs": [],
   "source": [
    "# # If it does not work, try this too\n",
    "# from IPython.display import Javascript\n",
    "# from plotly.offline import get_plotlyjs\n",
    "# Javascript(get_plotlyjs())"
   ]
  },
  {
   "cell_type": "code",
   "execution_count": null,
   "metadata": {
    "slideshow": {
     "slide_type": "subslide"
    }
   },
   "outputs": [],
   "source": [
    "# Only pyplot can easily make a graph interactive in notebook AND slides\n",
    "import plotly.express as px\n",
    "df = px.data.gapminder()\n",
    "fig = px.scatter(df.query(\"year==2007\"), x=\"gdpPercap\", y=\"lifeExp\", size=\"pop\", color=\"continent\",\n",
    "           hover_name=\"country\", log_x=True, size_max=60)\n",
    "fig.show()"
   ]
  },
  {
   "cell_type": "markdown",
   "metadata": {
    "slideshow": {
     "slide_type": "subslide"
    }
   },
   "source": [
    "## How to Remove inputs?\n",
    "\n",
    "The following fragment 👇 should only show the dataframe output because the cell \"tag\" is set to \"remove_input\""
   ]
  },
  {
   "cell_type": "code",
   "execution_count": null,
   "metadata": {
    "slideshow": {
     "slide_type": "fragment"
    },
    "tags": [
     "remove_input"
    ]
   },
   "outputs": [],
   "source": [
    "lift = np.arange(0.01, 0.05, 0.01)\n",
    "benefits = pd.DataFrame({'lift': lift, \n",
    "                        'benefit': 100000*20*lift})\n",
    "benefits"
   ]
  },
  {
   "cell_type": "markdown",
   "metadata": {},
   "source": [
    "## How to Remove outputs?\n",
    "\n",
    "The following fragment 👇 should only show the cell input  because the cell \"tag\" is set to \"remove_output\""
   ]
  },
  {
   "cell_type": "code",
   "execution_count": null,
   "metadata": {
    "tags": [
     "remove_output"
    ]
   },
   "outputs": [],
   "source": [
    "# Show this but not the result\n",
    "1+1"
   ]
  }
 ],
 "metadata": {
  "kernelspec": {
   "display_name": "Python 3.8.10 64-bit",
   "language": "python",
   "name": "python3"
  },
  "language_info": {
   "name": "python",
   "version": "3.8.10"
  },
  "vscode": {
   "interpreter": {
    "hash": "916dbcbb3f70747c44a77c7bcd40155683ae19c65e1c03b4aa3499c5328201f1"
   }
  }
 },
 "nbformat": 4,
 "nbformat_minor": 5
}
