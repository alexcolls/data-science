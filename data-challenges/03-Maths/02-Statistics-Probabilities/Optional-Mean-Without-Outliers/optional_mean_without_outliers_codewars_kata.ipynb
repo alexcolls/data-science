{
 "cells": [
  {
   "cell_type": "markdown",
   "metadata": {},
   "source": [
    "# Mean without outliers (Optional Challenge)"
   ]
  },
  {
   "cell_type": "markdown",
   "metadata": {},
   "source": [
    "\n",
    "\n",
    "📚 As you already know, the mean is defined by:\n",
    "\n",
    "$$ \\bar{x} = \\frac{1}{n} \\sum_{i=0}^{n} x_i = \\frac{x_1 + x_2 + ... + x_{n-1} + x_n}{n}$$\n",
    "\n",
    "⚠️ However, an outlier can wrongly influence the mean.\n",
    "\n",
    "💪 The median is a more robust measure of central tendancy.\n",
    "\n",
    "🤔 But what if we could create a function `mean_without_outliers` to compute - as the name says - the mean without outliers ?\n"
   ]
  },
  {
   "cell_type": "markdown",
   "metadata": {},
   "source": [
    "\n",
    "\n",
    "## Preliminary step: defining `outliers`\n",
    "\n",
    "This question implies a preliminary step: what is an `outlier` ?\n",
    "\n",
    "For each observation:\n",
    "\n",
    "* `option 1:` We could consider that an outlier is an observation with a **`z-score`** below -3 or above 3 for example. \n",
    "    - But it implies a strong assumption: you are assuming that your distribution is Gaussian.\n",
    "    - We could also be stricter with the z-score replacing 3-std-limit by 2, or more loose replacing the 3-std-limit by 4 or 5...\n",
    "\n",
    "* `option 2:` We could use the definition of an outlier in a **`whisker boxplot`** where an outlier is an observation that lives below `Q1 - 1.5 IQR` or above `Q3 + 1.5 IQR`\n",
    "\n"
   ]
  },
  {
   "cell_type": "code",
   "execution_count": null,
   "metadata": {},
   "outputs": [],
   "source": [
    "import numpy as np\n",
    "import pandas as pd"
   ]
  },
  {
   "cell_type": "code",
   "execution_count": null,
   "metadata": {},
   "outputs": [],
   "source": [
    "sample = [1, 2, 3, 4, 5, 6, 7, 8, 9, 10, 100]"
   ]
  },
  {
   "cell_type": "markdown",
   "metadata": {},
   "source": [
    "## Outliers defined by Z-score"
   ]
  },
  {
   "cell_type": "markdown",
   "metadata": {},
   "source": [
    "### Draft\n",
    "\n",
    "- For your sample, compute:\n",
    "    - the mean\n",
    "    - the standard deviation\n",
    "    - the z-score of each observation\n",
    "- Remove the outliers (observation with a z-score higher than your cutoff or lower than -cutoff\n",
    "- Compute the mean with the remaining elements\n",
    "\n",
    "Once you are satisfied with your steps, you can wrap these steps up into a single function in the next section of this notebook."
   ]
  },
  {
   "cell_type": "code",
   "execution_count": null,
   "metadata": {
    "tags": [
     "challengify"
    ]
   },
   "outputs": [],
   "source": [
    "# YOUR CODE HERE"
   ]
  },
  {
   "cell_type": "markdown",
   "metadata": {},
   "source": [
    "## `mean_without_outliers_z_score`"
   ]
  },
  {
   "cell_type": "code",
   "execution_count": null,
   "metadata": {},
   "outputs": [],
   "source": [
    "def mean_without_outliers_z_score(elements):\n",
    "    ''' return the mean of of a list of elements without outliers using the z_score'''\n",
    "    pass  # YOUR CODE HERE"
   ]
  },
  {
   "cell_type": "markdown",
   "metadata": {},
   "source": [
    "## Outliers defined by the boxplot"
   ]
  },
  {
   "cell_type": "markdown",
   "metadata": {},
   "source": [
    "### Draft\n",
    "\n",
    "- For your sample, compute:\n",
    "    - Q1\n",
    "    - Q3\n",
    "    - IQR\n",
    "    - the lower bound Q1 - 1.5 IQR\n",
    "    - the upper bound Q3 + 1.5 IQR\n",
    "- Remove the outliers (observations that are lower than the lower bound or greaterthan the upper bound\n",
    "- Compute the mean with the remaining elements\n",
    "\n",
    "Once you are satisfied with your steps, you can wrap these steps up into a single function in the next section of this notebook."
   ]
  },
  {
   "cell_type": "code",
   "execution_count": null,
   "metadata": {
    "tags": [
     "challengify"
    ]
   },
   "outputs": [],
   "source": [
    "# YOUR CODE HERE"
   ]
  },
  {
   "cell_type": "markdown",
   "metadata": {},
   "source": [
    "### `mean_without_outliers_boxplot`"
   ]
  },
  {
   "cell_type": "code",
   "execution_count": null,
   "metadata": {},
   "outputs": [],
   "source": [
    "def mean_without_outliers_boxplot(elements):\n",
    "    ''' return the mean of elements without outliers using the boxplot definition'''\n",
    "    pass  # YOUR CODE HERE"
   ]
  },
  {
   "cell_type": "markdown",
   "metadata": {},
   "source": [
    "## Comparisons\n",
    "\n",
    "*Uncomment the following cell*"
   ]
  },
  {
   "cell_type": "code",
   "execution_count": null,
   "metadata": {},
   "outputs": [],
   "source": [
    "# data = {'method': ['mean', 'mean filtering by z-score', 'mean filtering by outliers'], \n",
    "#         'result': [np.mean(sample),mean_without_outliers_z_score(sample), mean_without_outliers_boxplot(sample)]}\n",
    "# comparison_df = pd.DataFrame(data = data)\n",
    "# round(comparison_df,2)"
   ]
  },
  {
   "cell_type": "markdown",
   "metadata": {},
   "source": [
    "👏 If you managed to finish the optional, congrats !\n",
    "\n",
    "💾 Do not forget to `git add/commit/push` your work !"
   ]
  },
  {
   "cell_type": "code",
   "execution_count": null,
   "metadata": {},
   "outputs": [],
   "source": []
  }
 ],
 "metadata": {
  "kernelspec": {
   "display_name": "Python 3",
   "language": "python",
   "name": "python3"
  }
 },
 "nbformat": 4,
 "nbformat_minor": 5
}
