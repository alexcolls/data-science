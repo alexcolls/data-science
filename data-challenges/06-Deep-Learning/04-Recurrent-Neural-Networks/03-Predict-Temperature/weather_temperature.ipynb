{
 "cells": [
  {
   "cell_type": "markdown",
   "metadata": {},
   "source": [
    "# 🌤 Weather Temperature"
   ]
  },
  {
   "cell_type": "markdown",
   "metadata": {},
   "source": [
    "### Libraries"
   ]
  },
  {
   "cell_type": "markdown",
   "metadata": {},
   "source": [
    "* Let's import the usual libraries:"
   ]
  },
  {
   "cell_type": "code",
   "execution_count": 1,
   "metadata": {},
   "outputs": [],
   "source": [
    "# Data manipulation\n",
    "import numpy as np\n",
    "import pandas as pd\n",
    "#pd.set_option(\"max_columns\", None)\n",
    "\n",
    "# Data Visualiation\n",
    "import matplotlib.pyplot as plt\n",
    "import seaborn as sns\n",
    "\n",
    "# System\n",
    "import os\n",
    "\n",
    "# Deep Learning\n",
    "import tensorflow as tf"
   ]
  },
  {
   "cell_type": "markdown",
   "metadata": {},
   "source": [
    "* Manipulating temporal data is tricky, let's also import 📚 [`typing`](https://docs.python.org/3/library/typing.html) to check the types of variables we will be dealing with in our Python functions:"
   ]
  },
  {
   "cell_type": "code",
   "execution_count": 2,
   "metadata": {},
   "outputs": [],
   "source": [
    "from typing import Dict, List, Tuple, Sequence"
   ]
  },
  {
   "cell_type": "markdown",
   "metadata": {},
   "source": [
    "# (0) The weather temperature challenge"
   ]
  },
  {
   "cell_type": "markdown",
   "metadata": {},
   "source": [
    "## (0.0) Introduction"
   ]
  },
  {
   "cell_type": "markdown",
   "metadata": {},
   "source": [
    "🧑🏻‍🏫 **Goals:**\n",
    "- Prepare a dataset to be fed into a Recurrent Neural Network\n",
    "- Develop a better understanding of Time Series\n",
    "\n",
    "❗️ **Warning/Disclaimer**:\n",
    "- This challenge is truly designed to help you understand **how to deal with temporal data**, using an LSTM architecture as a _tool_, not to focus on the different gates of the LSTM or designing the \"best\" recurrent network."
   ]
  },
  {
   "cell_type": "markdown",
   "metadata": {},
   "source": [
    "🎯 **ML target**:\n",
    "* In this challenge, we want to **predict the temperature in the next 3, 6, 9, 12... hours**... \n",
    "* ...based on a sequence of weather features such as the _past temperature_, the _atmospheric pressure_, the _humidity_, etc.."
   ]
  },
  {
   "cell_type": "markdown",
   "metadata": {},
   "source": [
    "## (0.1) The weather dataset"
   ]
  },
  {
   "cell_type": "markdown",
   "metadata": {},
   "source": [
    "### (0.1.1) Loading the dataset"
   ]
  },
  {
   "cell_type": "markdown",
   "metadata": {},
   "source": [
    "🌤 This challenge uses a [**weather time series dataset**](https://www.bgc-jena.mpg.de/wetter/) recorded by the [**Max-Planck-Institute for Biogeochemistry**](https://www.bgc-jena.mpg.de/index.php/Main/HomePage). This dataset contains $14$ different features such as _air temperature_, _atmospheric pressure_ and _humidity_ that were collected starting in 2003 every 10 minutes (~ 420k rows). But for efficiency, you will use \"only\" the data collected between 2009 and 2016 every three hours. Indeed, this time interval seems reasonable to observe the evolution of the temperature throughout a given day.\n",
    "\n",
    "🛠 We've already performed the following feature engineering steps for you:\n",
    "- taking every $18$th record to focus on predictions every three hours $ ( 18 =  \\frac{6 records}{hour} \\times 3 hours)$\n",
    "- replacing absurd values\n",
    "- _wind_: computing the wind directions as wind vectors with coordinates (`Wx`, `Wy`)\n",
    "- computing _the daily and yearly periodicities_, stored through (`Day sin`, `Day cos`) and (`Year sin`, `Year cos`)"
   ]
  },
  {
   "cell_type": "markdown",
   "metadata": {},
   "source": [
    "##### (Keep this section for later) Downloading the original dataset and engineer the features manually\n",
    "\n",
    "_(Toggle the section to hide it for the moment)_"
   ]
  },
  {
   "cell_type": "markdown",
   "metadata": {},
   "source": [
    "🥋 If you want to practice your feature engineering skills, feel free to download the original dataset and work on it (but not today, there are many questions and reading sections to cover 😉)"
   ]
  },
  {
   "cell_type": "code",
   "execution_count": 3,
   "metadata": {},
   "outputs": [
    {
     "name": "stdout",
     "output_type": "stream",
     "text": [
      "Downloading data from https://storage.googleapis.com/tensorflow/tf-keras-datasets/jena_climate_2009_2016.csv.zip\n",
      "13568290/13568290 [==============================] - 9s 1us/step\n",
      "raw.shape = (420551, 15)\n"
     ]
    },
    {
     "data": {
      "text/html": [
       "<div>\n",
       "<style scoped>\n",
       "    .dataframe tbody tr th:only-of-type {\n",
       "        vertical-align: middle;\n",
       "    }\n",
       "\n",
       "    .dataframe tbody tr th {\n",
       "        vertical-align: top;\n",
       "    }\n",
       "\n",
       "    .dataframe thead th {\n",
       "        text-align: right;\n",
       "    }\n",
       "</style>\n",
       "<table border=\"1\" class=\"dataframe\">\n",
       "  <thead>\n",
       "    <tr style=\"text-align: right;\">\n",
       "      <th></th>\n",
       "      <th>Date Time</th>\n",
       "      <th>p (mbar)</th>\n",
       "      <th>T (degC)</th>\n",
       "      <th>Tpot (K)</th>\n",
       "      <th>Tdew (degC)</th>\n",
       "      <th>rh (%)</th>\n",
       "      <th>VPmax (mbar)</th>\n",
       "      <th>VPact (mbar)</th>\n",
       "      <th>VPdef (mbar)</th>\n",
       "      <th>sh (g/kg)</th>\n",
       "      <th>H2OC (mmol/mol)</th>\n",
       "      <th>rho (g/m**3)</th>\n",
       "      <th>wv (m/s)</th>\n",
       "      <th>max. wv (m/s)</th>\n",
       "      <th>wd (deg)</th>\n",
       "    </tr>\n",
       "  </thead>\n",
       "  <tbody>\n",
       "    <tr>\n",
       "      <th>0</th>\n",
       "      <td>01.01.2009 00:10:00</td>\n",
       "      <td>996.52</td>\n",
       "      <td>-8.02</td>\n",
       "      <td>265.40</td>\n",
       "      <td>-8.90</td>\n",
       "      <td>93.3</td>\n",
       "      <td>3.33</td>\n",
       "      <td>3.11</td>\n",
       "      <td>0.22</td>\n",
       "      <td>1.94</td>\n",
       "      <td>3.12</td>\n",
       "      <td>1307.75</td>\n",
       "      <td>1.03</td>\n",
       "      <td>1.75</td>\n",
       "      <td>152.3</td>\n",
       "    </tr>\n",
       "    <tr>\n",
       "      <th>1</th>\n",
       "      <td>01.01.2009 00:20:00</td>\n",
       "      <td>996.57</td>\n",
       "      <td>-8.41</td>\n",
       "      <td>265.01</td>\n",
       "      <td>-9.28</td>\n",
       "      <td>93.4</td>\n",
       "      <td>3.23</td>\n",
       "      <td>3.02</td>\n",
       "      <td>0.21</td>\n",
       "      <td>1.89</td>\n",
       "      <td>3.03</td>\n",
       "      <td>1309.80</td>\n",
       "      <td>0.72</td>\n",
       "      <td>1.50</td>\n",
       "      <td>136.1</td>\n",
       "    </tr>\n",
       "    <tr>\n",
       "      <th>2</th>\n",
       "      <td>01.01.2009 00:30:00</td>\n",
       "      <td>996.53</td>\n",
       "      <td>-8.51</td>\n",
       "      <td>264.91</td>\n",
       "      <td>-9.31</td>\n",
       "      <td>93.9</td>\n",
       "      <td>3.21</td>\n",
       "      <td>3.01</td>\n",
       "      <td>0.20</td>\n",
       "      <td>1.88</td>\n",
       "      <td>3.02</td>\n",
       "      <td>1310.24</td>\n",
       "      <td>0.19</td>\n",
       "      <td>0.63</td>\n",
       "      <td>171.6</td>\n",
       "    </tr>\n",
       "    <tr>\n",
       "      <th>3</th>\n",
       "      <td>01.01.2009 00:40:00</td>\n",
       "      <td>996.51</td>\n",
       "      <td>-8.31</td>\n",
       "      <td>265.12</td>\n",
       "      <td>-9.07</td>\n",
       "      <td>94.2</td>\n",
       "      <td>3.26</td>\n",
       "      <td>3.07</td>\n",
       "      <td>0.19</td>\n",
       "      <td>1.92</td>\n",
       "      <td>3.08</td>\n",
       "      <td>1309.19</td>\n",
       "      <td>0.34</td>\n",
       "      <td>0.50</td>\n",
       "      <td>198.0</td>\n",
       "    </tr>\n",
       "    <tr>\n",
       "      <th>4</th>\n",
       "      <td>01.01.2009 00:50:00</td>\n",
       "      <td>996.51</td>\n",
       "      <td>-8.27</td>\n",
       "      <td>265.15</td>\n",
       "      <td>-9.04</td>\n",
       "      <td>94.1</td>\n",
       "      <td>3.27</td>\n",
       "      <td>3.08</td>\n",
       "      <td>0.19</td>\n",
       "      <td>1.92</td>\n",
       "      <td>3.09</td>\n",
       "      <td>1309.00</td>\n",
       "      <td>0.32</td>\n",
       "      <td>0.63</td>\n",
       "      <td>214.3</td>\n",
       "    </tr>\n",
       "  </tbody>\n",
       "</table>\n",
       "</div>"
      ],
      "text/plain": [
       "             Date Time  p (mbar)  T (degC)  Tpot (K)  Tdew (degC)  rh (%)  \\\n",
       "0  01.01.2009 00:10:00    996.52     -8.02    265.40        -8.90    93.3   \n",
       "1  01.01.2009 00:20:00    996.57     -8.41    265.01        -9.28    93.4   \n",
       "2  01.01.2009 00:30:00    996.53     -8.51    264.91        -9.31    93.9   \n",
       "3  01.01.2009 00:40:00    996.51     -8.31    265.12        -9.07    94.2   \n",
       "4  01.01.2009 00:50:00    996.51     -8.27    265.15        -9.04    94.1   \n",
       "\n",
       "   VPmax (mbar)  VPact (mbar)  VPdef (mbar)  sh (g/kg)  H2OC (mmol/mol)  \\\n",
       "0          3.33          3.11          0.22       1.94             3.12   \n",
       "1          3.23          3.02          0.21       1.89             3.03   \n",
       "2          3.21          3.01          0.20       1.88             3.02   \n",
       "3          3.26          3.07          0.19       1.92             3.08   \n",
       "4          3.27          3.08          0.19       1.92             3.09   \n",
       "\n",
       "   rho (g/m**3)  wv (m/s)  max. wv (m/s)  wd (deg)  \n",
       "0       1307.75      1.03           1.75     152.3  \n",
       "1       1309.80      0.72           1.50     136.1  \n",
       "2       1310.24      0.19           0.63     171.6  \n",
       "3       1309.19      0.34           0.50     198.0  \n",
       "4       1309.00      0.32           0.63     214.3  "
      ]
     },
     "metadata": {},
     "output_type": "display_data"
    }
   ],
   "source": [
    "#########################################################\n",
    "# Uncomment later -not today- to download the original  #\n",
    "# dataset and try to perform the features engineering   #\n",
    "# by yourself                                           #\n",
    "#########################################################\n",
    "\n",
    "\n",
    "zip_path = tf.keras.utils.get_file(\n",
    "    origin='https://storage.googleapis.com/tensorflow/tf-keras-datasets/jena_climate_2009_2016.csv.zip',\n",
    "    fname='jena_climate_2009_2016.csv.zip',\n",
    "    extract=True)\n",
    "csv_path, _ = os.path.splitext(zip_path)\n",
    "\n",
    "raw = pd.read_csv(csv_path)\n",
    "\n",
    "print(f\"raw.shape = {raw.shape}\")\n",
    "display(raw.head())"
   ]
  },
  {
   "cell_type": "code",
   "execution_count": 4,
   "metadata": {},
   "outputs": [
    {
     "name": "stdout",
     "output_type": "stream",
     "text": [
      "<class 'pandas.core.frame.DataFrame'>\n",
      "RangeIndex: 420551 entries, 0 to 420550\n",
      "Data columns (total 15 columns):\n",
      " #   Column           Non-Null Count   Dtype  \n",
      "---  ------           --------------   -----  \n",
      " 0   Date Time        420551 non-null  object \n",
      " 1   p (mbar)         420551 non-null  float64\n",
      " 2   T (degC)         420551 non-null  float64\n",
      " 3   Tpot (K)         420551 non-null  float64\n",
      " 4   Tdew (degC)      420551 non-null  float64\n",
      " 5   rh (%)           420551 non-null  float64\n",
      " 6   VPmax (mbar)     420551 non-null  float64\n",
      " 7   VPact (mbar)     420551 non-null  float64\n",
      " 8   VPdef (mbar)     420551 non-null  float64\n",
      " 9   sh (g/kg)        420551 non-null  float64\n",
      " 10  H2OC (mmol/mol)  420551 non-null  float64\n",
      " 11  rho (g/m**3)     420551 non-null  float64\n",
      " 12  wv (m/s)         420551 non-null  float64\n",
      " 13  max. wv (m/s)    420551 non-null  float64\n",
      " 14  wd (deg)         420551 non-null  float64\n",
      "dtypes: float64(14), object(1)\n",
      "memory usage: 48.1+ MB\n"
     ]
    }
   ],
   "source": [
    "# Inspecting each feature to detect their type and null values\n",
    "raw.info()"
   ]
  },
  {
   "cell_type": "code",
   "execution_count": 5,
   "metadata": {},
   "outputs": [
    {
     "data": {
      "text/html": [
       "<div>\n",
       "<style scoped>\n",
       "    .dataframe tbody tr th:only-of-type {\n",
       "        vertical-align: middle;\n",
       "    }\n",
       "\n",
       "    .dataframe tbody tr th {\n",
       "        vertical-align: top;\n",
       "    }\n",
       "\n",
       "    .dataframe thead th {\n",
       "        text-align: right;\n",
       "    }\n",
       "</style>\n",
       "<table border=\"1\" class=\"dataframe\">\n",
       "  <thead>\n",
       "    <tr style=\"text-align: right;\">\n",
       "      <th></th>\n",
       "      <th>Date Time</th>\n",
       "      <th>p (mbar)</th>\n",
       "      <th>T (degC)</th>\n",
       "      <th>Tpot (K)</th>\n",
       "      <th>Tdew (degC)</th>\n",
       "      <th>rh (%)</th>\n",
       "      <th>VPmax (mbar)</th>\n",
       "      <th>VPact (mbar)</th>\n",
       "      <th>VPdef (mbar)</th>\n",
       "      <th>sh (g/kg)</th>\n",
       "      <th>H2OC (mmol/mol)</th>\n",
       "      <th>rho (g/m**3)</th>\n",
       "      <th>wv (m/s)</th>\n",
       "      <th>max. wv (m/s)</th>\n",
       "      <th>wd (deg)</th>\n",
       "    </tr>\n",
       "  </thead>\n",
       "  <tbody>\n",
       "    <tr>\n",
       "      <th>5</th>\n",
       "      <td>01.01.2009 01:00:00</td>\n",
       "      <td>996.50</td>\n",
       "      <td>-8.05</td>\n",
       "      <td>265.38</td>\n",
       "      <td>-8.78</td>\n",
       "      <td>94.4</td>\n",
       "      <td>3.33</td>\n",
       "      <td>3.14</td>\n",
       "      <td>0.19</td>\n",
       "      <td>1.96</td>\n",
       "      <td>3.15</td>\n",
       "      <td>1307.86</td>\n",
       "      <td>0.21</td>\n",
       "      <td>0.63</td>\n",
       "      <td>192.7</td>\n",
       "    </tr>\n",
       "    <tr>\n",
       "      <th>11</th>\n",
       "      <td>01.01.2009 02:00:00</td>\n",
       "      <td>996.62</td>\n",
       "      <td>-8.88</td>\n",
       "      <td>264.54</td>\n",
       "      <td>-9.77</td>\n",
       "      <td>93.2</td>\n",
       "      <td>3.12</td>\n",
       "      <td>2.90</td>\n",
       "      <td>0.21</td>\n",
       "      <td>1.81</td>\n",
       "      <td>2.91</td>\n",
       "      <td>1312.25</td>\n",
       "      <td>0.25</td>\n",
       "      <td>0.63</td>\n",
       "      <td>190.3</td>\n",
       "    </tr>\n",
       "    <tr>\n",
       "      <th>17</th>\n",
       "      <td>01.01.2009 03:00:00</td>\n",
       "      <td>996.84</td>\n",
       "      <td>-8.81</td>\n",
       "      <td>264.59</td>\n",
       "      <td>-9.66</td>\n",
       "      <td>93.5</td>\n",
       "      <td>3.13</td>\n",
       "      <td>2.93</td>\n",
       "      <td>0.20</td>\n",
       "      <td>1.83</td>\n",
       "      <td>2.94</td>\n",
       "      <td>1312.18</td>\n",
       "      <td>0.18</td>\n",
       "      <td>0.63</td>\n",
       "      <td>167.2</td>\n",
       "    </tr>\n",
       "    <tr>\n",
       "      <th>23</th>\n",
       "      <td>01.01.2009 04:00:00</td>\n",
       "      <td>996.99</td>\n",
       "      <td>-9.05</td>\n",
       "      <td>264.34</td>\n",
       "      <td>-10.02</td>\n",
       "      <td>92.6</td>\n",
       "      <td>3.07</td>\n",
       "      <td>2.85</td>\n",
       "      <td>0.23</td>\n",
       "      <td>1.78</td>\n",
       "      <td>2.85</td>\n",
       "      <td>1313.61</td>\n",
       "      <td>0.10</td>\n",
       "      <td>0.38</td>\n",
       "      <td>240.0</td>\n",
       "    </tr>\n",
       "    <tr>\n",
       "      <th>29</th>\n",
       "      <td>01.01.2009 05:00:00</td>\n",
       "      <td>997.46</td>\n",
       "      <td>-9.63</td>\n",
       "      <td>263.72</td>\n",
       "      <td>-10.65</td>\n",
       "      <td>92.2</td>\n",
       "      <td>2.94</td>\n",
       "      <td>2.71</td>\n",
       "      <td>0.23</td>\n",
       "      <td>1.69</td>\n",
       "      <td>2.71</td>\n",
       "      <td>1317.19</td>\n",
       "      <td>0.40</td>\n",
       "      <td>0.88</td>\n",
       "      <td>157.0</td>\n",
       "    </tr>\n",
       "  </tbody>\n",
       "</table>\n",
       "</div>"
      ],
      "text/plain": [
       "              Date Time  p (mbar)  T (degC)  Tpot (K)  Tdew (degC)  rh (%)  \\\n",
       "5   01.01.2009 01:00:00    996.50     -8.05    265.38        -8.78    94.4   \n",
       "11  01.01.2009 02:00:00    996.62     -8.88    264.54        -9.77    93.2   \n",
       "17  01.01.2009 03:00:00    996.84     -8.81    264.59        -9.66    93.5   \n",
       "23  01.01.2009 04:00:00    996.99     -9.05    264.34       -10.02    92.6   \n",
       "29  01.01.2009 05:00:00    997.46     -9.63    263.72       -10.65    92.2   \n",
       "\n",
       "    VPmax (mbar)  VPact (mbar)  VPdef (mbar)  sh (g/kg)  H2OC (mmol/mol)  \\\n",
       "5           3.33          3.14          0.19       1.96             3.15   \n",
       "11          3.12          2.90          0.21       1.81             2.91   \n",
       "17          3.13          2.93          0.20       1.83             2.94   \n",
       "23          3.07          2.85          0.23       1.78             2.85   \n",
       "29          2.94          2.71          0.23       1.69             2.71   \n",
       "\n",
       "    rho (g/m**3)  wv (m/s)  max. wv (m/s)  wd (deg)  \n",
       "5        1307.86      0.21           0.63     192.7  \n",
       "11       1312.25      0.25           0.63     190.3  \n",
       "17       1312.18      0.18           0.63     167.2  \n",
       "23       1313.61      0.10           0.38     240.0  \n",
       "29       1317.19      0.40           0.88     157.0  "
      ]
     },
     "execution_count": 5,
     "metadata": {},
     "output_type": "execute_result"
    }
   ],
   "source": [
    "# Slice [start:stop:step], \n",
    "# starting from index 5, take every 6th record\n",
    "# to get only hourly records\n",
    "\n",
    "# $CHALLENGIFY_BEGIN\n",
    "df = raw[5::6].copy()\n",
    "df.head()\n",
    "# $CHALLENGIFY_END"
   ]
  },
  {
   "cell_type": "code",
   "execution_count": 6,
   "metadata": {},
   "outputs": [],
   "source": [
    "# Convert the \"Date Time\" column to a datetime format\n",
    "\n",
    "# $CHALLENGIFY_BEGIN\n",
    "df[\"Date Time\"] = pd.to_datetime(df[\"Date Time\"])\n",
    "# $CHALLENGIFY_END"
   ]
  },
  {
   "cell_type": "code",
   "execution_count": 7,
   "metadata": {},
   "outputs": [
    {
     "data": {
      "text/html": [
       "<div>\n",
       "<style scoped>\n",
       "    .dataframe tbody tr th:only-of-type {\n",
       "        vertical-align: middle;\n",
       "    }\n",
       "\n",
       "    .dataframe tbody tr th {\n",
       "        vertical-align: top;\n",
       "    }\n",
       "\n",
       "    .dataframe thead th {\n",
       "        text-align: right;\n",
       "    }\n",
       "</style>\n",
       "<table border=\"1\" class=\"dataframe\">\n",
       "  <thead>\n",
       "    <tr style=\"text-align: right;\">\n",
       "      <th></th>\n",
       "      <th>count</th>\n",
       "      <th>mean</th>\n",
       "      <th>std</th>\n",
       "      <th>min</th>\n",
       "      <th>25%</th>\n",
       "      <th>50%</th>\n",
       "      <th>75%</th>\n",
       "      <th>max</th>\n",
       "    </tr>\n",
       "  </thead>\n",
       "  <tbody>\n",
       "    <tr>\n",
       "      <th>p (mbar)</th>\n",
       "      <td>70091.0</td>\n",
       "      <td>989.21</td>\n",
       "      <td>8.36</td>\n",
       "      <td>913.60</td>\n",
       "      <td>984.20</td>\n",
       "      <td>989.57</td>\n",
       "      <td>994.72</td>\n",
       "      <td>1015.29</td>\n",
       "    </tr>\n",
       "    <tr>\n",
       "      <th>T (degC)</th>\n",
       "      <td>70091.0</td>\n",
       "      <td>9.45</td>\n",
       "      <td>8.42</td>\n",
       "      <td>-22.76</td>\n",
       "      <td>3.35</td>\n",
       "      <td>9.41</td>\n",
       "      <td>15.48</td>\n",
       "      <td>37.28</td>\n",
       "    </tr>\n",
       "    <tr>\n",
       "      <th>Tpot (K)</th>\n",
       "      <td>70091.0</td>\n",
       "      <td>283.49</td>\n",
       "      <td>8.50</td>\n",
       "      <td>250.85</td>\n",
       "      <td>277.44</td>\n",
       "      <td>283.46</td>\n",
       "      <td>289.53</td>\n",
       "      <td>311.21</td>\n",
       "    </tr>\n",
       "    <tr>\n",
       "      <th>Tdew (degC)</th>\n",
       "      <td>70091.0</td>\n",
       "      <td>4.96</td>\n",
       "      <td>6.73</td>\n",
       "      <td>-24.80</td>\n",
       "      <td>0.24</td>\n",
       "      <td>5.21</td>\n",
       "      <td>10.08</td>\n",
       "      <td>23.06</td>\n",
       "    </tr>\n",
       "    <tr>\n",
       "      <th>rh (%)</th>\n",
       "      <td>70091.0</td>\n",
       "      <td>76.01</td>\n",
       "      <td>16.47</td>\n",
       "      <td>13.88</td>\n",
       "      <td>65.21</td>\n",
       "      <td>79.30</td>\n",
       "      <td>89.40</td>\n",
       "      <td>100.00</td>\n",
       "    </tr>\n",
       "    <tr>\n",
       "      <th>VPmax (mbar)</th>\n",
       "      <td>70091.0</td>\n",
       "      <td>13.58</td>\n",
       "      <td>7.74</td>\n",
       "      <td>0.97</td>\n",
       "      <td>7.77</td>\n",
       "      <td>11.82</td>\n",
       "      <td>17.61</td>\n",
       "      <td>63.77</td>\n",
       "    </tr>\n",
       "    <tr>\n",
       "      <th>VPact (mbar)</th>\n",
       "      <td>70091.0</td>\n",
       "      <td>9.53</td>\n",
       "      <td>4.18</td>\n",
       "      <td>0.81</td>\n",
       "      <td>6.22</td>\n",
       "      <td>8.86</td>\n",
       "      <td>12.36</td>\n",
       "      <td>28.25</td>\n",
       "    </tr>\n",
       "    <tr>\n",
       "      <th>VPdef (mbar)</th>\n",
       "      <td>70091.0</td>\n",
       "      <td>4.04</td>\n",
       "      <td>4.90</td>\n",
       "      <td>0.00</td>\n",
       "      <td>0.87</td>\n",
       "      <td>2.19</td>\n",
       "      <td>5.30</td>\n",
       "      <td>46.01</td>\n",
       "    </tr>\n",
       "    <tr>\n",
       "      <th>sh (g/kg)</th>\n",
       "      <td>70091.0</td>\n",
       "      <td>6.02</td>\n",
       "      <td>2.66</td>\n",
       "      <td>0.51</td>\n",
       "      <td>3.92</td>\n",
       "      <td>5.59</td>\n",
       "      <td>7.80</td>\n",
       "      <td>18.07</td>\n",
       "    </tr>\n",
       "    <tr>\n",
       "      <th>H2OC (mmol/mol)</th>\n",
       "      <td>70091.0</td>\n",
       "      <td>9.64</td>\n",
       "      <td>4.23</td>\n",
       "      <td>0.81</td>\n",
       "      <td>6.29</td>\n",
       "      <td>8.96</td>\n",
       "      <td>12.49</td>\n",
       "      <td>28.74</td>\n",
       "    </tr>\n",
       "    <tr>\n",
       "      <th>rho (g/m**3)</th>\n",
       "      <td>70091.0</td>\n",
       "      <td>1216.06</td>\n",
       "      <td>39.97</td>\n",
       "      <td>1059.45</td>\n",
       "      <td>1187.47</td>\n",
       "      <td>1213.80</td>\n",
       "      <td>1242.76</td>\n",
       "      <td>1393.54</td>\n",
       "    </tr>\n",
       "    <tr>\n",
       "      <th>wv (m/s)</th>\n",
       "      <td>70091.0</td>\n",
       "      <td>1.70</td>\n",
       "      <td>65.45</td>\n",
       "      <td>-9999.00</td>\n",
       "      <td>0.99</td>\n",
       "      <td>1.76</td>\n",
       "      <td>2.86</td>\n",
       "      <td>14.01</td>\n",
       "    </tr>\n",
       "    <tr>\n",
       "      <th>max. wv (m/s)</th>\n",
       "      <td>70091.0</td>\n",
       "      <td>2.96</td>\n",
       "      <td>75.60</td>\n",
       "      <td>-9999.00</td>\n",
       "      <td>1.76</td>\n",
       "      <td>2.98</td>\n",
       "      <td>4.74</td>\n",
       "      <td>23.50</td>\n",
       "    </tr>\n",
       "    <tr>\n",
       "      <th>wd (deg)</th>\n",
       "      <td>70091.0</td>\n",
       "      <td>174.79</td>\n",
       "      <td>86.62</td>\n",
       "      <td>0.00</td>\n",
       "      <td>125.30</td>\n",
       "      <td>198.10</td>\n",
       "      <td>234.00</td>\n",
       "      <td>360.00</td>\n",
       "    </tr>\n",
       "  </tbody>\n",
       "</table>\n",
       "</div>"
      ],
      "text/plain": [
       "                   count     mean    std      min      25%      50%      75%  \\\n",
       "p (mbar)         70091.0   989.21   8.36   913.60   984.20   989.57   994.72   \n",
       "T (degC)         70091.0     9.45   8.42   -22.76     3.35     9.41    15.48   \n",
       "Tpot (K)         70091.0   283.49   8.50   250.85   277.44   283.46   289.53   \n",
       "Tdew (degC)      70091.0     4.96   6.73   -24.80     0.24     5.21    10.08   \n",
       "rh (%)           70091.0    76.01  16.47    13.88    65.21    79.30    89.40   \n",
       "VPmax (mbar)     70091.0    13.58   7.74     0.97     7.77    11.82    17.61   \n",
       "VPact (mbar)     70091.0     9.53   4.18     0.81     6.22     8.86    12.36   \n",
       "VPdef (mbar)     70091.0     4.04   4.90     0.00     0.87     2.19     5.30   \n",
       "sh (g/kg)        70091.0     6.02   2.66     0.51     3.92     5.59     7.80   \n",
       "H2OC (mmol/mol)  70091.0     9.64   4.23     0.81     6.29     8.96    12.49   \n",
       "rho (g/m**3)     70091.0  1216.06  39.97  1059.45  1187.47  1213.80  1242.76   \n",
       "wv (m/s)         70091.0     1.70  65.45 -9999.00     0.99     1.76     2.86   \n",
       "max. wv (m/s)    70091.0     2.96  75.60 -9999.00     1.76     2.98     4.74   \n",
       "wd (deg)         70091.0   174.79  86.62     0.00   125.30   198.10   234.00   \n",
       "\n",
       "                     max  \n",
       "p (mbar)         1015.29  \n",
       "T (degC)           37.28  \n",
       "Tpot (K)          311.21  \n",
       "Tdew (degC)        23.06  \n",
       "rh (%)            100.00  \n",
       "VPmax (mbar)       63.77  \n",
       "VPact (mbar)       28.25  \n",
       "VPdef (mbar)       46.01  \n",
       "sh (g/kg)          18.07  \n",
       "H2OC (mmol/mol)    28.74  \n",
       "rho (g/m**3)     1393.54  \n",
       "wv (m/s)           14.01  \n",
       "max. wv (m/s)      23.50  \n",
       "wd (deg)          360.00  "
      ]
     },
     "execution_count": 7,
     "metadata": {},
     "output_type": "execute_result"
    }
   ],
   "source": [
    "# Describe the dataset\n",
    "\n",
    "# $CHALLENGIFY_BEGIN\n",
    "round(df.describe().transpose(),2)\n",
    "# $CHALLENGIFY_END"
   ]
  },
  {
   "cell_type": "code",
   "execution_count": 8,
   "metadata": {},
   "outputs": [],
   "source": [
    "## Fixing the wv\n",
    "\n",
    "# $CHALLENGIFY_BEGIN\n",
    "wv = df['wv (m/s)']\n",
    "bad_wv = (wv == -9999.0)\n",
    "df.loc[bad_wv, 'wv (m/s)'] = 0.0\n",
    "# $CHALLENGIFY_END\n",
    "\n",
    "## Fixing the max wv\n",
    "\n",
    "# $CHALLENGIFY_BEGIN\n",
    "max_wv = df['max. wv (m/s)']\n",
    "bad_max_wv = max_wv == -9999.0\n",
    "df.loc[bad_max_wv, 'max. wv (m/s)'] = 0.0\n",
    "# $CHALLENGIFY_END"
   ]
  },
  {
   "cell_type": "code",
   "execution_count": 9,
   "metadata": {},
   "outputs": [
    {
     "name": "stdout",
     "output_type": "stream",
     "text": [
      "--------------------------------------------------\n",
      "Working with angles...\n"
     ]
    },
    {
     "data": {
      "image/png": "[encoded data removed]",
      "text/plain": [
       "<Figure size 432x288 with 2 Axes>"
      ]
     },
     "metadata": {
      "needs_background": "light"
     },
     "output_type": "display_data"
    },
    {
     "name": "stdout",
     "output_type": "stream",
     "text": [
      "--------------------------------------------------\n",
      "Working with wind vectors\n"
     ]
    },
    {
     "data": {
      "image/png": "[encoded data removed]",
      "text/plain": [
       "<Figure size 432x288 with 2 Axes>"
      ]
     },
     "metadata": {
      "needs_background": "light"
     },
     "output_type": "display_data"
    }
   ],
   "source": [
    "# Wind : Wd degrees from 0 to 360 egrees\n",
    "# Angles do not make good models inputs because 0 and 360 should be \"close\"\n",
    "\n",
    "print('-'*50)\n",
    "print(\"Working with angles...\")\n",
    "\n",
    "plt.hist2d(df['wd (deg)'], df['wv (m/s)'], \n",
    "           bins=(50, 50), \n",
    "           vmax=400)\n",
    "plt.colorbar()\n",
    "plt.xlabel('Wind Direction [deg]')\n",
    "plt.ylabel('Wind Velocity [m/s]')\n",
    "plt.show()\n",
    "\n",
    "# It is much easier for the model to interpret\n",
    "# the wind direction and the wind velocity through a vector\n",
    "\n",
    "\n",
    "# Convert degrees to radians and store the values into wd_rad\n",
    "# $CHALLENGIFY_BEGIN\n",
    "wd_rad = df.pop('wd (deg)')*np.pi / 180\n",
    "# $CHALLENGIFY_END\n",
    "\n",
    "# Calculate the wind x and y components and store then in two new columns\n",
    "# `Wx` and `Wy`\n",
    "# $CHALLENGIFY_BEGIN\n",
    "wv = df.pop('wv (m/s)')\n",
    "df['Wx'] = wv*np.cos(wd_rad)\n",
    "df['Wy'] = wv*np.sin(wd_rad)\n",
    "# $CHALLENGIFY_END\n",
    "\n",
    "# Calculate the max wind x and y components and store then in two new columns\n",
    "# `max Wx` and `max Wy`\n",
    "# $CHALLENGIFY_BEGIN\n",
    "max_wv = df.pop('max. wv (m/s)')\n",
    "df['max Wx'] = max_wv*np.cos(wd_rad)\n",
    "df['max Wy'] = max_wv*np.sin(wd_rad)\n",
    "# $CHALLENGIFY_END\n",
    "\n",
    "print('-'*50)\n",
    "print(\"Working with wind vectors\")\n",
    "\n",
    "plt.hist2d(df['Wx'], df['Wy'], \n",
    "           bins=(50, 50), vmax=400)\n",
    "plt.colorbar()\n",
    "plt.xlabel('Wind X [m/s]')\n",
    "plt.ylabel('Wind Y [m/s]')\n",
    "ax = plt.gca()\n",
    "ax.axis('tight')\n",
    "plt.show()\n",
    "\n",
    "# $CHALLENGIFY_END"
   ]
  },
  {
   "cell_type": "code",
   "execution_count": 10,
   "metadata": {},
   "outputs": [],
   "source": [
    "# Similarly to the wind direction, the time in seconds is not a useful model input\n",
    "# The weather dataset has clear daily and yearly periodicities\n",
    "# Using sine and cosine functions, we can compute:\n",
    "# - the time of the day\n",
    "# - the time of the year\n",
    "\n",
    "# $CHALLENGIFY_BEGIN\n",
    "\n",
    "# Collecting the timestamps\n",
    "datetime_df = pd.to_datetime(df.pop('Date Time'), format='%d.%m.%Y %H:%M:%S')\n",
    "timestamps_s = datetime_df.map(pd.Timestamp.timestamp)\n",
    "timestamps_s\n",
    "\n",
    "# 24 hours x 60 minutes/hour x 60 seconds/minute\n",
    "day = 24*60*60 \n",
    "# 1 year in days\n",
    "year = (365.2425)*day\n",
    "\n",
    "# Day periodicity\n",
    "df['Day_sin'] = np.sin(timestamps_s * (2 * np.pi / day))\n",
    "df['Day_cos'] = np.cos(timestamps_s * (2 * np.pi / day))\n",
    "\n",
    "# Year periodicity\n",
    "df['Year_sin'] = np.sin(timestamps_s * (2 * np.pi / year))\n",
    "df['Year_cos'] = np.cos(timestamps_s * (2 * np.pi / year))\n",
    "\n",
    "# $CHALLENGIFY_END"
   ]
  },
  {
   "cell_type": "code",
   "execution_count": 11,
   "metadata": {},
   "outputs": [
    {
     "data": {
      "text/html": [
       "<div>\n",
       "<style scoped>\n",
       "    .dataframe tbody tr th:only-of-type {\n",
       "        vertical-align: middle;\n",
       "    }\n",
       "\n",
       "    .dataframe tbody tr th {\n",
       "        vertical-align: top;\n",
       "    }\n",
       "\n",
       "    .dataframe thead th {\n",
       "        text-align: right;\n",
       "    }\n",
       "</style>\n",
       "<table border=\"1\" class=\"dataframe\">\n",
       "  <thead>\n",
       "    <tr style=\"text-align: right;\">\n",
       "      <th></th>\n",
       "      <th>p (mbar)</th>\n",
       "      <th>T (degC)</th>\n",
       "      <th>Tpot (K)</th>\n",
       "      <th>Tdew (degC)</th>\n",
       "      <th>rh (%)</th>\n",
       "      <th>VPmax (mbar)</th>\n",
       "      <th>VPact (mbar)</th>\n",
       "      <th>VPdef (mbar)</th>\n",
       "      <th>sh (g/kg)</th>\n",
       "      <th>H2OC (mmol/mol)</th>\n",
       "      <th>rho (g/m**3)</th>\n",
       "      <th>Wx</th>\n",
       "      <th>Wy</th>\n",
       "      <th>max Wx</th>\n",
       "      <th>max Wy</th>\n",
       "      <th>Day_sin</th>\n",
       "      <th>Day_cos</th>\n",
       "      <th>Year_sin</th>\n",
       "      <th>Year_cos</th>\n",
       "    </tr>\n",
       "  </thead>\n",
       "  <tbody>\n",
       "    <tr>\n",
       "      <th>0</th>\n",
       "      <td>996.84</td>\n",
       "      <td>-8.81</td>\n",
       "      <td>264.59</td>\n",
       "      <td>-9.66</td>\n",
       "      <td>93.50</td>\n",
       "      <td>3.13</td>\n",
       "      <td>2.93</td>\n",
       "      <td>0.20</td>\n",
       "      <td>1.83</td>\n",
       "      <td>2.94</td>\n",
       "      <td>1312.18</td>\n",
       "      <td>-0.175527</td>\n",
       "      <td>0.039879</td>\n",
       "      <td>-0.614344</td>\n",
       "      <td>0.139576</td>\n",
       "      <td>7.071068e-01</td>\n",
       "      <td>7.071068e-01</td>\n",
       "      <td>0.011483</td>\n",
       "      <td>0.999934</td>\n",
       "    </tr>\n",
       "    <tr>\n",
       "      <th>1</th>\n",
       "      <td>997.71</td>\n",
       "      <td>-9.67</td>\n",
       "      <td>263.66</td>\n",
       "      <td>-10.62</td>\n",
       "      <td>92.70</td>\n",
       "      <td>2.93</td>\n",
       "      <td>2.71</td>\n",
       "      <td>0.21</td>\n",
       "      <td>1.69</td>\n",
       "      <td>2.72</td>\n",
       "      <td>1317.71</td>\n",
       "      <td>-0.041452</td>\n",
       "      <td>0.027960</td>\n",
       "      <td>-0.414519</td>\n",
       "      <td>0.279596</td>\n",
       "      <td>1.000000e+00</td>\n",
       "      <td>4.339955e-12</td>\n",
       "      <td>0.013633</td>\n",
       "      <td>0.999907</td>\n",
       "    </tr>\n",
       "    <tr>\n",
       "      <th>2</th>\n",
       "      <td>999.69</td>\n",
       "      <td>-7.66</td>\n",
       "      <td>265.52</td>\n",
       "      <td>-8.84</td>\n",
       "      <td>91.20</td>\n",
       "      <td>3.43</td>\n",
       "      <td>3.13</td>\n",
       "      <td>0.30</td>\n",
       "      <td>1.95</td>\n",
       "      <td>3.13</td>\n",
       "      <td>1310.14</td>\n",
       "      <td>-0.314796</td>\n",
       "      <td>-0.128466</td>\n",
       "      <td>-0.583298</td>\n",
       "      <td>-0.238040</td>\n",
       "      <td>7.071068e-01</td>\n",
       "      <td>-7.071068e-01</td>\n",
       "      <td>0.015783</td>\n",
       "      <td>0.999875</td>\n",
       "    </tr>\n",
       "    <tr>\n",
       "      <th>3</th>\n",
       "      <td>1000.30</td>\n",
       "      <td>-6.87</td>\n",
       "      <td>266.27</td>\n",
       "      <td>-8.28</td>\n",
       "      <td>89.60</td>\n",
       "      <td>3.64</td>\n",
       "      <td>3.27</td>\n",
       "      <td>0.38</td>\n",
       "      <td>2.03</td>\n",
       "      <td>3.26</td>\n",
       "      <td>1306.98</td>\n",
       "      <td>-1.834577</td>\n",
       "      <td>-0.141163</td>\n",
       "      <td>-2.622249</td>\n",
       "      <td>-0.201771</td>\n",
       "      <td>6.903299e-12</td>\n",
       "      <td>-1.000000e+00</td>\n",
       "      <td>0.017933</td>\n",
       "      <td>0.999839</td>\n",
       "    </tr>\n",
       "    <tr>\n",
       "      <th>4</th>\n",
       "      <td>999.88</td>\n",
       "      <td>-5.69</td>\n",
       "      <td>267.48</td>\n",
       "      <td>-7.00</td>\n",
       "      <td>90.40</td>\n",
       "      <td>3.99</td>\n",
       "      <td>3.61</td>\n",
       "      <td>0.38</td>\n",
       "      <td>2.25</td>\n",
       "      <td>3.61</td>\n",
       "      <td>1300.51</td>\n",
       "      <td>-0.825870</td>\n",
       "      <td>0.828758</td>\n",
       "      <td>-1.327039</td>\n",
       "      <td>1.331679</td>\n",
       "      <td>-7.071068e-01</td>\n",
       "      <td>-7.071068e-01</td>\n",
       "      <td>0.020083</td>\n",
       "      <td>0.999798</td>\n",
       "    </tr>\n",
       "    <tr>\n",
       "      <th>...</th>\n",
       "      <td>...</td>\n",
       "      <td>...</td>\n",
       "      <td>...</td>\n",
       "      <td>...</td>\n",
       "      <td>...</td>\n",
       "      <td>...</td>\n",
       "      <td>...</td>\n",
       "      <td>...</td>\n",
       "      <td>...</td>\n",
       "      <td>...</td>\n",
       "      <td>...</td>\n",
       "      <td>...</td>\n",
       "      <td>...</td>\n",
       "      <td>...</td>\n",
       "      <td>...</td>\n",
       "      <td>...</td>\n",
       "      <td>...</td>\n",
       "      <td>...</td>\n",
       "      <td>...</td>\n",
       "    </tr>\n",
       "    <tr>\n",
       "      <th>23358</th>\n",
       "      <td>1006.23</td>\n",
       "      <td>-6.31</td>\n",
       "      <td>266.37</td>\n",
       "      <td>-8.42</td>\n",
       "      <td>84.90</td>\n",
       "      <td>3.81</td>\n",
       "      <td>3.23</td>\n",
       "      <td>0.57</td>\n",
       "      <td>2.00</td>\n",
       "      <td>3.21</td>\n",
       "      <td>1312.01</td>\n",
       "      <td>-1.279930</td>\n",
       "      <td>-0.013404</td>\n",
       "      <td>-1.839899</td>\n",
       "      <td>-0.019268</td>\n",
       "      <td>6.755902e-01</td>\n",
       "      <td>-7.372773e-01</td>\n",
       "      <td>-0.000268</td>\n",
       "      <td>1.000000</td>\n",
       "    </tr>\n",
       "    <tr>\n",
       "      <th>23359</th>\n",
       "      <td>1004.62</td>\n",
       "      <td>-0.71</td>\n",
       "      <td>272.09</td>\n",
       "      <td>-5.97</td>\n",
       "      <td>67.37</td>\n",
       "      <td>5.80</td>\n",
       "      <td>3.91</td>\n",
       "      <td>1.89</td>\n",
       "      <td>2.42</td>\n",
       "      <td>3.89</td>\n",
       "      <td>1282.65</td>\n",
       "      <td>-0.976457</td>\n",
       "      <td>-0.412471</td>\n",
       "      <td>-1.916066</td>\n",
       "      <td>-0.809378</td>\n",
       "      <td>-4.361939e-02</td>\n",
       "      <td>-9.990482e-01</td>\n",
       "      <td>0.001883</td>\n",
       "      <td>0.999998</td>\n",
       "    </tr>\n",
       "    <tr>\n",
       "      <th>23360</th>\n",
       "      <td>1003.09</td>\n",
       "      <td>4.97</td>\n",
       "      <td>277.88</td>\n",
       "      <td>-3.04</td>\n",
       "      <td>56.03</td>\n",
       "      <td>8.71</td>\n",
       "      <td>4.88</td>\n",
       "      <td>3.83</td>\n",
       "      <td>3.03</td>\n",
       "      <td>4.86</td>\n",
       "      <td>1254.09</td>\n",
       "      <td>-0.403185</td>\n",
       "      <td>-0.359224</td>\n",
       "      <td>-0.776504</td>\n",
       "      <td>-0.691840</td>\n",
       "      <td>-7.372773e-01</td>\n",
       "      <td>-6.755902e-01</td>\n",
       "      <td>0.004033</td>\n",
       "      <td>0.999992</td>\n",
       "    </tr>\n",
       "    <tr>\n",
       "      <th>23361</th>\n",
       "      <td>1002.27</td>\n",
       "      <td>-0.42</td>\n",
       "      <td>272.56</td>\n",
       "      <td>-4.92</td>\n",
       "      <td>71.50</td>\n",
       "      <td>5.92</td>\n",
       "      <td>4.23</td>\n",
       "      <td>1.69</td>\n",
       "      <td>2.63</td>\n",
       "      <td>4.22</td>\n",
       "      <td>1278.14</td>\n",
       "      <td>-0.266024</td>\n",
       "      <td>-0.350473</td>\n",
       "      <td>-0.604599</td>\n",
       "      <td>-0.796530</td>\n",
       "      <td>-9.990482e-01</td>\n",
       "      <td>4.361939e-02</td>\n",
       "      <td>0.006183</td>\n",
       "      <td>0.999981</td>\n",
       "    </tr>\n",
       "    <tr>\n",
       "      <th>23362</th>\n",
       "      <td>1001.19</td>\n",
       "      <td>-2.75</td>\n",
       "      <td>270.32</td>\n",
       "      <td>-6.90</td>\n",
       "      <td>72.90</td>\n",
       "      <td>4.99</td>\n",
       "      <td>3.64</td>\n",
       "      <td>1.35</td>\n",
       "      <td>2.26</td>\n",
       "      <td>3.63</td>\n",
       "      <td>1288.02</td>\n",
       "      <td>-0.661501</td>\n",
       "      <td>0.257908</td>\n",
       "      <td>-1.453438</td>\n",
       "      <td>0.566672</td>\n",
       "      <td>-6.755902e-01</td>\n",
       "      <td>7.372773e-01</td>\n",
       "      <td>0.008334</td>\n",
       "      <td>0.999965</td>\n",
       "    </tr>\n",
       "  </tbody>\n",
       "</table>\n",
       "<p>23363 rows × 19 columns</p>\n",
       "</div>"
      ],
      "text/plain": [
       "       p (mbar)  T (degC)  Tpot (K)  Tdew (degC)  rh (%)  VPmax (mbar)  \\\n",
       "0        996.84     -8.81    264.59        -9.66   93.50          3.13   \n",
       "1        997.71     -9.67    263.66       -10.62   92.70          2.93   \n",
       "2        999.69     -7.66    265.52        -8.84   91.20          3.43   \n",
       "3       1000.30     -6.87    266.27        -8.28   89.60          3.64   \n",
       "4        999.88     -5.69    267.48        -7.00   90.40          3.99   \n",
       "...         ...       ...       ...          ...     ...           ...   \n",
       "23358   1006.23     -6.31    266.37        -8.42   84.90          3.81   \n",
       "23359   1004.62     -0.71    272.09        -5.97   67.37          5.80   \n",
       "23360   1003.09      4.97    277.88        -3.04   56.03          8.71   \n",
       "23361   1002.27     -0.42    272.56        -4.92   71.50          5.92   \n",
       "23362   1001.19     -2.75    270.32        -6.90   72.90          4.99   \n",
       "\n",
       "       VPact (mbar)  VPdef (mbar)  sh (g/kg)  H2OC (mmol/mol)  rho (g/m**3)  \\\n",
       "0              2.93          0.20       1.83             2.94       1312.18   \n",
       "1              2.71          0.21       1.69             2.72       1317.71   \n",
       "2              3.13          0.30       1.95             3.13       1310.14   \n",
       "3              3.27          0.38       2.03             3.26       1306.98   \n",
       "4              3.61          0.38       2.25             3.61       1300.51   \n",
       "...             ...           ...        ...              ...           ...   \n",
       "23358          3.23          0.57       2.00             3.21       1312.01   \n",
       "23359          3.91          1.89       2.42             3.89       1282.65   \n",
       "23360          4.88          3.83       3.03             4.86       1254.09   \n",
       "23361          4.23          1.69       2.63             4.22       1278.14   \n",
       "23362          3.64          1.35       2.26             3.63       1288.02   \n",
       "\n",
       "             Wx        Wy    max Wx    max Wy       Day_sin       Day_cos  \\\n",
       "0     -0.175527  0.039879 -0.614344  0.139576  7.071068e-01  7.071068e-01   \n",
       "1     -0.041452  0.027960 -0.414519  0.279596  1.000000e+00  4.339955e-12   \n",
       "2     -0.314796 -0.128466 -0.583298 -0.238040  7.071068e-01 -7.071068e-01   \n",
       "3     -1.834577 -0.141163 -2.622249 -0.201771  6.903299e-12 -1.000000e+00   \n",
       "4     -0.825870  0.828758 -1.327039  1.331679 -7.071068e-01 -7.071068e-01   \n",
       "...         ...       ...       ...       ...           ...           ...   \n",
       "23358 -1.279930 -0.013404 -1.839899 -0.019268  6.755902e-01 -7.372773e-01   \n",
       "23359 -0.976457 -0.412471 -1.916066 -0.809378 -4.361939e-02 -9.990482e-01   \n",
       "23360 -0.403185 -0.359224 -0.776504 -0.691840 -7.372773e-01 -6.755902e-01   \n",
       "23361 -0.266024 -0.350473 -0.604599 -0.796530 -9.990482e-01  4.361939e-02   \n",
       "23362 -0.661501  0.257908 -1.453438  0.566672 -6.755902e-01  7.372773e-01   \n",
       "\n",
       "       Year_sin  Year_cos  \n",
       "0      0.011483  0.999934  \n",
       "1      0.013633  0.999907  \n",
       "2      0.015783  0.999875  \n",
       "3      0.017933  0.999839  \n",
       "4      0.020083  0.999798  \n",
       "...         ...       ...  \n",
       "23358 -0.000268  1.000000  \n",
       "23359  0.001883  0.999998  \n",
       "23360  0.004033  0.999992  \n",
       "23361  0.006183  0.999981  \n",
       "23362  0.008334  0.999965  \n",
       "\n",
       "[23363 rows x 19 columns]"
      ]
     },
     "execution_count": 11,
     "metadata": {},
     "output_type": "execute_result"
    }
   ],
   "source": [
    "# Select every 3 hours \n",
    "\n",
    "# $CHALLENGIFY_BEGIN\n",
    "df = df[2::3].reset_index(drop = True)\n",
    "df\n",
    "# $CHALLENGIFY_END"
   ]
  },
  {
   "cell_type": "markdown",
   "metadata": {},
   "source": [
    "##### Trust us and start from this already preprocessed dataset for this challenge"
   ]
  },
  {
   "cell_type": "code",
   "execution_count": 12,
   "metadata": {},
   "outputs": [
    {
     "data": {
      "text/html": [
       "<div>\n",
       "<style scoped>\n",
       "    .dataframe tbody tr th:only-of-type {\n",
       "        vertical-align: middle;\n",
       "    }\n",
       "\n",
       "    .dataframe tbody tr th {\n",
       "        vertical-align: top;\n",
       "    }\n",
       "\n",
       "    .dataframe thead th {\n",
       "        text-align: right;\n",
       "    }\n",
       "</style>\n",
       "<table border=\"1\" class=\"dataframe\">\n",
       "  <thead>\n",
       "    <tr style=\"text-align: right;\">\n",
       "      <th></th>\n",
       "      <th>p (mbar)</th>\n",
       "      <th>T (degC)</th>\n",
       "      <th>Tpot (K)</th>\n",
       "      <th>Tdew (degC)</th>\n",
       "      <th>rh (%)</th>\n",
       "      <th>VPmax (mbar)</th>\n",
       "      <th>VPact (mbar)</th>\n",
       "      <th>VPdef (mbar)</th>\n",
       "      <th>sh (g/kg)</th>\n",
       "      <th>H2OC (mmol/mol)</th>\n",
       "      <th>rho (g/m**3)</th>\n",
       "      <th>Wx</th>\n",
       "      <th>Wy</th>\n",
       "      <th>max Wx</th>\n",
       "      <th>max Wy</th>\n",
       "      <th>Day_sin</th>\n",
       "      <th>Day_cos</th>\n",
       "      <th>Year_sin</th>\n",
       "      <th>Year_cos</th>\n",
       "    </tr>\n",
       "  </thead>\n",
       "  <tbody>\n",
       "    <tr>\n",
       "      <th>0</th>\n",
       "      <td>996.84</td>\n",
       "      <td>-8.81</td>\n",
       "      <td>264.59</td>\n",
       "      <td>-9.66</td>\n",
       "      <td>93.50</td>\n",
       "      <td>3.13</td>\n",
       "      <td>2.93</td>\n",
       "      <td>0.20</td>\n",
       "      <td>1.83</td>\n",
       "      <td>2.94</td>\n",
       "      <td>1312.18</td>\n",
       "      <td>-0.175527</td>\n",
       "      <td>0.039879</td>\n",
       "      <td>-0.614344</td>\n",
       "      <td>0.139576</td>\n",
       "      <td>7.071068e-01</td>\n",
       "      <td>7.071068e-01</td>\n",
       "      <td>0.011483</td>\n",
       "      <td>0.999934</td>\n",
       "    </tr>\n",
       "    <tr>\n",
       "      <th>1</th>\n",
       "      <td>997.71</td>\n",
       "      <td>-9.67</td>\n",
       "      <td>263.66</td>\n",
       "      <td>-10.62</td>\n",
       "      <td>92.70</td>\n",
       "      <td>2.93</td>\n",
       "      <td>2.71</td>\n",
       "      <td>0.21</td>\n",
       "      <td>1.69</td>\n",
       "      <td>2.72</td>\n",
       "      <td>1317.71</td>\n",
       "      <td>-0.041452</td>\n",
       "      <td>0.027960</td>\n",
       "      <td>-0.414519</td>\n",
       "      <td>0.279596</td>\n",
       "      <td>1.000000e+00</td>\n",
       "      <td>4.339955e-12</td>\n",
       "      <td>0.013633</td>\n",
       "      <td>0.999907</td>\n",
       "    </tr>\n",
       "    <tr>\n",
       "      <th>2</th>\n",
       "      <td>999.69</td>\n",
       "      <td>-7.66</td>\n",
       "      <td>265.52</td>\n",
       "      <td>-8.84</td>\n",
       "      <td>91.20</td>\n",
       "      <td>3.43</td>\n",
       "      <td>3.13</td>\n",
       "      <td>0.30</td>\n",
       "      <td>1.95</td>\n",
       "      <td>3.13</td>\n",
       "      <td>1310.14</td>\n",
       "      <td>-0.314796</td>\n",
       "      <td>-0.128466</td>\n",
       "      <td>-0.583298</td>\n",
       "      <td>-0.238040</td>\n",
       "      <td>7.071068e-01</td>\n",
       "      <td>-7.071068e-01</td>\n",
       "      <td>0.015783</td>\n",
       "      <td>0.999875</td>\n",
       "    </tr>\n",
       "    <tr>\n",
       "      <th>3</th>\n",
       "      <td>1000.30</td>\n",
       "      <td>-6.87</td>\n",
       "      <td>266.27</td>\n",
       "      <td>-8.28</td>\n",
       "      <td>89.60</td>\n",
       "      <td>3.64</td>\n",
       "      <td>3.27</td>\n",
       "      <td>0.38</td>\n",
       "      <td>2.03</td>\n",
       "      <td>3.26</td>\n",
       "      <td>1306.98</td>\n",
       "      <td>-1.834577</td>\n",
       "      <td>-0.141163</td>\n",
       "      <td>-2.622249</td>\n",
       "      <td>-0.201771</td>\n",
       "      <td>6.903299e-12</td>\n",
       "      <td>-1.000000e+00</td>\n",
       "      <td>0.017933</td>\n",
       "      <td>0.999839</td>\n",
       "    </tr>\n",
       "    <tr>\n",
       "      <th>4</th>\n",
       "      <td>999.88</td>\n",
       "      <td>-5.69</td>\n",
       "      <td>267.48</td>\n",
       "      <td>-7.00</td>\n",
       "      <td>90.40</td>\n",
       "      <td>3.99</td>\n",
       "      <td>3.61</td>\n",
       "      <td>0.38</td>\n",
       "      <td>2.25</td>\n",
       "      <td>3.61</td>\n",
       "      <td>1300.51</td>\n",
       "      <td>-0.825870</td>\n",
       "      <td>0.828758</td>\n",
       "      <td>-1.327039</td>\n",
       "      <td>1.331679</td>\n",
       "      <td>-7.071068e-01</td>\n",
       "      <td>-7.071068e-01</td>\n",
       "      <td>0.020083</td>\n",
       "      <td>0.999798</td>\n",
       "    </tr>\n",
       "    <tr>\n",
       "      <th>...</th>\n",
       "      <td>...</td>\n",
       "      <td>...</td>\n",
       "      <td>...</td>\n",
       "      <td>...</td>\n",
       "      <td>...</td>\n",
       "      <td>...</td>\n",
       "      <td>...</td>\n",
       "      <td>...</td>\n",
       "      <td>...</td>\n",
       "      <td>...</td>\n",
       "      <td>...</td>\n",
       "      <td>...</td>\n",
       "      <td>...</td>\n",
       "      <td>...</td>\n",
       "      <td>...</td>\n",
       "      <td>...</td>\n",
       "      <td>...</td>\n",
       "      <td>...</td>\n",
       "      <td>...</td>\n",
       "    </tr>\n",
       "    <tr>\n",
       "      <th>23358</th>\n",
       "      <td>1006.23</td>\n",
       "      <td>-6.31</td>\n",
       "      <td>266.37</td>\n",
       "      <td>-8.42</td>\n",
       "      <td>84.90</td>\n",
       "      <td>3.81</td>\n",
       "      <td>3.23</td>\n",
       "      <td>0.57</td>\n",
       "      <td>2.00</td>\n",
       "      <td>3.21</td>\n",
       "      <td>1312.01</td>\n",
       "      <td>-1.279930</td>\n",
       "      <td>-0.013404</td>\n",
       "      <td>-1.839899</td>\n",
       "      <td>-0.019268</td>\n",
       "      <td>6.755902e-01</td>\n",
       "      <td>-7.372773e-01</td>\n",
       "      <td>-0.000268</td>\n",
       "      <td>1.000000</td>\n",
       "    </tr>\n",
       "    <tr>\n",
       "      <th>23359</th>\n",
       "      <td>1004.62</td>\n",
       "      <td>-0.71</td>\n",
       "      <td>272.09</td>\n",
       "      <td>-5.97</td>\n",
       "      <td>67.37</td>\n",
       "      <td>5.80</td>\n",
       "      <td>3.91</td>\n",
       "      <td>1.89</td>\n",
       "      <td>2.42</td>\n",
       "      <td>3.89</td>\n",
       "      <td>1282.65</td>\n",
       "      <td>-0.976457</td>\n",
       "      <td>-0.412471</td>\n",
       "      <td>-1.916066</td>\n",
       "      <td>-0.809378</td>\n",
       "      <td>-4.361939e-02</td>\n",
       "      <td>-9.990482e-01</td>\n",
       "      <td>0.001883</td>\n",
       "      <td>0.999998</td>\n",
       "    </tr>\n",
       "    <tr>\n",
       "      <th>23360</th>\n",
       "      <td>1003.09</td>\n",
       "      <td>4.97</td>\n",
       "      <td>277.88</td>\n",
       "      <td>-3.04</td>\n",
       "      <td>56.03</td>\n",
       "      <td>8.71</td>\n",
       "      <td>4.88</td>\n",
       "      <td>3.83</td>\n",
       "      <td>3.03</td>\n",
       "      <td>4.86</td>\n",
       "      <td>1254.09</td>\n",
       "      <td>-0.403185</td>\n",
       "      <td>-0.359224</td>\n",
       "      <td>-0.776504</td>\n",
       "      <td>-0.691840</td>\n",
       "      <td>-7.372773e-01</td>\n",
       "      <td>-6.755902e-01</td>\n",
       "      <td>0.004033</td>\n",
       "      <td>0.999992</td>\n",
       "    </tr>\n",
       "    <tr>\n",
       "      <th>23361</th>\n",
       "      <td>1002.27</td>\n",
       "      <td>-0.42</td>\n",
       "      <td>272.56</td>\n",
       "      <td>-4.92</td>\n",
       "      <td>71.50</td>\n",
       "      <td>5.92</td>\n",
       "      <td>4.23</td>\n",
       "      <td>1.69</td>\n",
       "      <td>2.63</td>\n",
       "      <td>4.22</td>\n",
       "      <td>1278.14</td>\n",
       "      <td>-0.266024</td>\n",
       "      <td>-0.350473</td>\n",
       "      <td>-0.604599</td>\n",
       "      <td>-0.796530</td>\n",
       "      <td>-9.990482e-01</td>\n",
       "      <td>4.361939e-02</td>\n",
       "      <td>0.006183</td>\n",
       "      <td>0.999981</td>\n",
       "    </tr>\n",
       "    <tr>\n",
       "      <th>23362</th>\n",
       "      <td>1001.19</td>\n",
       "      <td>-2.75</td>\n",
       "      <td>270.32</td>\n",
       "      <td>-6.90</td>\n",
       "      <td>72.90</td>\n",
       "      <td>4.99</td>\n",
       "      <td>3.64</td>\n",
       "      <td>1.35</td>\n",
       "      <td>2.26</td>\n",
       "      <td>3.63</td>\n",
       "      <td>1288.02</td>\n",
       "      <td>-0.661501</td>\n",
       "      <td>0.257908</td>\n",
       "      <td>-1.453438</td>\n",
       "      <td>0.566672</td>\n",
       "      <td>-6.755902e-01</td>\n",
       "      <td>7.372773e-01</td>\n",
       "      <td>0.008334</td>\n",
       "      <td>0.999965</td>\n",
       "    </tr>\n",
       "  </tbody>\n",
       "</table>\n",
       "<p>23363 rows × 19 columns</p>\n",
       "</div>"
      ],
      "text/plain": [
       "       p (mbar)  T (degC)  Tpot (K)  Tdew (degC)  rh (%)  VPmax (mbar)  \\\n",
       "0        996.84     -8.81    264.59        -9.66   93.50          3.13   \n",
       "1        997.71     -9.67    263.66       -10.62   92.70          2.93   \n",
       "2        999.69     -7.66    265.52        -8.84   91.20          3.43   \n",
       "3       1000.30     -6.87    266.27        -8.28   89.60          3.64   \n",
       "4        999.88     -5.69    267.48        -7.00   90.40          3.99   \n",
       "...         ...       ...       ...          ...     ...           ...   \n",
       "23358   1006.23     -6.31    266.37        -8.42   84.90          3.81   \n",
       "23359   1004.62     -0.71    272.09        -5.97   67.37          5.80   \n",
       "23360   1003.09      4.97    277.88        -3.04   56.03          8.71   \n",
       "23361   1002.27     -0.42    272.56        -4.92   71.50          5.92   \n",
       "23362   1001.19     -2.75    270.32        -6.90   72.90          4.99   \n",
       "\n",
       "       VPact (mbar)  VPdef (mbar)  sh (g/kg)  H2OC (mmol/mol)  rho (g/m**3)  \\\n",
       "0              2.93          0.20       1.83             2.94       1312.18   \n",
       "1              2.71          0.21       1.69             2.72       1317.71   \n",
       "2              3.13          0.30       1.95             3.13       1310.14   \n",
       "3              3.27          0.38       2.03             3.26       1306.98   \n",
       "4              3.61          0.38       2.25             3.61       1300.51   \n",
       "...             ...           ...        ...              ...           ...   \n",
       "23358          3.23          0.57       2.00             3.21       1312.01   \n",
       "23359          3.91          1.89       2.42             3.89       1282.65   \n",
       "23360          4.88          3.83       3.03             4.86       1254.09   \n",
       "23361          4.23          1.69       2.63             4.22       1278.14   \n",
       "23362          3.64          1.35       2.26             3.63       1288.02   \n",
       "\n",
       "             Wx        Wy    max Wx    max Wy       Day_sin       Day_cos  \\\n",
       "0     -0.175527  0.039879 -0.614344  0.139576  7.071068e-01  7.071068e-01   \n",
       "1     -0.041452  0.027960 -0.414519  0.279596  1.000000e+00  4.339955e-12   \n",
       "2     -0.314796 -0.128466 -0.583298 -0.238040  7.071068e-01 -7.071068e-01   \n",
       "3     -1.834577 -0.141163 -2.622249 -0.201771  6.903299e-12 -1.000000e+00   \n",
       "4     -0.825870  0.828758 -1.327039  1.331679 -7.071068e-01 -7.071068e-01   \n",
       "...         ...       ...       ...       ...           ...           ...   \n",
       "23358 -1.279930 -0.013404 -1.839899 -0.019268  6.755902e-01 -7.372773e-01   \n",
       "23359 -0.976457 -0.412471 -1.916066 -0.809378 -4.361939e-02 -9.990482e-01   \n",
       "23360 -0.403185 -0.359224 -0.776504 -0.691840 -7.372773e-01 -6.755902e-01   \n",
       "23361 -0.266024 -0.350473 -0.604599 -0.796530 -9.990482e-01  4.361939e-02   \n",
       "23362 -0.661501  0.257908 -1.453438  0.566672 -6.755902e-01  7.372773e-01   \n",
       "\n",
       "       Year_sin  Year_cos  \n",
       "0      0.011483  0.999934  \n",
       "1      0.013633  0.999907  \n",
       "2      0.015783  0.999875  \n",
       "3      0.017933  0.999839  \n",
       "4      0.020083  0.999798  \n",
       "...         ...       ...  \n",
       "23358 -0.000268  1.000000  \n",
       "23359  0.001883  0.999998  \n",
       "23360  0.004033  0.999992  \n",
       "23361  0.006183  0.999981  \n",
       "23362  0.008334  0.999965  \n",
       "\n",
       "[23363 rows x 19 columns]"
      ]
     },
     "execution_count": 12,
     "metadata": {},
     "output_type": "execute_result"
    }
   ],
   "source": [
    "url = \"https://wagon-public-datasets.s3.amazonaws.com/deep_learning_datasets/weather_every_three_hours_engineered.csv\"\n",
    "df = pd.read_csv(url).drop(columns = ['Unnamed: 0'])\n",
    "df"
   ]
  },
  {
   "cell_type": "markdown",
   "metadata": {},
   "source": [
    "👆 In the preprocessed dataset, we have :\n",
    "- $23$k rows  (~ 8 years of weather data)\n",
    "- $19$ features composed of:\n",
    "    - $1$ <font color=green>**target**</font> (we will use the past values of the temperature as a feature)\n",
    "    - $18$ <font color=orange>**past covariates**</font> (= features which past values are known)\n",
    "    - $0$ <font color=blue>**future covariates**</font> (= features which future values are known, e.g. public holidays)\n",
    "\n",
    "    \n",
    "<img src='https://wagon-public-datasets.s3.amazonaws.com/data-science-images/DL/time-series-covariates.png'>\n",
    "\n",
    "👨🏻‍🏫 This weather dataset is a DataFrame (dimension = 2) which is a single Time Series from the beginning of 2009 to the end 2016 with records every 3 hours. \n",
    "\n",
    "* `df.shape = (n_timesteps, n_features) = (23363, 19)`\n",
    "\n",
    "🎯 The goal is to predict the temperature in 3, 6, 9, 12, ... hours using the past values."
   ]
  },
  {
   "cell_type": "code",
   "execution_count": 13,
   "metadata": {},
   "outputs": [],
   "source": [
    "# Let's define the global variables of our dataset\n",
    "TARGET = 'T (degC)'\n",
    "N_TARGETS = 1\n",
    "N_FEATURES = 19"
   ]
  },
  {
   "cell_type": "markdown",
   "metadata": {},
   "source": [
    "### (0.0.2) Visualising your Time Series"
   ]
  },
  {
   "cell_type": "markdown",
   "metadata": {},
   "source": [
    "📈  Here is the ***evolution of some features over time***:\n",
    "* `T (degC)` (temperature)\n",
    "* `p (mbar)` (atmospheric pressure)\n",
    "* `rho (g/m**3)` (atmospheric density)\n",
    "\n"
   ]
  },
  {
   "cell_type": "code",
   "execution_count": 14,
   "metadata": {},
   "outputs": [
    {
     "data": {
      "image/png": "[encoded data removed]",
      "text/plain": [
       "<Figure size 432x288 with 3 Axes>"
      ]
     },
     "metadata": {
      "needs_background": "light"
     },
     "output_type": "display_data"
    }
   ],
   "source": [
    "plot_cols = [TARGET, 'p (mbar)', 'rho (g/m**3)']\n",
    "plot_features = df[plot_cols]\n",
    "plot_features.index = df.index\n",
    "plot_features.plot(subplots = True);"
   ]
  },
  {
   "cell_type": "code",
   "execution_count": 15,
   "metadata": {},
   "outputs": [
    {
     "data": {
      "image/png": "[encoded data removed]",
      "text/plain": [
       "<Figure size 432x288 with 3 Axes>"
      ]
     },
     "metadata": {
      "needs_background": "light"
     },
     "output_type": "display_data"
    }
   ],
   "source": [
    "zoomed_slice = slice(1000,1100)\n",
    "\n",
    "plot_features = df.loc[zoomed_slice, plot_cols]\n",
    "plot_features.plot(subplots = True);"
   ]
  },
  {
   "cell_type": "markdown",
   "metadata": {},
   "source": [
    "# (1) Prepare the dataset"
   ]
  },
  {
   "cell_type": "markdown",
   "metadata": {},
   "source": [
    "##  (1.0) The big picture"
   ]
  },
  {
   "cell_type": "markdown",
   "metadata": {},
   "source": [
    "<b><u>Step 1: Cross-Validation in Time Series [FOLDS] </u></b>\n",
    "\n",
    "* Starting from this single Time Series, we will create <font color=\"#c91ac9\">**FOLDS**</font>...\n",
    "* ... and train/evaluate our LSTM on these different <font color=\"#c91ac9\">**FOLDS**</font> to conclude about the robustness of the neural network\n",
    "* It is very common to create ***hundreds*** of <font color=\"#c91ac9\">**FOLDS**</font> in Time Series forecasting, in order to to cover all types of external conditions: e.g.\n",
    "    - crash market periods 📉\n",
    "    - bull markets 📈\n",
    "    - atone markets 😴, etc...\n",
    "\n",
    "<b><u>Step 2: Holdout method within each fold [TRAIN-TEST SPLIT]</u></b>\n",
    "\n",
    "* For each <font color=\"#c91ac9\">**FOLD**</font>, we will do a TRAIN-TEST SPLIT to:\n",
    "    * <font color=blue>**fit**</font> the model on the <font color=blue>**train**</font> set \n",
    "    * and <font color=\"#ff8005\">**evaluate**</font> it on the <font color=\"#ff8005\">**test**</font> set\n",
    "    * Always split the train set **chronologically** before the test set!\n",
    "\n",
    "👇 The first two steps can be summarized in the following image that contains 4 FOLDS:\n",
    "\n",
    "<img src=\"https://bit.ly/3yLoa92\" alt=\"Time Series Cross Validation\" width=\"500\" height=\"500\">\n",
    "\n",
    "\n",
    "<b><u>Step 3: Sampling SEQUENCES in both the train set and the test set</u></b>\n",
    "\n",
    "In each <font color=blue>**train**</font> set and each <font color=\"#ff8005\">**test**</font> set, we will create <font color=magenta>**random sequences**</font> as illustrated down below 👇:\n",
    "\n",
    "<img src=\"https://bit.ly/3Ri8Vfd\" alt=\"Sequences in each fold\" width=\"500\" height=\"500\"> \n",
    "\n"
   ]
  },
  {
   "cell_type": "markdown",
   "metadata": {},
   "source": [
    "## (1.1) Creating  <font color=\"#c91ac9\">**FOLDS**</font> for cross-validation\n",
    "\n",
    "Each of them with shape `(FOLD_LENGTH, n_features)` "
   ]
  },
  {
   "cell_type": "markdown",
   "metadata": {},
   "source": [
    "🌐 Let's define some global variables that we will use for our tests everywhere in this notebook:"
   ]
  },
  {
   "cell_type": "code",
   "execution_count": 16,
   "metadata": {},
   "outputs": [],
   "source": [
    "# --------------------------------------------------- #\n",
    "# Let's consider FOLDS with a length of 3 years       #\n",
    "# (2 years will be used for train, 1 for test!)       #\n",
    "# --------------------------------------------------- #\n",
    "\n",
    "FOLD_LENGTH = 8*365 * 3 # every 3 hrs x 8 = 24h\n",
    "                        # three years\n",
    "\n",
    "# --------------------------------------------------- #\n",
    "# Let's consider FOLDS starting every trimester       #\n",
    "# --------------------------------------------------- #\n",
    "    \n",
    "FOLD_STRIDE = 8*91 # every 3 hrs x 8 = 24h\n",
    "                   # 1 quarter = 91 days\n",
    "\n",
    "# --------------------------------------------------- #\n",
    "# Let's consider a train-test-split ratio of 2/3      #\n",
    "# --------------------------------------------------- #\n",
    "\n",
    "TRAIN_TEST_RATIO = 0.66"
   ]
  },
  {
   "cell_type": "markdown",
   "metadata": {},
   "source": [
    "❓ **Question (<font color=\"#c91ac9\">FOLDS</font>)** ❓\n",
    "\n",
    "Code the function `get_folds` below that we will use to create folds  `folds = get_folds(df, FOLD_LENGTH, FOLD_STRIDE)`"
   ]
  },
  {
   "cell_type": "code",
   "execution_count": 17,
   "metadata": {},
   "outputs": [],
   "source": [
    "def get_folds(\n",
    "    df: pd.DataFrame, \n",
    "    fold_length: int,\n",
    "    fold_stride: int) -> List[pd.DataFrame]:\n",
    "    '''\n",
    "    This function slides through the Time Series dataframe of shape (n_timesteps, n_features) to create folds\n",
    "    - of equal `fold_length`\n",
    "    - using `fold_stride` between each fold\n",
    "    \n",
    "    Returns a list of folds, each as a DataFrame\n",
    "    '''\n",
    "    # $CHALLENGIFY_BEGIN\n",
    "    folds = []\n",
    "    for idx in range(0, len(df), fold_stride):\n",
    "        # Exits the loop as soon as the last fold index would exceed the last index\n",
    "        if (idx + fold_length) > len(df):\n",
    "            break\n",
    "        fold = df.iloc[idx:idx + fold_length, :]\n",
    "        folds.append(fold)\n",
    "    return folds\n",
    "    # $CHALLENGIFY_END"
   ]
  },
  {
   "cell_type": "markdown",
   "metadata": {},
   "source": [
    "🧪 ***Test your code***"
   ]
  },
  {
   "cell_type": "code",
   "execution_count": 18,
   "metadata": {},
   "outputs": [
    {
     "name": "stdout",
     "output_type": "stream",
     "text": [
      "The function generated 21 folds.\n",
      "Each fold has a shape equal to (8760, 19).\n"
     ]
    }
   ],
   "source": [
    "folds = get_folds(df, FOLD_LENGTH, FOLD_STRIDE)\n",
    "\n",
    "print(f'The function generated {len(folds)} folds.')\n",
    "print(f'Each fold has a shape equal to {folds[0].shape}.')"
   ]
  },
  {
   "cell_type": "code",
   "execution_count": 19,
   "metadata": {},
   "outputs": [
    {
     "name": "stdout",
     "output_type": "stream",
     "text": [
      "\n",
      "\u001b[1m============================= test session starts ==============================\u001b[0m\n",
      "platform linux -- Python 3.8.10, pytest-7.1.2, pluggy-1.0.0 -- /usr/bin/python3\n",
      "cachedir: .pytest_cache\n",
      "rootdir: /home/quantium/labs/lewagon/data-challenges/06-Deep-Learning/04-Recurrent-Neural-Networks/03-Predict-Temperature/tests\n",
      "plugins: dash-1.19.0, anyio-3.6.1\n",
      "\u001b[1mcollecting ... \u001b[0mcollected 2 items\n",
      "\n",
      "test_folds.py::TestFolds::test_variable_fold_shape \u001b[32mPASSED\u001b[0m\u001b[32m                [ 50%]\u001b[0m\n",
      "test_folds.py::TestFolds::test_variable_number_of_folds \u001b[32mPASSED\u001b[0m\u001b[32m           [100%]\u001b[0m\n",
      "\n",
      "\u001b[32m============================== \u001b[32m\u001b[1m2 passed\u001b[0m\u001b[32m in 0.01s\u001b[0m\u001b[32m ===============================\u001b[0m\n",
      "\n",
      "\n",
      "💯 You can commit your code:\n",
      "\n",
      "\u001b[1;32mgit\u001b[39m add tests/folds.pickle\n",
      "\n",
      "\u001b[32mgit\u001b[39m commit -m \u001b[33m'Completed folds step'\u001b[39m\n",
      "\n",
      "\u001b[32mgit\u001b[39m push origin master\n",
      "\n"
     ]
    }
   ],
   "source": [
    "from nbresult import ChallengeResult\n",
    "\n",
    "result = ChallengeResult('folds',\n",
    "                         number_of_folds = len(folds),\n",
    "                         fold_shape = folds[0].shape)\n",
    "result.write()\n",
    "print(result.check())"
   ]
  },
  {
   "cell_type": "markdown",
   "metadata": {},
   "source": [
    "☝️ This amount of <font color=\"#c91ac9\">**FOLDS**</font> should be enough to cross-validate our model correctly !"
   ]
  },
  {
   "cell_type": "markdown",
   "metadata": {},
   "source": [
    "## (1.2) Temporal <font color=blue>**Train**</font>/<font color=\"#ff8005\">**Test**</font> Split"
   ]
  },
  {
   "cell_type": "markdown",
   "metadata": {},
   "source": [
    "👩🏻‍🏫 Let's focus on one fold for the moment."
   ]
  },
  {
   "cell_type": "code",
   "execution_count": 20,
   "metadata": {},
   "outputs": [
    {
     "data": {
      "text/html": [
       "<div>\n",
       "<style scoped>\n",
       "    .dataframe tbody tr th:only-of-type {\n",
       "        vertical-align: middle;\n",
       "    }\n",
       "\n",
       "    .dataframe tbody tr th {\n",
       "        vertical-align: top;\n",
       "    }\n",
       "\n",
       "    .dataframe thead th {\n",
       "        text-align: right;\n",
       "    }\n",
       "</style>\n",
       "<table border=\"1\" class=\"dataframe\">\n",
       "  <thead>\n",
       "    <tr style=\"text-align: right;\">\n",
       "      <th></th>\n",
       "      <th>p (mbar)</th>\n",
       "      <th>T (degC)</th>\n",
       "      <th>Tpot (K)</th>\n",
       "      <th>Tdew (degC)</th>\n",
       "      <th>rh (%)</th>\n",
       "      <th>VPmax (mbar)</th>\n",
       "      <th>VPact (mbar)</th>\n",
       "      <th>VPdef (mbar)</th>\n",
       "      <th>sh (g/kg)</th>\n",
       "      <th>H2OC (mmol/mol)</th>\n",
       "      <th>rho (g/m**3)</th>\n",
       "      <th>Wx</th>\n",
       "      <th>Wy</th>\n",
       "      <th>max Wx</th>\n",
       "      <th>max Wy</th>\n",
       "      <th>Day_sin</th>\n",
       "      <th>Day_cos</th>\n",
       "      <th>Year_sin</th>\n",
       "      <th>Year_cos</th>\n",
       "    </tr>\n",
       "  </thead>\n",
       "  <tbody>\n",
       "    <tr>\n",
       "      <th>0</th>\n",
       "      <td>996.84</td>\n",
       "      <td>-8.81</td>\n",
       "      <td>264.59</td>\n",
       "      <td>-9.66</td>\n",
       "      <td>93.5</td>\n",
       "      <td>3.13</td>\n",
       "      <td>2.93</td>\n",
       "      <td>0.20</td>\n",
       "      <td>1.83</td>\n",
       "      <td>2.94</td>\n",
       "      <td>1312.18</td>\n",
       "      <td>-0.175527</td>\n",
       "      <td>0.039879</td>\n",
       "      <td>-0.614344</td>\n",
       "      <td>0.139576</td>\n",
       "      <td>7.071068e-01</td>\n",
       "      <td>7.071068e-01</td>\n",
       "      <td>0.011483</td>\n",
       "      <td>0.999934</td>\n",
       "    </tr>\n",
       "    <tr>\n",
       "      <th>1</th>\n",
       "      <td>997.71</td>\n",
       "      <td>-9.67</td>\n",
       "      <td>263.66</td>\n",
       "      <td>-10.62</td>\n",
       "      <td>92.7</td>\n",
       "      <td>2.93</td>\n",
       "      <td>2.71</td>\n",
       "      <td>0.21</td>\n",
       "      <td>1.69</td>\n",
       "      <td>2.72</td>\n",
       "      <td>1317.71</td>\n",
       "      <td>-0.041452</td>\n",
       "      <td>0.027960</td>\n",
       "      <td>-0.414519</td>\n",
       "      <td>0.279596</td>\n",
       "      <td>1.000000e+00</td>\n",
       "      <td>4.339955e-12</td>\n",
       "      <td>0.013633</td>\n",
       "      <td>0.999907</td>\n",
       "    </tr>\n",
       "    <tr>\n",
       "      <th>2</th>\n",
       "      <td>999.69</td>\n",
       "      <td>-7.66</td>\n",
       "      <td>265.52</td>\n",
       "      <td>-8.84</td>\n",
       "      <td>91.2</td>\n",
       "      <td>3.43</td>\n",
       "      <td>3.13</td>\n",
       "      <td>0.30</td>\n",
       "      <td>1.95</td>\n",
       "      <td>3.13</td>\n",
       "      <td>1310.14</td>\n",
       "      <td>-0.314796</td>\n",
       "      <td>-0.128466</td>\n",
       "      <td>-0.583298</td>\n",
       "      <td>-0.238040</td>\n",
       "      <td>7.071068e-01</td>\n",
       "      <td>-7.071068e-01</td>\n",
       "      <td>0.015783</td>\n",
       "      <td>0.999875</td>\n",
       "    </tr>\n",
       "    <tr>\n",
       "      <th>3</th>\n",
       "      <td>1000.30</td>\n",
       "      <td>-6.87</td>\n",
       "      <td>266.27</td>\n",
       "      <td>-8.28</td>\n",
       "      <td>89.6</td>\n",
       "      <td>3.64</td>\n",
       "      <td>3.27</td>\n",
       "      <td>0.38</td>\n",
       "      <td>2.03</td>\n",
       "      <td>3.26</td>\n",
       "      <td>1306.98</td>\n",
       "      <td>-1.834577</td>\n",
       "      <td>-0.141163</td>\n",
       "      <td>-2.622249</td>\n",
       "      <td>-0.201771</td>\n",
       "      <td>6.903299e-12</td>\n",
       "      <td>-1.000000e+00</td>\n",
       "      <td>0.017933</td>\n",
       "      <td>0.999839</td>\n",
       "    </tr>\n",
       "    <tr>\n",
       "      <th>4</th>\n",
       "      <td>999.88</td>\n",
       "      <td>-5.69</td>\n",
       "      <td>267.48</td>\n",
       "      <td>-7.00</td>\n",
       "      <td>90.4</td>\n",
       "      <td>3.99</td>\n",
       "      <td>3.61</td>\n",
       "      <td>0.38</td>\n",
       "      <td>2.25</td>\n",
       "      <td>3.61</td>\n",
       "      <td>1300.51</td>\n",
       "      <td>-0.825870</td>\n",
       "      <td>0.828758</td>\n",
       "      <td>-1.327039</td>\n",
       "      <td>1.331679</td>\n",
       "      <td>-7.071068e-01</td>\n",
       "      <td>-7.071068e-01</td>\n",
       "      <td>0.020083</td>\n",
       "      <td>0.999798</td>\n",
       "    </tr>\n",
       "    <tr>\n",
       "      <th>...</th>\n",
       "      <td>...</td>\n",
       "      <td>...</td>\n",
       "      <td>...</td>\n",
       "      <td>...</td>\n",
       "      <td>...</td>\n",
       "      <td>...</td>\n",
       "      <td>...</td>\n",
       "      <td>...</td>\n",
       "      <td>...</td>\n",
       "      <td>...</td>\n",
       "      <td>...</td>\n",
       "      <td>...</td>\n",
       "      <td>...</td>\n",
       "      <td>...</td>\n",
       "      <td>...</td>\n",
       "      <td>...</td>\n",
       "      <td>...</td>\n",
       "      <td>...</td>\n",
       "      <td>...</td>\n",
       "    </tr>\n",
       "    <tr>\n",
       "      <th>8755</th>\n",
       "      <td>980.34</td>\n",
       "      <td>1.45</td>\n",
       "      <td>276.18</td>\n",
       "      <td>0.03</td>\n",
       "      <td>90.2</td>\n",
       "      <td>6.79</td>\n",
       "      <td>6.12</td>\n",
       "      <td>0.67</td>\n",
       "      <td>3.89</td>\n",
       "      <td>6.24</td>\n",
       "      <td>1240.67</td>\n",
       "      <td>-0.604351</td>\n",
       "      <td>-3.731375</td>\n",
       "      <td>-1.191115</td>\n",
       "      <td>-7.354165</td>\n",
       "      <td>-8.715574e-02</td>\n",
       "      <td>-9.961947e-01</td>\n",
       "      <td>-0.028744</td>\n",
       "      <td>0.999587</td>\n",
       "    </tr>\n",
       "    <tr>\n",
       "      <th>8756</th>\n",
       "      <td>983.25</td>\n",
       "      <td>2.23</td>\n",
       "      <td>276.73</td>\n",
       "      <td>0.21</td>\n",
       "      <td>86.4</td>\n",
       "      <td>7.18</td>\n",
       "      <td>6.20</td>\n",
       "      <td>0.98</td>\n",
       "      <td>3.93</td>\n",
       "      <td>6.31</td>\n",
       "      <td>1240.81</td>\n",
       "      <td>-0.432628</td>\n",
       "      <td>-2.126437</td>\n",
       "      <td>-0.849307</td>\n",
       "      <td>-4.174479</td>\n",
       "      <td>-7.660444e-01</td>\n",
       "      <td>-6.427876e-01</td>\n",
       "      <td>-0.026594</td>\n",
       "      <td>0.999646</td>\n",
       "    </tr>\n",
       "    <tr>\n",
       "      <th>8757</th>\n",
       "      <td>985.46</td>\n",
       "      <td>1.69</td>\n",
       "      <td>276.00</td>\n",
       "      <td>-0.52</td>\n",
       "      <td>85.2</td>\n",
       "      <td>6.90</td>\n",
       "      <td>5.88</td>\n",
       "      <td>1.02</td>\n",
       "      <td>3.72</td>\n",
       "      <td>5.97</td>\n",
       "      <td>1246.23</td>\n",
       "      <td>-0.626578</td>\n",
       "      <td>-2.513066</td>\n",
       "      <td>-0.977364</td>\n",
       "      <td>-3.919995</td>\n",
       "      <td>-9.961947e-01</td>\n",
       "      <td>8.715574e-02</td>\n",
       "      <td>-0.024445</td>\n",
       "      <td>0.999701</td>\n",
       "    </tr>\n",
       "    <tr>\n",
       "      <th>8758</th>\n",
       "      <td>986.63</td>\n",
       "      <td>2.16</td>\n",
       "      <td>276.38</td>\n",
       "      <td>-1.14</td>\n",
       "      <td>78.7</td>\n",
       "      <td>7.14</td>\n",
       "      <td>5.62</td>\n",
       "      <td>1.52</td>\n",
       "      <td>3.55</td>\n",
       "      <td>5.70</td>\n",
       "      <td>1245.68</td>\n",
       "      <td>-0.773266</td>\n",
       "      <td>-3.669409</td>\n",
       "      <td>-1.222791</td>\n",
       "      <td>-5.802558</td>\n",
       "      <td>-6.427876e-01</td>\n",
       "      <td>7.660444e-01</td>\n",
       "      <td>-0.022295</td>\n",
       "      <td>0.999751</td>\n",
       "    </tr>\n",
       "    <tr>\n",
       "      <th>8759</th>\n",
       "      <td>987.50</td>\n",
       "      <td>1.57</td>\n",
       "      <td>275.72</td>\n",
       "      <td>-0.88</td>\n",
       "      <td>83.7</td>\n",
       "      <td>6.84</td>\n",
       "      <td>5.73</td>\n",
       "      <td>1.12</td>\n",
       "      <td>3.61</td>\n",
       "      <td>5.80</td>\n",
       "      <td>1249.44</td>\n",
       "      <td>-0.430321</td>\n",
       "      <td>-1.973632</td>\n",
       "      <td>-0.766909</td>\n",
       "      <td>-3.517364</td>\n",
       "      <td>8.715574e-02</td>\n",
       "      <td>9.961947e-01</td>\n",
       "      <td>-0.020145</td>\n",
       "      <td>0.999797</td>\n",
       "    </tr>\n",
       "  </tbody>\n",
       "</table>\n",
       "<p>8760 rows × 19 columns</p>\n",
       "</div>"
      ],
      "text/plain": [
       "      p (mbar)  T (degC)  Tpot (K)  Tdew (degC)  rh (%)  VPmax (mbar)  \\\n",
       "0       996.84     -8.81    264.59        -9.66    93.5          3.13   \n",
       "1       997.71     -9.67    263.66       -10.62    92.7          2.93   \n",
       "2       999.69     -7.66    265.52        -8.84    91.2          3.43   \n",
       "3      1000.30     -6.87    266.27        -8.28    89.6          3.64   \n",
       "4       999.88     -5.69    267.48        -7.00    90.4          3.99   \n",
       "...        ...       ...       ...          ...     ...           ...   \n",
       "8755    980.34      1.45    276.18         0.03    90.2          6.79   \n",
       "8756    983.25      2.23    276.73         0.21    86.4          7.18   \n",
       "8757    985.46      1.69    276.00        -0.52    85.2          6.90   \n",
       "8758    986.63      2.16    276.38        -1.14    78.7          7.14   \n",
       "8759    987.50      1.57    275.72        -0.88    83.7          6.84   \n",
       "\n",
       "      VPact (mbar)  VPdef (mbar)  sh (g/kg)  H2OC (mmol/mol)  rho (g/m**3)  \\\n",
       "0             2.93          0.20       1.83             2.94       1312.18   \n",
       "1             2.71          0.21       1.69             2.72       1317.71   \n",
       "2             3.13          0.30       1.95             3.13       1310.14   \n",
       "3             3.27          0.38       2.03             3.26       1306.98   \n",
       "4             3.61          0.38       2.25             3.61       1300.51   \n",
       "...            ...           ...        ...              ...           ...   \n",
       "8755          6.12          0.67       3.89             6.24       1240.67   \n",
       "8756          6.20          0.98       3.93             6.31       1240.81   \n",
       "8757          5.88          1.02       3.72             5.97       1246.23   \n",
       "8758          5.62          1.52       3.55             5.70       1245.68   \n",
       "8759          5.73          1.12       3.61             5.80       1249.44   \n",
       "\n",
       "            Wx        Wy    max Wx    max Wy       Day_sin       Day_cos  \\\n",
       "0    -0.175527  0.039879 -0.614344  0.139576  7.071068e-01  7.071068e-01   \n",
       "1    -0.041452  0.027960 -0.414519  0.279596  1.000000e+00  4.339955e-12   \n",
       "2    -0.314796 -0.128466 -0.583298 -0.238040  7.071068e-01 -7.071068e-01   \n",
       "3    -1.834577 -0.141163 -2.622249 -0.201771  6.903299e-12 -1.000000e+00   \n",
       "4    -0.825870  0.828758 -1.327039  1.331679 -7.071068e-01 -7.071068e-01   \n",
       "...        ...       ...       ...       ...           ...           ...   \n",
       "8755 -0.604351 -3.731375 -1.191115 -7.354165 -8.715574e-02 -9.961947e-01   \n",
       "8756 -0.432628 -2.126437 -0.849307 -4.174479 -7.660444e-01 -6.427876e-01   \n",
       "8757 -0.626578 -2.513066 -0.977364 -3.919995 -9.961947e-01  8.715574e-02   \n",
       "8758 -0.773266 -3.669409 -1.222791 -5.802558 -6.427876e-01  7.660444e-01   \n",
       "8759 -0.430321 -1.973632 -0.766909 -3.517364  8.715574e-02  9.961947e-01   \n",
       "\n",
       "      Year_sin  Year_cos  \n",
       "0     0.011483  0.999934  \n",
       "1     0.013633  0.999907  \n",
       "2     0.015783  0.999875  \n",
       "3     0.017933  0.999839  \n",
       "4     0.020083  0.999798  \n",
       "...        ...       ...  \n",
       "8755 -0.028744  0.999587  \n",
       "8756 -0.026594  0.999646  \n",
       "8757 -0.024445  0.999701  \n",
       "8758 -0.022295  0.999751  \n",
       "8759 -0.020145  0.999797  \n",
       "\n",
       "[8760 rows x 19 columns]"
      ]
     },
     "execution_count": 20,
     "metadata": {},
     "output_type": "execute_result"
    }
   ],
   "source": [
    "fold = folds[0]\n",
    "fold"
   ]
  },
  {
   "cell_type": "markdown",
   "metadata": {},
   "source": [
    "☝️ We want to split this fold **chronologically** into:\n",
    "\n",
    "- a <font color=blue>train</font> dataframe\n",
    "- a <font color=\"#ff8005\">test</font> dataframe\n",
    "\n",
    "that will contain all the data we need to be able to sample many `(X_i, y_i)` pairs in each dataframe in a next step! "
   ]
  },
  {
   "cell_type": "markdown",
   "metadata": {},
   "source": [
    "The `INPUT_LENGTH` of each `X_i` is going to be equal to 2 weeks (it is quite a common period for weather forecasting)"
   ]
  },
  {
   "cell_type": "code",
   "execution_count": 21,
   "metadata": {},
   "outputs": [],
   "source": [
    "INPUT_LENGTH = 8 * 14 # records every 3 hours x 8 = 24 hours\n",
    "                      # two weeks"
   ]
  },
  {
   "cell_type": "markdown",
   "metadata": {},
   "source": [
    "❓ **Question (temporal <font color=blue>train</font>-<font color=orange>test</font> split)** ❓\n",
    "\n",
    "Code the function `train_test_split` down below which:\n",
    "- <i>(input)</i> given a `fold` (like above), a `train_test_ratio` (e.g 0.8) and an `input_length` (fixed)\n",
    "- <i>(output)</i> a tuple of (`fold_train`, `fold_test`) dataframes\n",
    "\n",
    "\n",
    "❗️Hints to avoid data leakage❗️ \n",
    "\n",
    "- `fold_train` last index will become the last `y_train` later on\n",
    "- `fold_test` first index will be used to create the first `X_test`\n",
    "- To avoid data leakage, `y_train_last` should be JUST before `y_test_first`\n",
    "\n",
    "<img src=\"https://wagon-public-datasets.s3.amazonaws.com/data-science-images/DL/explanations_for_train_test_split_temporal.png\" alt=\"train_test_split_temporal\" width=\"500\" height=\"500\"> "
   ]
  },
  {
   "cell_type": "code",
   "execution_count": 22,
   "metadata": {},
   "outputs": [],
   "source": [
    "def train_test_split(fold:pd.DataFrame,\n",
    "                     train_test_ratio: float,\n",
    "                     input_length: int) -> Tuple[pd.DataFrame]:\n",
    "    '''\n",
    "    Returns a train dataframe and a test dataframe (fold_train, fold_test)\n",
    "    from which one can sample (X,y) sequences.\n",
    "    df_train should contain all the timesteps until round(train_test_ratio * len(fold))   \n",
    "    '''\n",
    "    # $CHALLENGIFY_BEGIN\n",
    "    \n",
    "    # TRAIN SET\n",
    "    # ======================\n",
    "    last_train_idx = round(train_test_ratio * len(fold))\n",
    "    fold_train = fold.iloc[0:last_train_idx, :]\n",
    "\n",
    "    # TEST SET\n",
    "    # ======================    \n",
    "    first_test_idx = last_train_idx - input_length\n",
    "    fold_test = fold.iloc[first_test_idx:, :]\n",
    "\n",
    "    return (fold_train, fold_test)\n",
    "    # $CHALLENGIFY_END"
   ]
  },
  {
   "cell_type": "markdown",
   "metadata": {},
   "source": [
    "🧪 ***Test your code***"
   ]
  },
  {
   "cell_type": "code",
   "execution_count": 23,
   "metadata": {},
   "outputs": [],
   "source": [
    "(fold_train, fold_test) = train_test_split(fold, TRAIN_TEST_RATIO, INPUT_LENGTH)"
   ]
  },
  {
   "cell_type": "code",
   "execution_count": 24,
   "metadata": {},
   "outputs": [
    {
     "name": "stdout",
     "output_type": "stream",
     "text": [
      "\n",
      "\u001b[1m============================= test session starts ==============================\u001b[0m\n",
      "platform linux -- Python 3.8.10, pytest-7.1.2, pluggy-1.0.0 -- /usr/bin/python3\n",
      "cachedir: .pytest_cache\n",
      "rootdir: /home/quantium/labs/lewagon/data-challenges/06-Deep-Learning/04-Recurrent-Neural-Networks/03-Predict-Temperature/tests\n",
      "plugins: dash-1.19.0, anyio-3.6.1\n",
      "\u001b[1mcollecting ... \u001b[0mcollected 4 items\n",
      "\n",
      "test_holdout.py::TestHoldout::test_variable_test_index_start \u001b[32mPASSED\u001b[0m\u001b[32m      [ 25%]\u001b[0m\n",
      "test_holdout.py::TestHoldout::test_variable_test_index_stop \u001b[32mPASSED\u001b[0m\u001b[32m       [ 50%]\u001b[0m\n",
      "test_holdout.py::TestHoldout::test_variable_train_index_start \u001b[32mPASSED\u001b[0m\u001b[32m     [ 75%]\u001b[0m\n",
      "test_holdout.py::TestHoldout::test_variable_train_index_stop \u001b[32mPASSED\u001b[0m\u001b[32m      [100%]\u001b[0m\n",
      "\n",
      "\u001b[32m============================== \u001b[32m\u001b[1m4 passed\u001b[0m\u001b[32m in 0.02s\u001b[0m\u001b[32m ===============================\u001b[0m\n",
      "\n",
      "\n",
      "💯 You can commit your code:\n",
      "\n",
      "\u001b[1;32mgit\u001b[39m add tests/holdout.pickle\n",
      "\n",
      "\u001b[32mgit\u001b[39m commit -m \u001b[33m'Completed holdout step'\u001b[39m\n",
      "\n",
      "\u001b[32mgit\u001b[39m push origin master\n",
      "\n"
     ]
    }
   ],
   "source": [
    "from nbresult import ChallengeResult\n",
    "\n",
    "result = ChallengeResult('holdout',\n",
    "                         train_index_start = fold_train.index.start,\n",
    "                         train_index_stop = fold_train.index.stop,\n",
    "                         test_index_start = fold_test.index.start,\n",
    "                         test_index_stop = fold_test.index.stop)\n",
    "result.write()\n",
    "print(result.check())"
   ]
  },
  {
   "cell_type": "markdown",
   "metadata": {},
   "source": [
    "## (1.3) Create (X, y) sequences"
   ]
  },
  {
   "cell_type": "markdown",
   "metadata": {},
   "source": [
    "Now that we have splitted our fold into a <font color=\"blue\">train</font> set and a <font color=\"#ff8005\">test</font> set, it is time to:\n",
    "- 🏋 sample lots of sequences $(X_i, y_i)$ on which the model will be <font color=\"blue\">trained</font>\n",
    "- 👩🏻‍🏫 sample lots of sequences $(X_i, y_i)$ on which the model will be <font color=\"#ff8005\">evaluated</font>\n",
    "\n",
    "<img src=\"https://bit.ly/3Ri8Vfd\" alt=\"Sequences in each fold\" width=\"300\" height=\"300\"> \n",
    "\n",
    "🎯 Our goal is to create 3D-arrays `(X_train, y_train)` and `(X_test, y_test)` containing all the SEQUENCES we need from this fold:\n",
    "\n",
    "* `X_train.shape = (n_samples_train, input_length, n_features)`\n",
    "* `y_train.shape = (n_samples_train, output_length, n_targets)`\n",
    "\n",
    "👉 Notice that we are now dealing with **3D arrays** instead of **2D DataFrames** time-series\n",
    "\n",
    "<img src=\"https://bit.ly/3bOhKNj\" alt=\"3d arrays time series\" width=\"1200\" height=\"800\"> "
   ]
  },
  {
   "cell_type": "code",
   "execution_count": 25,
   "metadata": {},
   "outputs": [
    {
     "name": "stdout",
     "output_type": "stream",
     "text": [
      "N_FEATURES = 19\n",
      "INPUT_LENGTH = 112\n"
     ]
    }
   ],
   "source": [
    "# INPUT X\n",
    "print(f'N_FEATURES = {N_FEATURES}')\n",
    "print(f'INPUT_LENGTH = {INPUT_LENGTH}')"
   ]
  },
  {
   "cell_type": "markdown",
   "metadata": {},
   "source": [
    "☝️ `X` is the **input** of our model. \n",
    "- It contains $19$ features: the past values of the <font color=green>**target**</font> + $18$ <font color=orange>**past-covariates**</font>\n",
    "- Each sequence has a length equal to $112$ timesteps (=$2$ weeks)"
   ]
  },
  {
   "cell_type": "code",
   "execution_count": 26,
   "metadata": {},
   "outputs": [
    {
     "name": "stdout",
     "output_type": "stream",
     "text": [
      "N_TARGETS = 1\n"
     ]
    }
   ],
   "source": [
    "# TARGET Y\n",
    "print(f'N_TARGETS = {N_TARGETS}')\n",
    "\n",
    "# Let's only predict 1 value ahead of us\n",
    "OUTPUT_LENGTH = 1"
   ]
  },
  {
   "cell_type": "markdown",
   "metadata": {},
   "source": [
    "☝️ `y` is the <font color=green>**target**</font> that we want to predic:t\n",
    "- It is the value at the single next timestep (=3 hours later)\n",
    "- We could also predict `OUTPUT_LENGTH > 1`, i.e several values in the future (3 hours later, 6 hours later, 9 hours later, ...) but let's keep it simple here and just try to predict the next point (in 3 hours)"
   ]
  },
  {
   "cell_type": "markdown",
   "metadata": {},
   "source": [
    "💡 To create these SEQUENCES within the <font color=\"blue\">train</font> set and the <font color=\"#ff8005\">test</font> set, you have several options, among them:\n",
    "- 🎲 <u><i>Option 1</i></u>: creating these sequences by randomly sampling $(X_i, y_i)$ from <font color=\"blue\">fold_train</font> and <font color=\"#ff8005\">fold_test</font>.\n",
    "- ⌚️ <u><i>Option 2</i></u>: scanning a fold chronologically and create all the possible pairs $(X_i, y_i)$. \n",
    " \n",
    "\n",
    "👉 Let's focus on the first option: random sampling\n",
    "\n",
    "🎁 If you want to scan the folds chronologically, we provided the solution in the section and you can come back to it later\n"
   ]
  },
  {
   "cell_type": "markdown",
   "metadata": {},
   "source": [
    "### (1.2.1) Option 1: Create (X, y) by random sampling in each split"
   ]
  },
  {
   "cell_type": "markdown",
   "metadata": {},
   "source": [
    "👇 We will code:\n",
    "\n",
    "* 1️⃣ a function `get_Xi_yi` to generate a single sequence randomly from within a fold\n",
    "\n",
    "* 2️⃣ a function `get_X_y` to generate 3D-arrays containing multiple sequences from a fold, calling the first function `get_Xi_yi` many times over"
   ]
  },
  {
   "cell_type": "markdown",
   "metadata": {},
   "source": [
    "#### (1.2.2.1) Generating one random sequence"
   ]
  },
  {
   "cell_type": "markdown",
   "metadata": {},
   "source": [
    "<img src=\"https://wagon-public-datasets.s3.amazonaws.com/data-science-images/DL/get_xi_yi.png\" alt=\"one sequence\" width=\"400\" height=\"400\"> "
   ]
  },
  {
   "cell_type": "markdown",
   "metadata": {},
   "source": [
    "❓ **Question (extracting a random sequence from a fold)** ❓\n",
    "\n",
    "Code the function `get_Xi_yi` down below which:\n",
    "- <i>(input)</i> given a fold, an `input_length` and an `output_length`\n",
    "- <i>(output)</i> returns a sequence $(X_i,y_i)$"
   ]
  },
  {
   "cell_type": "code",
   "execution_count": 27,
   "metadata": {},
   "outputs": [],
   "source": [
    "def get_Xi_yi(\n",
    "    fold:pd.DataFrame, \n",
    "    input_length:int, \n",
    "    output_length:int):\n",
    "    '''\n",
    "    - given a fold, it returns one sequence (X_i, y_i)\n",
    "    - with the starting point of the sequence being chosen at random\n",
    "    '''\n",
    "    # $CHALLENGIFY_BEGIN\n",
    "    first_possible_start = 0\n",
    "    last_possible_start = len(fold) - (input_length + output_length) + 1\n",
    "    random_start = np.random.randint(first_possible_start, last_possible_start)\n",
    "    X_i = fold.iloc[random_start:random_start+input_length]    \n",
    "    y_i = fold.iloc[random_start+input_length:\n",
    "                  random_start+input_length+output_length][[TARGET]]\n",
    "    \n",
    "    return (X_i, y_i)\n",
    "    # $CHALLENGIFY_END"
   ]
  },
  {
   "cell_type": "markdown",
   "metadata": {},
   "source": [
    "🧪 ***Test your code below***"
   ]
  },
  {
   "cell_type": "code",
   "execution_count": 28,
   "metadata": {},
   "outputs": [],
   "source": [
    "X_train_i, y_train_i = get_Xi_yi(fold_train, INPUT_LENGTH, OUTPUT_LENGTH)\n",
    "X_test_i, y_test_i = get_Xi_yi(fold_test, INPUT_LENGTH, OUTPUT_LENGTH)"
   ]
  },
  {
   "cell_type": "code",
   "execution_count": 29,
   "metadata": {},
   "outputs": [
    {
     "name": "stdout",
     "output_type": "stream",
     "text": [
      "\n",
      "\u001b[1m============================= test session starts ==============================\u001b[0m\n",
      "platform linux -- Python 3.8.10, pytest-7.1.2, pluggy-1.0.0 -- /usr/bin/python3\n",
      "cachedir: .pytest_cache\n",
      "rootdir: /home/quantium/labs/lewagon/data-challenges/06-Deep-Learning/04-Recurrent-Neural-Networks/03-Predict-Temperature/tests\n",
      "plugins: dash-1.19.0, anyio-3.6.1\n",
      "\u001b[1mcollecting ... \u001b[0mcollected 4 items\n",
      "\n",
      "test_sequence.py::TestSequence::test_variable_x_test_i_shape \u001b[32mPASSED\u001b[0m\u001b[32m      [ 25%]\u001b[0m\n",
      "test_sequence.py::TestSequence::test_variable_x_train_i_shape \u001b[32mPASSED\u001b[0m\u001b[32m     [ 50%]\u001b[0m\n",
      "test_sequence.py::TestSequence::test_variable_y_test_i_shape \u001b[32mPASSED\u001b[0m\u001b[32m      [ 75%]\u001b[0m\n",
      "test_sequence.py::TestSequence::test_variable_y_train_i_shape \u001b[32mPASSED\u001b[0m\u001b[32m     [100%]\u001b[0m\n",
      "\n",
      "\u001b[32m============================== \u001b[32m\u001b[1m4 passed\u001b[0m\u001b[32m in 0.02s\u001b[0m\u001b[32m ===============================\u001b[0m\n",
      "\n",
      "\n",
      "💯 You can commit your code:\n",
      "\n",
      "\u001b[1;32mgit\u001b[39m add tests/sequence.pickle\n",
      "\n",
      "\u001b[32mgit\u001b[39m commit -m \u001b[33m'Completed sequence step'\u001b[39m\n",
      "\n",
      "\u001b[32mgit\u001b[39m push origin master\n",
      "\n"
     ]
    }
   ],
   "source": [
    "from nbresult import ChallengeResult\n",
    "\n",
    "result = ChallengeResult('sequence',\n",
    "                         x_train_i_shape = X_train_i.shape,\n",
    "                         y_train_i_shape = y_train_i.shape,\n",
    "                         x_test_i_shape = X_test_i.shape,\n",
    "                         y_test_i_shape = y_test_i.shape)\n",
    "result.write()\n",
    "print(result.check())"
   ]
  },
  {
   "cell_type": "code",
   "execution_count": 30,
   "metadata": {},
   "outputs": [],
   "source": [
    "# Advanced check 😈 \n",
    "# You should not allow some truncated (X_i,y_i) pairs to be generating,\n",
    "# should you start sampling too close from the end of the fold... !\n",
    "\n",
    "X_last, y_last = get_Xi_yi(fold_test, input_length=len(fold_test)-1, output_length=OUTPUT_LENGTH)\n",
    "assert y_last.values == fold_test.iloc[-1,:][TARGET]"
   ]
  },
  {
   "cell_type": "markdown",
   "metadata": {},
   "source": [
    "#### (1.2.2.2) Generating multiple random sequences"
   ]
  },
  {
   "cell_type": "markdown",
   "metadata": {},
   "source": [
    "<img src=\"https://bit.ly/3Ri8Vfd\" alt=\"Sequences in each fold\" width=\"500\" height=\"500\"> "
   ]
  },
  {
   "cell_type": "markdown",
   "metadata": {},
   "source": [
    "❓ **Question (extracting multiple random sequence from a fold)** ❓\n",
    "\n",
    "Code the function `get_X_y` down below which:\n",
    "- <i>(input)</i> given a fold, a `number_of_sequences` an `input_length` and an `output_length`\n",
    "- <i>(output)</i> returns $(X,y)$ \n",
    "\n",
    "_Don't forget to use the `get_Xi_yi` function that you have just coded!_"
   ]
  },
  {
   "cell_type": "code",
   "execution_count": 31,
   "metadata": {},
   "outputs": [],
   "source": [
    "def get_X_y(\n",
    "    fold:pd.DataFrame,\n",
    "    number_of_sequences:int,\n",
    "    input_length:int,\n",
    "    output_length:int\n",
    "):\n",
    "    # $CHALLENGIFY_BEGIN    \n",
    "    X, y = [], []\n",
    "\n",
    "    for i in range(number_of_sequences):\n",
    "        (Xi, yi) = get_Xi_yi(fold, input_length, output_length)\n",
    "        X.append(Xi)\n",
    "        y.append(yi)\n",
    "        \n",
    "    return np.array(X), np.array(y)\n",
    "    # $CHALLENGIFY_END"
   ]
  },
  {
   "cell_type": "markdown",
   "metadata": {},
   "source": [
    "🧪 ***Test your code***"
   ]
  },
  {
   "cell_type": "code",
   "execution_count": 32,
   "metadata": {},
   "outputs": [],
   "source": [
    "N_TRAIN = 6666 # number_of_sequences_train\n",
    "N_TEST =  3333 # number_of_sequences_test\n",
    "\n",
    "X_train, y_train = get_X_y(fold_train, N_TRAIN, INPUT_LENGTH, OUTPUT_LENGTH)\n",
    "X_test, y_test = get_X_y(fold_test, N_TEST, INPUT_LENGTH, OUTPUT_LENGTH)"
   ]
  },
  {
   "cell_type": "code",
   "execution_count": 33,
   "metadata": {},
   "outputs": [
    {
     "name": "stdout",
     "output_type": "stream",
     "text": [
      "\n",
      "\u001b[1m============================= test session starts ==============================\u001b[0m\n",
      "platform linux -- Python 3.8.10, pytest-7.1.2, pluggy-1.0.0 -- /usr/bin/python3\n",
      "cachedir: .pytest_cache\n",
      "rootdir: /home/quantium/labs/lewagon/data-challenges/06-Deep-Learning/04-Recurrent-Neural-Networks/03-Predict-Temperature/tests\n",
      "plugins: dash-1.19.0, anyio-3.6.1\n",
      "\u001b[1mcollecting ... \u001b[0mcollected 4 items\n",
      "\n",
      "test_multiple_sequences.py::TestMultipleSequences::test_variable_x_test_i_shape \u001b[32mPASSED\u001b[0m\u001b[32m [ 25%]\u001b[0m\n",
      "test_multiple_sequences.py::TestMultipleSequences::test_variable_x_train_shape \u001b[32mPASSED\u001b[0m\u001b[32m [ 50%]\u001b[0m\n",
      "test_multiple_sequences.py::TestMultipleSequences::test_variable_y_test_i_shape \u001b[32mPASSED\u001b[0m\u001b[32m [ 75%]\u001b[0m\n",
      "test_multiple_sequences.py::TestMultipleSequences::test_variable_y_train_shape \u001b[32mPASSED\u001b[0m\u001b[32m [100%]\u001b[0m\n",
      "\n",
      "\u001b[32m============================== \u001b[32m\u001b[1m4 passed\u001b[0m\u001b[32m in 0.02s\u001b[0m\u001b[32m ===============================\u001b[0m\n",
      "\n",
      "\n",
      "💯 You can commit your code:\n",
      "\n",
      "\u001b[1;32mgit\u001b[39m add tests/multiple_sequences.pickle\n",
      "\n",
      "\u001b[32mgit\u001b[39m commit -m \u001b[33m'Completed multiple_sequences step'\u001b[39m\n",
      "\n",
      "\u001b[32mgit\u001b[39m push origin master\n",
      "\n"
     ]
    }
   ],
   "source": [
    "from nbresult import ChallengeResult\n",
    "\n",
    "result = ChallengeResult('multiple_sequences',\n",
    "                         x_train_shape = X_train.shape,\n",
    "                         y_train_shape = y_train.shape,\n",
    "                         x_test_shape = X_test.shape,\n",
    "                         y_test_shape = y_test.shape)\n",
    "result.write()\n",
    "print(result.check())"
   ]
  },
  {
   "cell_type": "markdown",
   "metadata": {},
   "source": [
    "### (1.2.2) (Don't read this now, keep for later) 🎁 Option 2: Scanning  chronologically"
   ]
  },
  {
   "cell_type": "markdown",
   "metadata": {},
   "source": [
    "As stated earlier, there are multiple ways to extract sequences from a fold. \n",
    "\n",
    "- 🎲 In the previous section, you coded:\n",
    "    - `get_Xi_yi` which randomly samples _one_ sequence \n",
    "    - and `get_X_y` which randomly generates _multiple_ sequences\n",
    "\n",
    "- ⌚️ In this section, we provide you a unique function `get_X_y_strides`.\n",
    "    - It scans a fold chronologically based on:\n",
    "         - an `input_length` (let's still use `INPUT_LENGTH = 8 * 14`, i.e. two weeks) \n",
    "         - and a `sequence_stride` (think about a one-dimensional convolutional operation!)"
   ]
  },
  {
   "cell_type": "markdown",
   "metadata": {},
   "source": [
    "👉 Let's scan the fold with a temporal stride of 3 hours (the minimum one):"
   ]
  },
  {
   "cell_type": "code",
   "execution_count": 34,
   "metadata": {},
   "outputs": [],
   "source": [
    "SEQUENCE_STRIDE = 1"
   ]
  },
  {
   "cell_type": "code",
   "execution_count": 35,
   "metadata": {},
   "outputs": [],
   "source": [
    "def get_X_y_strides(fold: pd.DataFrame, input_length: int, output_length: int, sequence_stride: int):\n",
    "    '''\n",
    "    - slides through a `fold` Time Series (2D array) to create sequences of equal\n",
    "        * `input_length` for X,\n",
    "        * `output_length` for y,\n",
    "    using a temporal gap `sequence_stride` between each sequence\n",
    "    - returns a list of sequences, each as a 2D-array time series\n",
    "    '''\n",
    "\n",
    "    X, y = [], []\n",
    "\n",
    "    for i in range(0, len(fold), sequence_stride):\n",
    "        # Exits the loop as soon as the last fold index would exceed the last index\n",
    "        if (i + input_length + output_length) > len(fold):\n",
    "            break\n",
    "        X_i = fold.iloc[i:i + input_length, :]\n",
    "        y_i = fold.iloc[i + input_length:i + input_length + output_length, :][[TARGET]]\n",
    "        X.append(X_i)\n",
    "        y.append(y_i)\n",
    "\n",
    "    return np.array(X), np.array(y)"
   ]
  },
  {
   "cell_type": "markdown",
   "metadata": {},
   "source": [
    "🧑🏻‍🎓 Some clarifications about scanning a fold sequentially :"
   ]
  },
  {
   "cell_type": "code",
   "execution_count": 36,
   "metadata": {},
   "outputs": [
    {
     "name": "stdout",
     "output_type": "stream",
     "text": [
      "FOLD_LENGTH\n",
      "= 8760 timesteps\n",
      "= 1095 days\n",
      "= 156 weeks\n"
     ]
    }
   ],
   "source": [
    "print(\"FOLD_LENGTH\") \n",
    "print(f\"= {FOLD_LENGTH} timesteps\")\n",
    "print(f\"= {int(FOLD_LENGTH/8)} days\") # 8 records per day, every 3 hours\n",
    "print(f\"= {int(FOLD_LENGTH/8/7)} weeks\")"
   ]
  },
  {
   "cell_type": "code",
   "execution_count": 37,
   "metadata": {},
   "outputs": [
    {
     "name": "stdout",
     "output_type": "stream",
     "text": [
      "(5670, 112, 19)\n",
      "(5670, 1, 1)\n"
     ]
    }
   ],
   "source": [
    "X_train, y_train = get_X_y_strides(fold_train, INPUT_LENGTH, OUTPUT_LENGTH, SEQUENCE_STRIDE)\n",
    "X_test, y_test = get_X_y_strides(fold_test, INPUT_LENGTH, OUTPUT_LENGTH, SEQUENCE_STRIDE)\n",
    "\n",
    "print(X_train.shape)\n",
    "print(y_train.shape)"
   ]
  },
  {
   "cell_type": "markdown",
   "metadata": {},
   "source": [
    "👇 Illustration down below if *SEQUENCE_STRIDE = 1 week*\n",
    "\n",
    "<img src=\"https://wagon-public-datasets.s3.amazonaws.com/data-science-images/DL/scanning_a_time_series_chronologically_v3.png\">"
   ]
  },
  {
   "cell_type": "markdown",
   "metadata": {},
   "source": [
    "# (2) Modelling"
   ]
  },
  {
   "cell_type": "markdown",
   "metadata": {},
   "source": [
    "**The MAE as a metrics to monitor the temperature prediction**"
   ]
  },
  {
   "cell_type": "markdown",
   "metadata": {},
   "source": [
    "The Mean Absolute Error seems to be a reasonable metrics to evaluate a model's capability to predict the temperature:\n",
    "\n",
    "$$ MAE = \\frac{1}{n_{samples}} \\times \\sum_{i = 1}^{n_{samples}} |y_{true}^{(i)} - y_{pred}^{(i)}|$$"
   ]
  },
  {
   "cell_type": "markdown",
   "metadata": {},
   "source": [
    "## (2.1) A Recurrent Neural Network: the `LSTM`\n",
    "\n",
    "🚀 It is time to design a Recurrent Neural Network and hopefully beat the baseline 💪 !"
   ]
  },
  {
   "cell_type": "markdown",
   "metadata": {},
   "source": [
    "❓ **Question (RNN)** ❓ \n",
    "\n",
    "- Create a function `init_model` which builds and compiles a simple Recurrent Neural Network with an LSTM layer\n",
    "- Don't forget to normalize your data with a [📚 Normalization layer](https://www.tensorflow.org/api_docs/python/tf/keras/layers/Normalization)"
   ]
  },
  {
   "cell_type": "code",
   "execution_count": 38,
   "metadata": {},
   "outputs": [],
   "source": [
    "from tensorflow.keras import models\n",
    "from tensorflow.keras import layers\n",
    "from tensorflow.keras import optimizers, metrics\n",
    "from tensorflow.keras.layers.experimental.preprocessing import Normalization\n",
    "\n",
    "def init_model(X_train, y_train):\n",
    "    \n",
    "    # $CHALLENGIFY_BEGIN    \n",
    "    \n",
    "    # 0 - Normalization\n",
    "    # ======================    \n",
    "    normalizer = Normalization()\n",
    "    normalizer.adapt(X_train)\n",
    "    \n",
    "    # 1 - RNN architecture\n",
    "    # ======================    \n",
    "    model = models.Sequential()\n",
    "    ## 1.0 - All the rows will be standardized through the already adapted normalization layer\n",
    "    model.add(normalizer)\n",
    "    ## 1.1 - Recurrent Layer\n",
    "    model.add(layers.LSTM(64, \n",
    "                          activation='tanh', \n",
    "                          return_sequences = False,\n",
    "                          recurrent_dropout = 0.3))\n",
    "    ## 1.2 - Predictive Dense Layers\n",
    "    output_length = y_train.shape[1]\n",
    "    model.add(layers.Dense(output_length, activation='linear'))\n",
    "\n",
    "    # 2 - Compiler\n",
    "    # ======================    \n",
    "    adam = optimizers.Adam(learning_rate=0.02)    \n",
    "    model.compile(loss='mse', optimizer=adam, metrics=[\"mae\"])\n",
    "    \n",
    "    return model\n",
    "    # $CHALLENGIFY_END"
   ]
  },
  {
   "cell_type": "code",
   "execution_count": 39,
   "metadata": {},
   "outputs": [
    {
     "name": "stdout",
     "output_type": "stream",
     "text": [
      "Model: \"sequential\"\n",
      "_________________________________________________________________\n",
      " Layer (type)                Output Shape              Param #   \n",
      "=================================================================\n",
      " normalization (Normalizatio  (None, None, 19)         39        \n",
      " n)                                                              \n",
      "                                                                 \n",
      " lstm (LSTM)                 (None, 64)                21504     \n",
      "                                                                 \n",
      " dense (Dense)               (None, 1)                 65        \n",
      "                                                                 \n",
      "=================================================================\n",
      "Total params: 21,608\n",
      "Trainable params: 21,569\n",
      "Non-trainable params: 39\n",
      "_________________________________________________________________\n"
     ]
    }
   ],
   "source": [
    "model = init_model(X_train, y_train)\n",
    "model.summary()"
   ]
  },
  {
   "cell_type": "markdown",
   "metadata": {},
   "source": [
    "🛠 🎁 📉 We coded a function `plot_history` for you to visualize the training of your RNN over epochs. This function shows both the evolution of the loss function (MSE) and metrics (MAE)."
   ]
  },
  {
   "cell_type": "code",
   "execution_count": 40,
   "metadata": {},
   "outputs": [],
   "source": [
    "def plot_history(history):\n",
    "    \n",
    "    fig, ax = plt.subplots(1,2, figsize=(20,7))\n",
    "    # --- LOSS: MSE --- \n",
    "    ax[0].plot(history.history['loss'])\n",
    "    ax[0].plot(history.history['val_loss'])\n",
    "    ax[0].set_title('MSE')\n",
    "    ax[0].set_ylabel('Loss')\n",
    "    ax[0].set_xlabel('Epoch')\n",
    "    ax[0].legend(['Train', 'Test'], loc='best')\n",
    "    ax[0].grid(axis=\"x\",linewidth=0.5)\n",
    "    ax[0].grid(axis=\"y\",linewidth=0.5)\n",
    "    \n",
    "    # --- METRICS:MAE ---\n",
    "    \n",
    "    ax[1].plot(history.history['mae'])\n",
    "    ax[1].plot(history.history['val_mae'])\n",
    "    ax[1].set_title('MAE')\n",
    "    ax[1].set_ylabel('MAE')\n",
    "    ax[1].set_xlabel('Epoch')\n",
    "    ax[1].legend(['Train', 'Test'], loc='best')\n",
    "    ax[1].grid(axis=\"x\",linewidth=0.5)\n",
    "    ax[1].grid(axis=\"y\",linewidth=0.5)\n",
    "                        \n",
    "    return ax"
   ]
  },
  {
   "cell_type": "markdown",
   "metadata": {},
   "source": [
    "❓ **Questions (training and evaluating)** ❓\n",
    "\n",
    "- Code the `fit_model()` method that \n",
    "    - <i>(input)</i> given `model`\n",
    "    - <i>(output)</i> returns the fitted model through a tuple `(model, history)` \n",
    "- Then:\n",
    "    - Initialize an RNN model with the `init_model` function\n",
    "    - <font color=blue>Train</font> the model\n",
    "    - <font color=orange>Evaluate</font> it on the test set"
   ]
  },
  {
   "cell_type": "code",
   "execution_count": 41,
   "metadata": {
    "tags": [
     "challengify"
    ]
   },
   "outputs": [],
   "source": [
    "from tensorflow.keras.callbacks import EarlyStopping\n",
    "\n",
    "def fit_model(model: tf.keras.Model, verbose=1) -> Tuple[tf.keras.Model, dict]:\n",
    "\n",
    "    # $CHALLENGIFY_BEGIN\n",
    "    es = EarlyStopping(monitor = \"val_loss\",\n",
    "                      patience = 3,\n",
    "                      mode = \"min\",\n",
    "                      restore_best_weights = True)\n",
    "\n",
    "\n",
    "    history = model.fit(X_train, y_train,\n",
    "                        validation_split = 0.3,\n",
    "                        shuffle = False,\n",
    "                        batch_size = 32,\n",
    "                        epochs = 50,\n",
    "                        callbacks = [es],\n",
    "                        verbose = verbose)\n",
    "\n",
    "    return model, history\n",
    "    # $CHALLENGIFY_END"
   ]
  },
  {
   "cell_type": "code",
   "execution_count": 42,
   "metadata": {
    "tags": [
     "delete"
    ]
   },
   "outputs": [
    {
     "name": "stdout",
     "output_type": "stream",
     "text": [
      "Model: \"sequential_1\"\n",
      "_________________________________________________________________\n",
      " Layer (type)                Output Shape              Param #   \n",
      "=================================================================\n",
      " normalization_1 (Normalizat  (None, None, 19)         39        \n",
      " ion)                                                            \n",
      "                                                                 \n",
      " lstm_1 (LSTM)               (None, 64)                21504     \n",
      "                                                                 \n",
      " dense_1 (Dense)             (None, 1)                 65        \n",
      "                                                                 \n",
      "=================================================================\n",
      "Total params: 21,608\n",
      "Trainable params: 21,569\n",
      "Non-trainable params: 39\n",
      "_________________________________________________________________\n",
      "Epoch 1/50\n",
      "124/124 [==============================] - 12s 87ms/step - loss: 18.3878 - mae: 3.2139 - val_loss: 25.0399 - val_mae: 3.7322\n",
      "Epoch 2/50\n",
      "124/124 [==============================] - 10s 85ms/step - loss: 11.9616 - mae: 2.6921 - val_loss: 15.0088 - val_mae: 2.9745\n",
      "Epoch 3/50\n",
      "124/124 [==============================] - 10s 82ms/step - loss: 8.3226 - mae: 2.1446 - val_loss: 10.3946 - val_mae: 2.4013\n",
      "Epoch 4/50\n",
      "124/124 [==============================] - 10s 79ms/step - loss: 5.6418 - mae: 1.7309 - val_loss: 5.6191 - val_mae: 1.7711\n",
      "Epoch 5/50\n",
      "124/124 [==============================] - 10s 79ms/step - loss: 4.2161 - mae: 1.5080 - val_loss: 6.0801 - val_mae: 1.8256\n",
      "Epoch 6/50\n",
      "124/124 [==============================] - 10s 78ms/step - loss: 3.7748 - mae: 1.4413 - val_loss: 6.8628 - val_mae: 1.9609\n",
      "Epoch 7/50\n",
      "124/124 [==============================] - 9s 77ms/step - loss: 3.8704 - mae: 1.5024 - val_loss: 5.8095 - val_mae: 1.7921\n"
     ]
    }
   ],
   "source": [
    "# 1 - Initialising the RNN model\n",
    "# ====================================\n",
    "\n",
    "model = init_model(X_train, y_train)\n",
    "model.summary()\n",
    "\n",
    "# 2 - Training\n",
    "# ====================================\n",
    "model, history = fit_model(model)"
   ]
  },
  {
   "cell_type": "code",
   "execution_count": 43,
   "metadata": {
    "tags": [
     "delete"
    ]
   },
   "outputs": [
    {
     "data": {
      "image/png": "[encoded data removed]",
      "text/plain": [
       "<Figure size 1440x504 with 2 Axes>"
      ]
     },
     "metadata": {
      "needs_background": "light"
     },
     "output_type": "display_data"
    }
   ],
   "source": [
    "plot_history(history);"
   ]
  },
  {
   "cell_type": "code",
   "execution_count": 44,
   "metadata": {
    "tags": [
     "delete"
    ]
   },
   "outputs": [
    {
     "name": "stdout",
     "output_type": "stream",
     "text": [
      "94/94 [==============================] - 2s 21ms/step - loss: 5.3032 - mae: 1.8020\n",
      "The LSTM MAE on the test set is equal to 1.8 Celsius degrees\n"
     ]
    }
   ],
   "source": [
    "# 3 - Evaluation\n",
    "# ====================================\n",
    "res = model.evaluate(X_test, y_test)\n",
    "print(f\"The LSTM MAE on the test set is equal to {round(res[1],2)} Celsius degrees\")"
   ]
  },
  {
   "cell_type": "markdown",
   "metadata": {},
   "source": [
    "## (2.2) A Baseline Model to compare our LSTM with!"
   ]
  },
  {
   "cell_type": "markdown",
   "metadata": {},
   "source": [
    "👉 In Time Series, an \"intuitive\" baseline model is to predict the **last seen value** for the future value(s) you want to forecast, as illustrated down below!\n",
    "\n",
    "<img src = \"https://wagon-public-datasets.s3.amazonaws.com/data-science-images/DL/rnn_time_series_no_horizon.png\" width = 600, height = 300>"
   ]
  },
  {
   "cell_type": "markdown",
   "metadata": {},
   "source": [
    "❓ **Question (Last Seen Value Baseline Model)** ❓ \n",
    "\n",
    "Create a new method `init_baseline` that initializes and compiles a baseline model in a similar way to the LSTM.\n",
    "\n",
    "- The baseline should be as a [📚 Keras Lambda Layer](https://www.tensorflow.org/api_docs/python/tf/keras/layers/Lambda)\n",
    "- It should not even need a `fit` because it should have 0 trainable params\n",
    "- Then, compute the MAE for this FOLD and compare it with the MAE you obtained on the test set after training the LSTM \n",
    " \n",
    "<details>\n",
    "    <summary markdown='span'>💡 <i>Hint</i></summary>\n",
    "\n",
    "- Remember that `X_train[:,:,1]` is your temperature time-series (it's the second column in your `fold`) \n",
    "</details>\n"
   ]
  },
  {
   "cell_type": "code",
   "execution_count": 45,
   "metadata": {},
   "outputs": [],
   "source": [
    "from tensorflow.keras.layers import Lambda\n",
    "\n",
    "def init_baseline():\n",
    "\n",
    "    # $CHALLENGIFY_BEGIN\n",
    "    model = models.Sequential()\n",
    "    model.add(layers.Lambda(lambda x: x[:,-1,1,None]))\n",
    "\n",
    "    adam = optimizers.Adam(learning_rate=0.02)\n",
    "    model.compile(loss='mse', optimizer=adam, metrics=[\"mae\"])\n",
    "\n",
    "    return model\n",
    "    # $CHALLENGIFY_END"
   ]
  },
  {
   "cell_type": "code",
   "execution_count": 46,
   "metadata": {},
   "outputs": [
    {
     "name": "stdout",
     "output_type": "stream",
     "text": [
      "94/94 [==============================] - 0s 860us/step - loss: 7.8747 - mae: 2.0629\n",
      "- The Baseline MAE on the test set is equal to 2.06 Celsius degrees\n"
     ]
    }
   ],
   "source": [
    "baseline_model = init_baseline()\n",
    "baseline_score = baseline_model.evaluate(X_test, y_test)\n",
    "print(f\"- The Baseline MAE on the test set is equal to {round(baseline_score[1],2)} Celsius degrees\")"
   ]
  },
  {
   "cell_type": "code",
   "execution_count": 47,
   "metadata": {},
   "outputs": [
    {
     "name": "stdout",
     "output_type": "stream",
     "text": [
      "- The LSTM MAE on the test set is equal to 1.8 Celsius degrees\n",
      "🔥 Improvement of the LSTM model over the baseline (on this fold for the test set) = : 12.64 % 🔥\n"
     ]
    }
   ],
   "source": [
    "print(f\"- The LSTM MAE on the test set is equal to {round(res[1],2)} Celsius degrees\")\n",
    "print(f\"🔥 Improvement of the LSTM model over the baseline (on this fold for the test set) = : {round((1 - (res[1]/baseline_score[1]))*100,2)} % 🔥\")"
   ]
  },
  {
   "cell_type": "markdown",
   "metadata": {},
   "source": [
    "## (2.3) Cross-Validation"
   ]
  },
  {
   "cell_type": "markdown",
   "metadata": {},
   "source": [
    "Remember **\"The big picture\"** ? \n",
    "\n",
    "<br>\n",
    "\n",
    "<details>\n",
    "    <summary markdown='span'><i>The big picture</i></summary>\n",
    "\n",
    "\n",
    "<b><u>Step 1: Cross-Validation in Time Series [FOLDS] </u></b>\n",
    "\n",
    "* Starting from this single Time Series, we will create <font color=\"#c91ac9\">**FOLDS**</font>...\n",
    "* ... and train/evaluate our LSTM on these different <font color=\"#c91ac9\">**FOLDS**</font> to conclude about the robustness of the neural network\n",
    "* It is very common to create ***hundreds*** of <font color=\"#c91ac9\">**FOLDS**</font> in Time Series forecasting, so as to cover all type of external conditions: e.g.\n",
    "    - crash market periods 📉\n",
    "    - bull markets 📈\n",
    "    - atone markets 😴, etc...\n",
    "\n",
    "<b><u>Step 2: Holdout method within each fold [TRAIN-TEST SPLIT]</u></b>\n",
    "\n",
    "* For each <font color=\"#c91ac9\">**FOLD**</font>, we will do a TRAIN-TEST SPLIT to:\n",
    "    * <font color=blue>**fit**</font> the model on the <font color=blue>**train**</font> set \n",
    "    * and <font color=\"#ff8005\">**evaluate**</font> it on the <font color=\"#ff8005\">**test**</font> set\n",
    "    * Always split the train set **chronologically** before the test set!\n",
    "\n",
    "👇 The first two steps can be summarized in the following image that contains 4 FOLDS:\n",
    "\n",
    "<img src=\"https://bit.ly/3yLoa92\" alt=\"Time Series Cross Validation\" width=\"500\" height=\"500\">\n",
    "\n",
    "\n",
    "<b><u>Step 3: Sampling SEQUENCES in both the train set and the test set</u></b>\n",
    "\n",
    "In each <font color=blue>**train**</font> set and each <font color=\"#ff8005\">**test**</font> set, we will create <font color=magenta>**random sequences**</font> as illustrated down below 👇:\n",
    "\n",
    "<img src=\"https://bit.ly/3Ri8Vfd\" alt=\"Sequences in each fold\" width=\"500\" height=\"500\"> \n",
    "\n",
    "\n",
    "</details>\n",
    "\n",
    "❗️ ***Warnings*** ❗️\n",
    "\n",
    "* Keep in mind that we did <u><i>step 2</i></u> (<font color=\"blue\">train</font>/<font color=\"orange\">test</font> split) and <u><i>step 3</i></u> (get_X_y) only **<font color=\"#c91ac9\">for one single FOLD</font>**. \n",
    "* ***If we want to ensure the robustness of a model, we need to <font color=\"\">cross-validate the model on <font color=\"#c91ac9\">ALL the folds</font>!***\n"
   ]
  },
  {
   "cell_type": "code",
   "execution_count": 48,
   "metadata": {},
   "outputs": [
    {
     "name": "stdout",
     "output_type": "stream",
     "text": [
      "N_FEATURES = 19\n",
      "N_TARGETS = 1\n",
      "\n",
      "FOLD_LENGTH = 8760\n",
      "FOLD_STRIDE = 728\n",
      "TRAIN_TEST_RATIO = 0.66\n",
      "\n",
      "N_TRAIN = 6666\n",
      "N_TEST = 3333\n",
      "INPUT_LENGTH = 112\n",
      "OUTPUT_LENGTH = 1\n"
     ]
    }
   ],
   "source": [
    "# Reminders of the global variables in this notebook\n",
    "\n",
    "print(f'N_FEATURES = {N_FEATURES}') \n",
    "print(f'N_TARGETS = {N_TARGETS}') \n",
    "print('')\n",
    "print(f'FOLD_LENGTH = {FOLD_LENGTH}')\n",
    "print(f'FOLD_STRIDE = {FOLD_STRIDE}')\n",
    "print(f'TRAIN_TEST_RATIO = {TRAIN_TEST_RATIO}')\n",
    "print('')\n",
    "print(f'N_TRAIN = {N_TRAIN}')\n",
    "print(f'N_TEST = {N_TEST}')\n",
    "print(f'INPUT_LENGTH = {INPUT_LENGTH}')\n",
    "print(f'OUTPUT_LENGTH = {OUTPUT_LENGTH}')\n"
   ]
  },
  {
   "cell_type": "code",
   "execution_count": 49,
   "metadata": {},
   "outputs": [
    {
     "name": "stdout",
     "output_type": "stream",
     "text": [
      "WARNING, we have 21 FOLDS, so you may want to run the cross-validation of the RNN on Colab.\n"
     ]
    }
   ],
   "source": [
    "# Remember how many folds do we have ?\n",
    "folds = get_folds(df, FOLD_LENGTH, FOLD_STRIDE)\n",
    "\n",
    "print(f\"WARNING, we have {len(folds)} FOLDS, so you may want to run the cross-validation of the RNN on Colab.\")"
   ]
  },
  {
   "cell_type": "markdown",
   "metadata": {},
   "source": [
    "**❓ Cross validate your baseline and your model in a for-loop!❓**\n",
    "\n",
    "Re-using your previously defined methods\n",
    "- `get_folds`\n",
    "- `train_test_split`\n",
    "- `get_X_y`\n",
    "- `init_model`\n",
    "- `init_baseline`"
   ]
  },
  {
   "cell_type": "code",
   "execution_count": 50,
   "metadata": {},
   "outputs": [],
   "source": [
    "from tensorflow.keras.callbacks import EarlyStopping\n",
    "\n",
    "def cross_validate_baseline_and_lstm():\n",
    "    '''\n",
    "    This function cross-validates \n",
    "    - the \"last seen value\" baseline model\n",
    "    - the RNN model\n",
    "    '''\n",
    "    \n",
    "    list_of_mae_baseline_model = []\n",
    "    list_of_mae_recurrent_model = []\n",
    "    \n",
    "    # 0 - Creating folds\n",
    "    # =========================================    \n",
    "    folds = get_folds(df, FOLD_LENGTH, FOLD_STRIDE)\n",
    "    \n",
    "    for fold_id, fold in enumerate(folds):\n",
    "        \n",
    "        # 1 - Train/Test split the current fold\n",
    "        # =========================================\n",
    "        (fold_train, fold_test) = train_test_split(fold, TRAIN_TEST_RATIO, INPUT_LENGTH)                   \n",
    "\n",
    "        X_train, y_train = get_X_y(fold_train, N_TRAIN, INPUT_LENGTH, OUTPUT_LENGTH)\n",
    "        X_test, y_test = get_X_y(fold_test, N_TEST, INPUT_LENGTH, OUTPUT_LENGTH)\n",
    "        \n",
    "        # 2 - Modelling\n",
    "        # =========================================\n",
    "        \n",
    "        ##### Baseline Model\n",
    "        baseline_model = init_baseline()\n",
    "        mae_baseline = baseline_model.evaluate(X_test, y_test, verbose=0)[1]\n",
    "        list_of_mae_baseline_model.append(mae_baseline)\n",
    "        print(\"-\"*50)\n",
    "        print(f\"MAE baseline fold n°{fold_id} = {round(mae_baseline, 2)}\")\n",
    "\n",
    "        ##### LSTM Model\n",
    "        model = init_model(X_train, y_train)\n",
    "        es = EarlyStopping(monitor = \"val_mae\",\n",
    "                           mode = \"min\",\n",
    "                           patience = 2, \n",
    "                           restore_best_weights = True)\n",
    "        history = model.fit(X_train, y_train,\n",
    "                            validation_split = 0.3,\n",
    "                            shuffle = False,\n",
    "                            batch_size = 32,\n",
    "                            epochs = 50,\n",
    "                            callbacks = [es],\n",
    "                            verbose = 0)\n",
    "        res = model.evaluate(X_test, y_test, verbose=0)\n",
    "        mae_lstm = res[1]\n",
    "        list_of_mae_recurrent_model.append(mae_lstm)\n",
    "        print(f\"MAE LSTM fold n°{fold_id} = {round(mae_lstm, 2)}\")\n",
    "        \n",
    "        ##### Comparison LSTM vs Baseline for the current fold\n",
    "        print(f\"🏋🏽‍♂️ improvement over baseline: {round((1 - (mae_lstm/mae_baseline))*100,2)} % \\n\")\n",
    "\n",
    "    return list_of_mae_baseline_model, list_of_mae_recurrent_model"
   ]
  },
  {
   "cell_type": "code",
   "execution_count": 51,
   "metadata": {},
   "outputs": [
    {
     "name": "stdout",
     "output_type": "stream",
     "text": [
      "--------------------------------------------------\n",
      "MAE baseline fold n°0 = 2.04\n"
     ]
    },
    {
     "ename": "KeyboardInterrupt",
     "evalue": "",
     "output_type": "error",
     "traceback": [
      "\u001b[0;31m---------------------------------------------------------------------------\u001b[0m",
      "\u001b[0;31mKeyboardInterrupt\u001b[0m                         Traceback (most recent call last)",
      "\u001b[0;32m<timed exec>\u001b[0m in \u001b[0;36m<module>\u001b[0;34m\u001b[0m\n",
      "\u001b[0;32m<ipython-input-50-1da79ba5306c>\u001b[0m in \u001b[0;36mcross_validate_baseline_and_lstm\u001b[0;34m()\u001b[0m\n\u001b[1;32m     40\u001b[0m                            \u001b[0mpatience\u001b[0m \u001b[0;34m=\u001b[0m \u001b[0;36m2\u001b[0m\u001b[0;34m,\u001b[0m\u001b[0;34m\u001b[0m\u001b[0;34m\u001b[0m\u001b[0m\n\u001b[1;32m     41\u001b[0m                            restore_best_weights = True)\n\u001b[0;32m---> 42\u001b[0;31m         history = model.fit(X_train, y_train,\n\u001b[0m\u001b[1;32m     43\u001b[0m                             \u001b[0mvalidation_split\u001b[0m \u001b[0;34m=\u001b[0m \u001b[0;36m0.3\u001b[0m\u001b[0;34m,\u001b[0m\u001b[0;34m\u001b[0m\u001b[0;34m\u001b[0m\u001b[0m\n\u001b[1;32m     44\u001b[0m                             \u001b[0mshuffle\u001b[0m \u001b[0;34m=\u001b[0m \u001b[0;32mFalse\u001b[0m\u001b[0;34m,\u001b[0m\u001b[0;34m\u001b[0m\u001b[0;34m\u001b[0m\u001b[0m\n",
      "\u001b[0;32m~/.local/lib/python3.8/site-packages/keras/utils/traceback_utils.py\u001b[0m in \u001b[0;36merror_handler\u001b[0;34m(*args, **kwargs)\u001b[0m\n\u001b[1;32m     62\u001b[0m     \u001b[0mfiltered_tb\u001b[0m \u001b[0;34m=\u001b[0m \u001b[0;32mNone\u001b[0m\u001b[0;34m\u001b[0m\u001b[0;34m\u001b[0m\u001b[0m\n\u001b[1;32m     63\u001b[0m     \u001b[0;32mtry\u001b[0m\u001b[0;34m:\u001b[0m\u001b[0;34m\u001b[0m\u001b[0;34m\u001b[0m\u001b[0m\n\u001b[0;32m---> 64\u001b[0;31m       \u001b[0;32mreturn\u001b[0m \u001b[0mfn\u001b[0m\u001b[0;34m(\u001b[0m\u001b[0;34m*\u001b[0m\u001b[0margs\u001b[0m\u001b[0;34m,\u001b[0m \u001b[0;34m**\u001b[0m\u001b[0mkwargs\u001b[0m\u001b[0;34m)\u001b[0m\u001b[0;34m\u001b[0m\u001b[0;34m\u001b[0m\u001b[0m\n\u001b[0m\u001b[1;32m     65\u001b[0m     \u001b[0;32mexcept\u001b[0m \u001b[0mException\u001b[0m \u001b[0;32mas\u001b[0m \u001b[0me\u001b[0m\u001b[0;34m:\u001b[0m  \u001b[0;31m# pylint: disable=broad-except\u001b[0m\u001b[0;34m\u001b[0m\u001b[0;34m\u001b[0m\u001b[0m\n\u001b[1;32m     66\u001b[0m       \u001b[0mfiltered_tb\u001b[0m \u001b[0;34m=\u001b[0m \u001b[0m_process_traceback_frames\u001b[0m\u001b[0;34m(\u001b[0m\u001b[0me\u001b[0m\u001b[0;34m.\u001b[0m\u001b[0m__traceback__\u001b[0m\u001b[0;34m)\u001b[0m\u001b[0;34m\u001b[0m\u001b[0;34m\u001b[0m\u001b[0m\n",
      "\u001b[0;32m~/.local/lib/python3.8/site-packages/keras/engine/training.py\u001b[0m in \u001b[0;36mfit\u001b[0;34m(self, x, y, batch_size, epochs, verbose, callbacks, validation_split, validation_data, shuffle, class_weight, sample_weight, initial_epoch, steps_per_epoch, validation_steps, validation_batch_size, validation_freq, max_queue_size, workers, use_multiprocessing)\u001b[0m\n\u001b[1;32m   1407\u001b[0m                 _r=1):\n\u001b[1;32m   1408\u001b[0m               \u001b[0mcallbacks\u001b[0m\u001b[0;34m.\u001b[0m\u001b[0mon_train_batch_begin\u001b[0m\u001b[0;34m(\u001b[0m\u001b[0mstep\u001b[0m\u001b[0;34m)\u001b[0m\u001b[0;34m\u001b[0m\u001b[0;34m\u001b[0m\u001b[0m\n\u001b[0;32m-> 1409\u001b[0;31m               \u001b[0mtmp_logs\u001b[0m \u001b[0;34m=\u001b[0m \u001b[0mself\u001b[0m\u001b[0;34m.\u001b[0m\u001b[0mtrain_function\u001b[0m\u001b[0;34m(\u001b[0m\u001b[0miterator\u001b[0m\u001b[0;34m)\u001b[0m\u001b[0;34m\u001b[0m\u001b[0;34m\u001b[0m\u001b[0m\n\u001b[0m\u001b[1;32m   1410\u001b[0m               \u001b[0;32mif\u001b[0m \u001b[0mdata_handler\u001b[0m\u001b[0;34m.\u001b[0m\u001b[0mshould_sync\u001b[0m\u001b[0;34m:\u001b[0m\u001b[0;34m\u001b[0m\u001b[0;34m\u001b[0m\u001b[0m\n\u001b[1;32m   1411\u001b[0m                 \u001b[0mcontext\u001b[0m\u001b[0;34m.\u001b[0m\u001b[0masync_wait\u001b[0m\u001b[0;34m(\u001b[0m\u001b[0;34m)\u001b[0m\u001b[0;34m\u001b[0m\u001b[0;34m\u001b[0m\u001b[0m\n",
      "\u001b[0;32m~/.local/lib/python3.8/site-packages/tensorflow/python/util/traceback_utils.py\u001b[0m in \u001b[0;36merror_handler\u001b[0;34m(*args, **kwargs)\u001b[0m\n\u001b[1;32m    148\u001b[0m     \u001b[0mfiltered_tb\u001b[0m \u001b[0;34m=\u001b[0m \u001b[0;32mNone\u001b[0m\u001b[0;34m\u001b[0m\u001b[0;34m\u001b[0m\u001b[0m\n\u001b[1;32m    149\u001b[0m     \u001b[0;32mtry\u001b[0m\u001b[0;34m:\u001b[0m\u001b[0;34m\u001b[0m\u001b[0;34m\u001b[0m\u001b[0m\n\u001b[0;32m--> 150\u001b[0;31m       \u001b[0;32mreturn\u001b[0m \u001b[0mfn\u001b[0m\u001b[0;34m(\u001b[0m\u001b[0;34m*\u001b[0m\u001b[0margs\u001b[0m\u001b[0;34m,\u001b[0m \u001b[0;34m**\u001b[0m\u001b[0mkwargs\u001b[0m\u001b[0;34m)\u001b[0m\u001b[0;34m\u001b[0m\u001b[0;34m\u001b[0m\u001b[0m\n\u001b[0m\u001b[1;32m    151\u001b[0m     \u001b[0;32mexcept\u001b[0m \u001b[0mException\u001b[0m \u001b[0;32mas\u001b[0m \u001b[0me\u001b[0m\u001b[0;34m:\u001b[0m\u001b[0;34m\u001b[0m\u001b[0;34m\u001b[0m\u001b[0m\n\u001b[1;32m    152\u001b[0m       \u001b[0mfiltered_tb\u001b[0m \u001b[0;34m=\u001b[0m \u001b[0m_process_traceback_frames\u001b[0m\u001b[0;34m(\u001b[0m\u001b[0me\u001b[0m\u001b[0;34m.\u001b[0m\u001b[0m__traceback__\u001b[0m\u001b[0;34m)\u001b[0m\u001b[0;34m\u001b[0m\u001b[0;34m\u001b[0m\u001b[0m\n",
      "\u001b[0;32m~/.local/lib/python3.8/site-packages/tensorflow/python/eager/def_function.py\u001b[0m in \u001b[0;36m__call__\u001b[0;34m(self, *args, **kwds)\u001b[0m\n\u001b[1;32m    913\u001b[0m \u001b[0;34m\u001b[0m\u001b[0m\n\u001b[1;32m    914\u001b[0m       \u001b[0;32mwith\u001b[0m \u001b[0mOptionalXlaContext\u001b[0m\u001b[0;34m(\u001b[0m\u001b[0mself\u001b[0m\u001b[0;34m.\u001b[0m\u001b[0m_jit_compile\u001b[0m\u001b[0;34m)\u001b[0m\u001b[0;34m:\u001b[0m\u001b[0;34m\u001b[0m\u001b[0;34m\u001b[0m\u001b[0m\n\u001b[0;32m--> 915\u001b[0;31m         \u001b[0mresult\u001b[0m \u001b[0;34m=\u001b[0m \u001b[0mself\u001b[0m\u001b[0;34m.\u001b[0m\u001b[0m_call\u001b[0m\u001b[0;34m(\u001b[0m\u001b[0;34m*\u001b[0m\u001b[0margs\u001b[0m\u001b[0;34m,\u001b[0m \u001b[0;34m**\u001b[0m\u001b[0mkwds\u001b[0m\u001b[0;34m)\u001b[0m\u001b[0;34m\u001b[0m\u001b[0;34m\u001b[0m\u001b[0m\n\u001b[0m\u001b[1;32m    916\u001b[0m \u001b[0;34m\u001b[0m\u001b[0m\n\u001b[1;32m    917\u001b[0m       \u001b[0mnew_tracing_count\u001b[0m \u001b[0;34m=\u001b[0m \u001b[0mself\u001b[0m\u001b[0;34m.\u001b[0m\u001b[0mexperimental_get_tracing_count\u001b[0m\u001b[0;34m(\u001b[0m\u001b[0;34m)\u001b[0m\u001b[0;34m\u001b[0m\u001b[0;34m\u001b[0m\u001b[0m\n",
      "\u001b[0;32m~/.local/lib/python3.8/site-packages/tensorflow/python/eager/def_function.py\u001b[0m in \u001b[0;36m_call\u001b[0;34m(self, *args, **kwds)\u001b[0m\n\u001b[1;32m    945\u001b[0m       \u001b[0;31m# In this case we have created variables on the first call, so we run the\u001b[0m\u001b[0;34m\u001b[0m\u001b[0;34m\u001b[0m\u001b[0;34m\u001b[0m\u001b[0m\n\u001b[1;32m    946\u001b[0m       \u001b[0;31m# defunned version which is guaranteed to never create variables.\u001b[0m\u001b[0;34m\u001b[0m\u001b[0;34m\u001b[0m\u001b[0;34m\u001b[0m\u001b[0m\n\u001b[0;32m--> 947\u001b[0;31m       \u001b[0;32mreturn\u001b[0m \u001b[0mself\u001b[0m\u001b[0;34m.\u001b[0m\u001b[0m_stateless_fn\u001b[0m\u001b[0;34m(\u001b[0m\u001b[0;34m*\u001b[0m\u001b[0margs\u001b[0m\u001b[0;34m,\u001b[0m \u001b[0;34m**\u001b[0m\u001b[0mkwds\u001b[0m\u001b[0;34m)\u001b[0m  \u001b[0;31m# pylint: disable=not-callable\u001b[0m\u001b[0;34m\u001b[0m\u001b[0;34m\u001b[0m\u001b[0m\n\u001b[0m\u001b[1;32m    948\u001b[0m     \u001b[0;32melif\u001b[0m \u001b[0mself\u001b[0m\u001b[0;34m.\u001b[0m\u001b[0m_stateful_fn\u001b[0m \u001b[0;32mis\u001b[0m \u001b[0;32mnot\u001b[0m \u001b[0;32mNone\u001b[0m\u001b[0;34m:\u001b[0m\u001b[0;34m\u001b[0m\u001b[0;34m\u001b[0m\u001b[0m\n\u001b[1;32m    949\u001b[0m       \u001b[0;31m# Release the lock early so that multiple threads can perform the call\u001b[0m\u001b[0;34m\u001b[0m\u001b[0;34m\u001b[0m\u001b[0;34m\u001b[0m\u001b[0m\n",
      "\u001b[0;32m~/.local/lib/python3.8/site-packages/tensorflow/python/eager/function.py\u001b[0m in \u001b[0;36m__call__\u001b[0;34m(self, *args, **kwargs)\u001b[0m\n\u001b[1;32m   2451\u001b[0m       (graph_function,\n\u001b[1;32m   2452\u001b[0m        filtered_flat_args) = self._maybe_define_function(args, kwargs)\n\u001b[0;32m-> 2453\u001b[0;31m     return graph_function._call_flat(\n\u001b[0m\u001b[1;32m   2454\u001b[0m         filtered_flat_args, captured_inputs=graph_function.captured_inputs)  # pylint: disable=protected-access\n\u001b[1;32m   2455\u001b[0m \u001b[0;34m\u001b[0m\u001b[0m\n",
      "\u001b[0;32m~/.local/lib/python3.8/site-packages/tensorflow/python/eager/function.py\u001b[0m in \u001b[0;36m_call_flat\u001b[0;34m(self, args, captured_inputs, cancellation_manager)\u001b[0m\n\u001b[1;32m   1858\u001b[0m         and executing_eagerly):\n\u001b[1;32m   1859\u001b[0m       \u001b[0;31m# No tape is watching; skip to running the function.\u001b[0m\u001b[0;34m\u001b[0m\u001b[0;34m\u001b[0m\u001b[0;34m\u001b[0m\u001b[0m\n\u001b[0;32m-> 1860\u001b[0;31m       return self._build_call_outputs(self._inference_function.call(\n\u001b[0m\u001b[1;32m   1861\u001b[0m           ctx, args, cancellation_manager=cancellation_manager))\n\u001b[1;32m   1862\u001b[0m     forward_backward = self._select_forward_and_backward_functions(\n",
      "\u001b[0;32m~/.local/lib/python3.8/site-packages/tensorflow/python/eager/function.py\u001b[0m in \u001b[0;36mcall\u001b[0;34m(self, ctx, args, cancellation_manager)\u001b[0m\n\u001b[1;32m    495\u001b[0m       \u001b[0;32mwith\u001b[0m \u001b[0m_InterpolateFunctionError\u001b[0m\u001b[0;34m(\u001b[0m\u001b[0mself\u001b[0m\u001b[0;34m)\u001b[0m\u001b[0;34m:\u001b[0m\u001b[0;34m\u001b[0m\u001b[0;34m\u001b[0m\u001b[0m\n\u001b[1;32m    496\u001b[0m         \u001b[0;32mif\u001b[0m \u001b[0mcancellation_manager\u001b[0m \u001b[0;32mis\u001b[0m \u001b[0;32mNone\u001b[0m\u001b[0;34m:\u001b[0m\u001b[0;34m\u001b[0m\u001b[0;34m\u001b[0m\u001b[0m\n\u001b[0;32m--> 497\u001b[0;31m           outputs = execute.execute(\n\u001b[0m\u001b[1;32m    498\u001b[0m               \u001b[0mstr\u001b[0m\u001b[0;34m(\u001b[0m\u001b[0mself\u001b[0m\u001b[0;34m.\u001b[0m\u001b[0msignature\u001b[0m\u001b[0;34m.\u001b[0m\u001b[0mname\u001b[0m\u001b[0;34m)\u001b[0m\u001b[0;34m,\u001b[0m\u001b[0;34m\u001b[0m\u001b[0;34m\u001b[0m\u001b[0m\n\u001b[1;32m    499\u001b[0m               \u001b[0mnum_outputs\u001b[0m\u001b[0;34m=\u001b[0m\u001b[0mself\u001b[0m\u001b[0;34m.\u001b[0m\u001b[0m_num_outputs\u001b[0m\u001b[0;34m,\u001b[0m\u001b[0;34m\u001b[0m\u001b[0;34m\u001b[0m\u001b[0m\n",
      "\u001b[0;32m~/.local/lib/python3.8/site-packages/tensorflow/python/eager/execute.py\u001b[0m in \u001b[0;36mquick_execute\u001b[0;34m(op_name, num_outputs, inputs, attrs, ctx, name)\u001b[0m\n\u001b[1;32m     52\u001b[0m   \u001b[0;32mtry\u001b[0m\u001b[0;34m:\u001b[0m\u001b[0;34m\u001b[0m\u001b[0;34m\u001b[0m\u001b[0m\n\u001b[1;32m     53\u001b[0m     \u001b[0mctx\u001b[0m\u001b[0;34m.\u001b[0m\u001b[0mensure_initialized\u001b[0m\u001b[0;34m(\u001b[0m\u001b[0;34m)\u001b[0m\u001b[0;34m\u001b[0m\u001b[0;34m\u001b[0m\u001b[0m\n\u001b[0;32m---> 54\u001b[0;31m     tensors = pywrap_tfe.TFE_Py_Execute(ctx._handle, device_name, op_name,\n\u001b[0m\u001b[1;32m     55\u001b[0m                                         inputs, attrs, num_outputs)\n\u001b[1;32m     56\u001b[0m   \u001b[0;32mexcept\u001b[0m \u001b[0mcore\u001b[0m\u001b[0;34m.\u001b[0m\u001b[0m_NotOkStatusException\u001b[0m \u001b[0;32mas\u001b[0m \u001b[0me\u001b[0m\u001b[0;34m:\u001b[0m\u001b[0;34m\u001b[0m\u001b[0;34m\u001b[0m\u001b[0m\n",
      "\u001b[0;31mKeyboardInterrupt\u001b[0m: "
     ]
    }
   ],
   "source": [
    "%%time\n",
    "# WARNING : it takes 75 minutes to run this cell \n",
    "mae_baselines, mae_lstms = cross_validate_baseline_and_lstm()"
   ]
  },
  {
   "cell_type": "code",
   "execution_count": null,
   "metadata": {},
   "outputs": [
    {
     "name": "stdout",
     "output_type": "stream",
     "text": [
      "average percentage improvement over baseline = 34.0%\n"
     ]
    }
   ],
   "source": [
    "print(f\"average percentage improvement over baseline = {round(np.mean(1 - (np.array(mae_lstms)/np.array(mae_baselines))),2)*100}%\")"
   ]
  },
  {
   "cell_type": "markdown",
   "metadata": {},
   "source": [
    "## Acknowledgments"
   ]
  },
  {
   "cell_type": "markdown",
   "metadata": {},
   "source": [
    "* This challenge was truly inspired by the `Time Series Forecasting` tutorial from `Google>Tensorflow>Keras`\n",
    "* The technical functions were inspired by Bruno Lajoie's [data-template package about Time Series](https://github.com/lewagon/data-templates/tree/main/project-boilerplates)"
   ]
  },
  {
   "cell_type": "markdown",
   "id": "5b323e59",
   "metadata": {},
   "source": []
  },
  {
   "cell_type": "markdown",
   "id": "a3c9e8ad",
   "metadata": {},
   "source": []
  }
 ],
 "metadata": {
  "kernelspec": {
   "display_name": "Python 3.8.10 64-bit",
   "language": "python",
   "name": "python3"
  },
  "language_info": {
   "codemirror_mode": {
    "name": "ipython",
    "version": 3
   },
   "file_extension": ".py",
   "mimetype": "text/x-python",
   "name": "python",
   "nbconvert_exporter": "python",
   "pygments_lexer": "ipython3",
   "version": "3.8.10"
  },
  "vscode": {
   "interpreter": {
    "hash": "31f2aee4e71d21fbe5cf8b01ff0e069b9275f58929596ceb00d14d90e3e16cd6"
   }
  }
 },
 "nbformat": 4,
 "nbformat_minor": 5
}
