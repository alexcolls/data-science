{
 "cells": [
  {
   "cell_type": "markdown",
   "metadata": {},
   "source": [
    "# Recap\n",
    "\n",
    "We will go through the main issues you will face when working with Recurrent Neural Networks that are designed to deal with time-series"
   ]
  },
  {
   "cell_type": "markdown",
   "metadata": {},
   "source": [
    "# Part 1: How to make a proper Time Series Split?"
   ]
  },
  {
   "cell_type": "markdown",
   "metadata": {},
   "source": [
    "### First, split your time series into different SEQUENCES of (observations, target)"
   ]
  },
  {
   "cell_type": "markdown",
   "metadata": {},
   "source": [
    "<img src='https://github.com/lewagon/data-images/blob/master/DL/rnn-1.png?raw=true'>"
   ]
  },
  {
   "cell_type": "markdown",
   "metadata": {},
   "source": [
    "### ❓ How to avoid data leakage?"
   ]
  },
  {
   "cell_type": "markdown",
   "metadata": {},
   "source": [
    "Always split your training set *chronologically before* your test set\n",
    "\n",
    "👇 e.g. 4-time cross validation split"
   ]
  },
  {
   "cell_type": "markdown",
   "metadata": {},
   "source": [
    "<img src='https://github.com/lewagon/data-images/blob/master/DL/rnn-2.png?raw=true'>"
   ]
  },
  {
   "cell_type": "markdown",
   "metadata": {},
   "source": [
    "### ❓ Why do we need a \"gap\" between each train & test split?"
   ]
  },
  {
   "cell_type": "markdown",
   "metadata": {},
   "source": [
    "👇 Below is a zoom inside **one** single split\n",
    "\n",
    "A gap of size `horizon - 1` is mandatory to reflect real situations:\n",
    "- Here the forecast horizon is `4` days\n",
    "- Let's say we want our train set to end by predicting day `10` based on days before `4, 5, 6`\n",
    "- In a real situation we would need to **wait** until day `10` to discover the true value of `y` on which to finalize training\n",
    "- Therefore, the test set can only start on day `10`, which is meant to predict `y_test = 10 + 4`"
   ]
  },
  {
   "cell_type": "markdown",
   "metadata": {},
   "source": [
    "<span style='color:#2F8C41;font-size:20px'>horizon $h = 4$</span>\n",
    "\n",
    "$$ \\Large X^{t+\\color{green}4} = f(X^t, X^{t-1}, X^{t-2}) $$\n",
    "\n",
    "<img src='https://github.com/lewagon/data-images/blob/master/DL/rnn-3.png?raw=true'>"
   ]
  },
  {
   "cell_type": "markdown",
   "metadata": {},
   "source": [
    "✅ Use [sklearn](https://scikit-learn.org/stable/modules/generated/sklearn.model_selection.TimeSeriesSplit.html) `TimeSeriesSplit(n_splits = ..., gap=...)`"
   ]
  },
  {
   "cell_type": "markdown",
   "metadata": {},
   "source": [
    "# Part 2: Air Pollution Solution"
   ]
  },
  {
   "cell_type": "markdown",
   "metadata": {},
   "source": [
    "<img src='https://github.com/lewagon/data-images/blob/master/DL/rnn-4.png?raw=true'>"
   ]
  },
  {
   "cell_type": "markdown",
   "metadata": {},
   "source": [
    "## 2.1 Data\n",
    "\n",
    "❓ **Question** ❓ We will load the data from the third and fourth exercise. Load the data, and keep only the following columns:  `['pm2.5', 'TEMP', 'DEWP', 'PRES', 'Ir', 'Is', 'Iws']`"
   ]
  },
  {
   "cell_type": "code",
   "execution_count": null,
   "metadata": {},
   "outputs": [],
   "source": [
    "import pandas as pd\n",
    "\n",
    "df = pd.read_csv('data.txt', index_col=[0])\n",
    "df = df[['pm2.5', 'TEMP', 'DEWP', 'PRES', 'Ir', 'Is', 'Iws']]"
   ]
  },
  {
   "cell_type": "code",
   "execution_count": null,
   "metadata": {},
   "outputs": [],
   "source": [
    "df"
   ]
  },
  {
   "cell_type": "markdown",
   "metadata": {},
   "source": [
    "❓ **Question** ❓ For the sake of simplicity, fill in the missing values with mean of the entire dataset."
   ]
  },
  {
   "cell_type": "code",
   "execution_count": null,
   "metadata": {},
   "outputs": [],
   "source": [
    "df = df.fillna(df.mean())"
   ]
  },
  {
   "cell_type": "markdown",
   "metadata": {},
   "source": [
    "Usually, in classic settings, there is multiple independent sequences $X$, each with a corresponding $y$.\n",
    "However, it often happens that we don't have access to multiple sequences $X$, but to only one very long sequence as it is the case here. In this case, experts usually split it into multiple sub-sequences.\n",
    "\n",
    "\n",
    "❓ **Question** ❓ Write a function that is able to get a subsequence $X$ and its respective $y$ which corresponds to the air pollution **5 days** after the last observation. The length of the subsequence should be an argument of the function"
   ]
  },
  {
   "cell_type": "code",
   "execution_count": null,
   "metadata": {},
   "outputs": [],
   "source": [
    "import numpy as np\n",
    "\n",
    "def subsample_sequence(df, length):\n",
    "    pass  # YOUR CODE HERE\n",
    "    return X, y\n",
    "\n",
    "subsample_sequence(df, 10)"
   ]
  },
  {
   "cell_type": "markdown",
   "metadata": {},
   "source": [
    "❓ **Question** ❓ Given a list of integers, write a function that subsamples the initial dataset as many times as there are integers in the list. The length of each sequence is the value of the integer in that list."
   ]
  },
  {
   "cell_type": "code",
   "execution_count": null,
   "metadata": {},
   "outputs": [],
   "source": [
    "def get_X_y(df, length_of_observations):\n",
    "    X, y = [], []\n",
    "    pass  # YOUR CODE HERE\n",
    "    return X, y\n",
    "\n",
    "length_of_observations = np.random.randint(10, 15, 100)\n",
    "X, y = get_X_y(df, length_of_observations)"
   ]
  },
  {
   "cell_type": "markdown",
   "metadata": {},
   "source": [
    "❓ **Question** ❓ If you split the data into a train and test set _after_ creating the shorter sequences, you risk having the same values in the train and test set, which is data leakage. Therefore, split your train and test set and then, get your training and test sequences and their corresponding output.\n",
    "\n",
    "❗️ Beware of the gap required between train and test!"
   ]
  },
  {
   "cell_type": "code",
   "execution_count": null,
   "metadata": {},
   "outputs": [],
   "source": [
    "horizon = ...\n",
    "\n",
    "df_train = ...\n",
    "df_test = ..."
   ]
  },
  {
   "cell_type": "code",
   "execution_count": null,
   "metadata": {},
   "outputs": [],
   "source": [
    "length_of_observations = np.random.randint(10, 15, 100)\n",
    "X_train, y_train = get_X_y(df_train, length_of_observations)\n",
    "\n",
    "length_of_observations = np.random.randint(10, 15, 100)\n",
    "X_test, y_test = get_X_y(df_test, length_of_observations)"
   ]
  },
  {
   "cell_type": "markdown",
   "metadata": {},
   "source": [
    "Each sequence has a certain number of observations. But across sequences, this number of observations is not the same. Because the Neural Network is trained with *batches* of data, you must ensure that, once the sequences are concatenated, they can be represented as a tensor. This operation is called padding\n",
    "\n",
    "❓ From the sequences above, return a padded tensor (with the dedicated Keras function) and plot it."
   ]
  },
  {
   "cell_type": "code",
   "execution_count": null,
   "metadata": {},
   "outputs": [],
   "source": [
    "from tensorflow.keras.preprocessing.sequence import pad_sequences\n",
    "pass  # YOUR CODE HERE\n",
    "\n",
    "X_train_pad.shape"
   ]
  },
  {
   "cell_type": "markdown",
   "metadata": {},
   "source": [
    "## Model\n",
    "\n",
    "As you added data to your input just for computational reasons, your model has to know which one is useful or not. \n",
    "\n",
    "❓ Initialize a model and add a masking layer so that your model does not take the padded values into account. You have to tell this layer which value you used for the padding"
   ]
  },
  {
   "cell_type": "code",
   "execution_count": null,
   "metadata": {},
   "outputs": [],
   "source": [
    "from tensorflow.keras import Sequential, layers\n",
    "from tensorflow.keras.layers.experimental.preprocessing import Normalization"
   ]
  },
  {
   "cell_type": "code",
   "execution_count": null,
   "metadata": {
    "tags": [
     "challengify"
    ]
   },
   "outputs": [],
   "source": [
    "# YOUR CODE HERE"
   ]
  },
  {
   "cell_type": "markdown",
   "metadata": {},
   "source": [
    "❓ Compile your model"
   ]
  },
  {
   "cell_type": "code",
   "execution_count": null,
   "metadata": {
    "tags": [
     "challengify"
    ]
   },
   "outputs": [],
   "source": [
    "# YOUR CODE HERE"
   ]
  },
  {
   "cell_type": "markdown",
   "metadata": {},
   "source": [
    "❓ Train your model on the data"
   ]
  },
  {
   "cell_type": "code",
   "execution_count": null,
   "metadata": {
    "tags": [
     "challengify"
    ]
   },
   "outputs": [],
   "source": [
    "# YOUR CODE HERE"
   ]
  },
  {
   "cell_type": "code",
   "execution_count": null,
   "metadata": {},
   "outputs": [],
   "source": []
  }
 ],
 "metadata": {
  "kernelspec": {
   "display_name": "Python 3",
   "language": "python",
   "name": "python3"
  }
 },
 "nbformat": 4,
 "nbformat_minor": 4
}
