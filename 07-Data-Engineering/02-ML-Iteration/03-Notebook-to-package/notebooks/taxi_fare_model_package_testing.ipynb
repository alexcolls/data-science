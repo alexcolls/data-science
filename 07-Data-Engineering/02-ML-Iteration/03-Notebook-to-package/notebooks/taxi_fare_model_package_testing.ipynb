{
 "cells": [
  {
   "cell_type": "markdown",
   "metadata": {},
   "source": [
    "# Testing the TaxiFareModel package"
   ]
  },
  {
   "cell_type": "markdown",
   "metadata": {},
   "source": [
    "Make sure you have installed your package locally!"
   ]
  },
  {
   "cell_type": "code",
   "execution_count": null,
   "metadata": {},
   "outputs": [],
   "source": [
    "%load_ext autoreload\n",
    "%autoreload 2"
   ]
  },
  {
   "cell_type": "code",
   "execution_count": null,
   "metadata": {},
   "outputs": [
    {
     "data": {
      "text/plain": [
       "6.13"
      ]
     },
     "execution_count": null,
     "metadata": {},
     "output_type": "execute_result"
    }
   ],
   "source": [
    "from sklearn.model_selection import train_test_split\n",
    "from TaxiFareModel.data import get_data, clean_data\n",
    "from TaxiFareModel.trainer import Trainer\n",
    "\n",
    "N = 10_000\n",
    "df = get_data(nrows=N)\n",
    "df = clean_data(df)\n",
    "y = df[\"fare_amount\"]\n",
    "X = df.drop(\"fare_amount\", axis=1)\n",
    "\n",
    "X_train, X_test, y_train, y_test = train_test_split(X, y, test_size=0.3)\n",
    "trainer = Trainer(X_train, y_train)\n",
    "trainer.run()\n",
    "trainer.evaluate(X_test, y_test)"
   ]
  },
  {
   "cell_type": "code",
   "execution_count": null,
   "metadata": {},
   "outputs": [],
   "source": []
  }
 ],
 "metadata": {
  "challengify": {
   "keep_output": true
  },
  "kernelspec": {
   "display_name": "Python 3",
   "language": "python",
   "name": "python3"
  }
 },
 "nbformat": 4,
 "nbformat_minor": 4
}
